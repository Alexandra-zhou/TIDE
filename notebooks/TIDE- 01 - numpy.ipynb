{
 "cells": [
  {
   "cell_type": "markdown",
   "metadata": {
    "collapsed": true
   },
   "source": [
    "# 1. Librairie Numpy"
   ]
  },
  {
   "cell_type": "code",
   "execution_count": 4,
   "metadata": {
    "collapsed": true,
    "scrolled": false
   },
   "outputs": [],
   "source": [
    "# import des modules usuels\n",
    "import numpy as np\n",
    "import matplotlib.pyplot as plt\n",
    "\n",
    "# commande magique pour l'affichage des graphiques\n",
    "%matplotlib inline\n",
    "\n",
    "# options d'affichage\n",
    "plt.style.use('seaborn-darkgrid')"
   ]
  },
  {
   "cell_type": "markdown",
   "metadata": {},
   "source": [
    "Numpy introduit des tableaux multidimensionnels ndarray.\n",
    "\n",
    "Un *ndarray* ou tableau multidimensionnel est une structure de données extrêmement puissante en Python.\n",
    "\n",
    "Les données manipulées peuvent être de différents types : entiers, flottants, booléens, chaines de caractères, etc.\n",
    "\n",
    "Ils supportent toutes les opérations standards :\n",
    "\n",
    "- arithmétique\n",
    "- mathématiques\n",
    "- logique\n",
    "- calcul vectoriel et matriciel\n",
    "- calculs d'agrégats\n",
    "\n",
    "Voir la documentation https://docs.scipy.org/doc/numpy-dev/user/quickstart.html"
   ]
  },
  {
   "cell_type": "markdown",
   "metadata": {},
   "source": [
    "## 1.1 Création d'un ndarray\n",
    "\n",
    "Il existe différentes méthodes pour créer un *ndarray*."
   ]
  },
  {
   "cell_type": "markdown",
   "metadata": {},
   "source": [
    "fonction (extrait)|usage\n",
    "-|-\n",
    "arange|vecteur de nombres également répartis dans un intervalle (pas)\n",
    "array|à partir d'un objet de type tableau\n",
    "zeros|retourne un *ndarray* nul\n",
    "zeros_like|retourne un *ndarray* nul aux dimensions identiques d'un autre *ndarray*\n",
    "ones|retourne un *ndarray* unité\n",
    "ones_like|retourne un *ndarray* unité aux dimensions identiques d'un autre *ndarray*\n",
    "eye|retourne une matrice nulle avec des 1 sur la première diagonale\n",
    "identity|retourne une matrice identité\n",
    "full|retourne une matrice avec une valeur uniforme\n",
    "linspace|vecteur de nombres également répartis dans un intervalle (nombre)"
   ]
  },
  {
   "cell_type": "code",
   "execution_count": 5,
   "metadata": {},
   "outputs": [
    {
     "data": {
      "text/plain": [
       "array([ 0,  1,  2,  3,  4,  5,  6,  7,  8,  9, 10, 11, 12, 13, 14, 15, 16,\n",
       "       17, 18, 19, 20, 21, 22, 23, 24, 25, 26, 27, 28, 29, 30, 31, 32, 33,\n",
       "       34, 35, 36, 37, 38, 39, 40, 41, 42, 43, 44, 45, 46, 47])"
      ]
     },
     "execution_count": 5,
     "metadata": {},
     "output_type": "execute_result"
    }
   ],
   "source": [
    "# création d'un vecteur (dimension 1)\n",
    "a = np.arange(48)\n",
    "a"
   ]
  },
  {
   "cell_type": "code",
   "execution_count": 6,
   "metadata": {
    "collapsed": true
   },
   "outputs": [],
   "source": [
    "a?"
   ]
  },
  {
   "cell_type": "code",
   "execution_count": 7,
   "metadata": {},
   "outputs": [
    {
     "data": {
      "text/plain": [
       "numpy.ndarray"
      ]
     },
     "execution_count": 7,
     "metadata": {},
     "output_type": "execute_result"
    }
   ],
   "source": [
    "type(a)"
   ]
  },
  {
   "cell_type": "code",
   "execution_count": 8,
   "metadata": {},
   "outputs": [
    {
     "data": {
      "text/plain": [
       "1"
      ]
     },
     "execution_count": 8,
     "metadata": {},
     "output_type": "execute_result"
    }
   ],
   "source": [
    "# nombre de dimensions d'un ndarray\n",
    "a.ndim"
   ]
  },
  {
   "cell_type": "code",
   "execution_count": 9,
   "metadata": {},
   "outputs": [
    {
     "data": {
      "text/plain": [
       "(48,)"
      ]
     },
     "execution_count": 9,
     "metadata": {},
     "output_type": "execute_result"
    }
   ],
   "source": [
    "# dimensions d'un ndarray\n",
    "a.shape"
   ]
  },
  {
   "cell_type": "code",
   "execution_count": 10,
   "metadata": {},
   "outputs": [
    {
     "data": {
      "text/plain": [
       "48"
      ]
     },
     "execution_count": 10,
     "metadata": {},
     "output_type": "execute_result"
    }
   ],
   "source": [
    "# nombre d'éléments d'un ndarray\n",
    "a.size"
   ]
  },
  {
   "cell_type": "code",
   "execution_count": 11,
   "metadata": {},
   "outputs": [
    {
     "data": {
      "text/plain": [
       "dtype('int32')"
      ]
     },
     "execution_count": 11,
     "metadata": {},
     "output_type": "execute_result"
    }
   ],
   "source": [
    "# type des éléments d'un ndarray\n",
    "a.dtype"
   ]
  },
  {
   "cell_type": "markdown",
   "metadata": {},
   "source": [
    "On peut créer manuellement un ndarray de nombres flottants."
   ]
  },
  {
   "cell_type": "code",
   "execution_count": 12,
   "metadata": {},
   "outputs": [
    {
     "data": {
      "text/plain": [
       "array([  0.,   1.,   2.,   3.,   4.,   5.,   6.,   7.,   8.,   9.,  10.,\n",
       "        11.,  12.,  13.,  14.,  15.,  16.,  17.,  18.,  19.,  20.,  21.,\n",
       "        22.,  23.,  24.,  25.,  26.,  27.,  28.,  29.,  30.,  31.,  32.,\n",
       "        33.,  34.,  35.,  36.,  37.,  38.,  39.,  40.,  41.,  42.,  43.,\n",
       "        44.,  45.,  46.,  47.])"
      ]
     },
     "execution_count": 12,
     "metadata": {},
     "output_type": "execute_result"
    }
   ],
   "source": [
    "a = np.array(range(48), float)\n",
    "a"
   ]
  },
  {
   "cell_type": "code",
   "execution_count": 13,
   "metadata": {},
   "outputs": [
    {
     "data": {
      "text/plain": [
       "dtype('float64')"
      ]
     },
     "execution_count": 13,
     "metadata": {},
     "output_type": "execute_result"
    }
   ],
   "source": [
    "a.dtype"
   ]
  },
  {
   "cell_type": "markdown",
   "metadata": {},
   "source": [
    "On peut créer explicitement un ndarray."
   ]
  },
  {
   "cell_type": "code",
   "execution_count": 14,
   "metadata": {},
   "outputs": [
    {
     "data": {
      "text/plain": [
       "array([[ 1.,  2.,  3.],\n",
       "       [ 4.,  5.,  6.],\n",
       "       [ 7.,  8.,  9.]])"
      ]
     },
     "execution_count": 14,
     "metadata": {},
     "output_type": "execute_result"
    }
   ],
   "source": [
    "# création explicite\n",
    "a = np.array([[1, 2, 3], [4, 5, 6], [7, 8, 9]], float)\n",
    "a"
   ]
  },
  {
   "cell_type": "code",
   "execution_count": 15,
   "metadata": {},
   "outputs": [
    {
     "data": {
      "text/plain": [
       "array([[ 0.,  0.,  0.],\n",
       "       [ 0.,  0.,  0.],\n",
       "       [ 0.,  0.,  0.]])"
      ]
     },
     "execution_count": 15,
     "metadata": {},
     "output_type": "execute_result"
    }
   ],
   "source": [
    "# matrice de 0 identique\n",
    "np.zeros_like(a)"
   ]
  },
  {
   "cell_type": "markdown",
   "metadata": {},
   "source": [
    "On peut créer un vecteur d'éléments uniformément répartis : intervalle fermé + nombre d'éléments (utile pour les graphiques)."
   ]
  },
  {
   "cell_type": "code",
   "execution_count": 16,
   "metadata": {},
   "outputs": [
    {
     "data": {
      "text/plain": [
       "array([   0.,    5.,   10.,   15.,   20.,   25.,   30.,   35.,   40.,\n",
       "         45.,   50.,   55.,   60.,   65.,   70.,   75.,   80.,   85.,\n",
       "         90.,   95.,  100.])"
      ]
     },
     "execution_count": 16,
     "metadata": {},
     "output_type": "execute_result"
    }
   ],
   "source": [
    "# vecteur d'éléments uniformément répartis\n",
    "a = np.linspace(0, 100, 21)\n",
    "a"
   ]
  },
  {
   "cell_type": "markdown",
   "metadata": {},
   "source": [
    "#### Nombres pseudo-aléatoires\n",
    "\n",
    "Le sous-module **numpy.random** permet de générer des nombres aléatoires selon plusieurs méthodes (extrait).\n",
    "\n",
    "La méthode *seed()* permet d'amorcer le générateur de nombres aléatoires afin d'obtenir les mêmes résultats d'une expérience à l'autre.\n",
    "\n",
    "Il existe des fonctions pour créer des *ndarray* avec des nombres aléatoires (extrait)."
   ]
  },
  {
   "cell_type": "markdown",
   "metadata": {},
   "source": [
    "Fonction|Usage\n",
    "-|-\n",
    "randint|vecteur d'entiers aléatoires uniformément répartis dans un intervalle\n",
    "random|vecteur de nombres aléatoires uniformément répartis dans un intervalle semi-ouvert\n",
    "uniform|vecteur de nombres aléatoires uniformément répartis dans un intervalle\n",
    "normal|vecteur de nombres répartis selon la loi normale"
   ]
  },
  {
   "cell_type": "code",
   "execution_count": 17,
   "metadata": {},
   "outputs": [
    {
     "data": {
      "text/plain": [
       "array([6, 9, 4, 5, 8, 1, 6, 8, 4, 1])"
      ]
     },
     "execution_count": 17,
     "metadata": {},
     "output_type": "execute_result"
    }
   ],
   "source": [
    "# tableau d'entiers aléatoires uniformément répartis entre 0 et 9\n",
    "a = np.random.randint(0, 10, 10)\n",
    "a"
   ]
  },
  {
   "cell_type": "code",
   "execution_count": 18,
   "metadata": {},
   "outputs": [
    {
     "data": {
      "text/plain": [
       "(array([5, 0, 3, 3, 7, 9, 3, 5, 2, 4]), array([7, 6, 8, 8, 1, 6, 7, 7, 8, 1]))"
      ]
     },
     "execution_count": 18,
     "metadata": {},
     "output_type": "execute_result"
    }
   ],
   "source": [
    "# avec la méthode seed\n",
    "np.random.seed(0)\n",
    "a = np.random.randint(0, 10, 10)\n",
    "#np.random.seed(0)\n",
    "b = np.random.randint(0, 10, 10)\n",
    "a, b"
   ]
  },
  {
   "cell_type": "markdown",
   "metadata": {},
   "source": [
    "#### Visualisation graphique des distributions aléatoires\n",
    "\n",
    "N.B. : la librairie **matplotlib.pyplot** sera étudiées plus en détail plus loin."
   ]
  },
  {
   "cell_type": "code",
   "execution_count": 19,
   "metadata": {},
   "outputs": [
    {
     "data": {
      "image/png": "[encoded data removed]",
      "text/plain": [
       "<matplotlib.figure.Figure at 0x8358320>"
      ]
     },
     "metadata": {},
     "output_type": "display_data"
    }
   ],
   "source": [
    "# histogramme de 1000 entiers tirés aléatoirement entre 0 et 9\n",
    "a = np.random.randint(0, 10, 1000)\n",
    "plt.hist(a);"
   ]
  },
  {
   "cell_type": "code",
   "execution_count": 20,
   "metadata": {},
   "outputs": [
    {
     "data": {
      "image/png": "[encoded data removed]",
      "text/plain": [
       "<matplotlib.figure.Figure at 0x6d80b00>"
      ]
     },
     "metadata": {},
     "output_type": "display_data"
    }
   ],
   "source": [
    "# histogramme de 1000 nombres flottants tirés uniformément entre 0 et 1\n",
    "np.random.seed(37)\n",
    "a = np.random.random(1000)\n",
    "plt.hist(a, bins=50);"
   ]
  },
  {
   "cell_type": "code",
   "execution_count": 21,
   "metadata": {},
   "outputs": [
    {
     "data": {
      "image/png": "[encoded data removed]",
      "text/plain": [
       "<matplotlib.figure.Figure at 0x70304a8>"
      ]
     },
     "metadata": {},
     "output_type": "display_data"
    }
   ],
   "source": [
    "# histogramme de nombres tirés selon une loi normale\n",
    "a = np.random.normal(0, 1, 1000)\n",
    "plt.hist(a, bins=20);"
   ]
  },
  {
   "cell_type": "markdown",
   "metadata": {},
   "source": [
    "## 1.2 Accès aux éléments\n",
    "\n",
    "L'opérateur [] permet d'accéder aux éléments individuels ou à des sous-tableaux.\n",
    "\n",
    "Rappel sur les accès par indices en Python qui s'applique aux *ndarray*."
   ]
  },
  {
   "cell_type": "markdown",
   "metadata": {},
   "source": [
    "Notation|Signification\n",
    "-|-\n",
    "a[i]|accès à l'élement situé à la position i (démarrant à 0)\n",
    "a[i:j]|accès aux élements situés entre la position i et la position j-1\n",
    "a[i:j:k]|accès aux élements situés entre la position i et la position j-1 par pas de k\n",
    "a[:i]| accès à tous les éléments jusqu'à la position i-1\n",
    "a[i:]|accès à tous les éléments à partir de la position i\n",
    "a[:]|accès à tous les éléments\n",
    "a[::-1]|accès à tous les éléments dans l'ordre inverse"
   ]
  },
  {
   "cell_type": "markdown",
   "metadata": {},
   "source": [
    "Le multidimensionnel est géré par autant d'accès indiciels séparés par des virgules :\n",
    "- vecteur : *a[i:j]*\n",
    "- matrice : *a[i:j, m:n]*\n",
    "- cube : *a[i:j, m:n, p:q]*\n",
    "\n",
    "Pour une matrice, la notation *a[i, j]* est symboliquement équivalente à *a[i][j]*."
   ]
  },
  {
   "cell_type": "markdown",
   "metadata": {},
   "source": [
    "**Exercice**\n",
    "\n",
    "Créer une matrice 6 x 6 remplie d’entiers aléatoires entre 0 et 9 inclus et sélectionner les entiers situés sur les lignes 2 à 4 inclus et les colonnes 2 et 3 inclus."
   ]
  },
  {
   "cell_type": "markdown",
   "metadata": {},
   "source": [
    "## 1.3 Modification des éléments\n",
    "\n",
    "Les opérations de sélection permettent de modifier les éléments avec l'opérateur *=*.\n",
    "\n",
    "Il est possible d'utiliser une valeur scalaire ou un ndarray de dimensions identiques."
   ]
  },
  {
   "cell_type": "code",
   "execution_count": 22,
   "metadata": {},
   "outputs": [
    {
     "data": {
      "text/plain": [
       "array([[ 1,  7,  5,  4,  1,  7],\n",
       "       [ 0,  7,  5,  7,  2,  9],\n",
       "       [ 4,  0, -1, -1,  7,  6],\n",
       "       [ 4,  8, -1, -1,  3,  7],\n",
       "       [ 9,  2,  9,  8,  2,  7],\n",
       "       [ 1,  3,  7,  4,  5,  8]])"
      ]
     },
     "execution_count": 22,
     "metadata": {},
     "output_type": "execute_result"
    }
   ],
   "source": [
    "# création de la matrice\n",
    "a = np.random.randint(0, 10, (6, 6))\n",
    "a[2:4, 2:4] = -1\n",
    "a"
   ]
  },
  {
   "cell_type": "code",
   "execution_count": 23,
   "metadata": {},
   "outputs": [
    {
     "data": {
      "text/plain": [
       "array([[-1, -1, -1, -1, -1, -1],\n",
       "       [-1, -1, -1, -1, -1, -1],\n",
       "       [-1, -1, -1, -1, -1, -1],\n",
       "       [-1, -1, -1, -1, -1, -1],\n",
       "       [-1, -1, -1, -1, -1, -1],\n",
       "       [-1, -1, -1, -1, -1, -1]])"
      ]
     },
     "execution_count": 23,
     "metadata": {},
     "output_type": "execute_result"
    }
   ],
   "source": [
    "# remplissage d'un ndarray avec une valeur uniforme\n",
    "a.fill(-1)\n",
    "a"
   ]
  },
  {
   "cell_type": "markdown",
   "metadata": {},
   "source": [
    "## 1.4 Opérations de transformation\n",
    "\n",
    "Il est possible de transformer un ndarray en un tableau de n'importe quelle dimension (du moment que le nombre total d'éléments soit identique)."
   ]
  },
  {
   "cell_type": "code",
   "execution_count": 24,
   "metadata": {},
   "outputs": [
    {
     "data": {
      "text/plain": [
       "array([7, 3, 5, 1, 6, 8, 5, 7, 2, 1, 2, 8, 0, 3, 8, 6, 7, 1, 4, 3, 0, 6, 3,\n",
       "       0, 7, 5, 8, 4, 0, 0, 4, 7, 8, 0, 4, 0, 2, 4, 1, 3, 4, 2, 6, 0, 7, 2,\n",
       "       6, 4])"
      ]
     },
     "execution_count": 24,
     "metadata": {},
     "output_type": "execute_result"
    }
   ],
   "source": [
    "# création d'un vecteur\n",
    "a = np.random.randint(0, 9, 48)\n",
    "a"
   ]
  },
  {
   "cell_type": "code",
   "execution_count": 25,
   "metadata": {},
   "outputs": [
    {
     "data": {
      "text/plain": [
       "array([[7, 3, 5, 1, 6, 8],\n",
       "       [5, 7, 2, 1, 2, 8],\n",
       "       [0, 3, 8, 6, 7, 1],\n",
       "       [4, 3, 0, 6, 3, 0],\n",
       "       [7, 5, 8, 4, 0, 0],\n",
       "       [4, 7, 8, 0, 4, 0],\n",
       "       [2, 4, 1, 3, 4, 2],\n",
       "       [6, 0, 7, 2, 6, 4]])"
      ]
     },
     "execution_count": 25,
     "metadata": {},
     "output_type": "execute_result"
    }
   ],
   "source": [
    "# transformation en matrice\n",
    "a = a.reshape(8, 6)\n",
    "a"
   ]
  },
  {
   "cell_type": "markdown",
   "metadata": {},
   "source": [
    "Il est possible de mettre à plat un ndarray en lignes ou en colonnes."
   ]
  },
  {
   "cell_type": "code",
   "execution_count": 26,
   "metadata": {},
   "outputs": [
    {
     "data": {
      "text/plain": [
       "array([7, 3, 5, 1, 6, 8, 5, 7, 2, 1, 2, 8, 0, 3, 8, 6, 7, 1, 4, 3, 0, 6, 3,\n",
       "       0, 7, 5, 8, 4, 0, 0, 4, 7, 8, 0, 4, 0, 2, 4, 1, 3, 4, 2, 6, 0, 7, 2,\n",
       "       6, 4])"
      ]
     },
     "execution_count": 26,
     "metadata": {},
     "output_type": "execute_result"
    }
   ],
   "source": [
    "# par défaut en ligne (mode langage C)\n",
    "a.flatten()"
   ]
  },
  {
   "cell_type": "code",
   "execution_count": 27,
   "metadata": {},
   "outputs": [
    {
     "data": {
      "text/plain": [
       "array([7, 5, 0, 4, 7, 4, 2, 6, 3, 7, 3, 3, 5, 7, 4, 0, 5, 2, 8, 0, 8, 8, 1,\n",
       "       7, 1, 1, 6, 6, 4, 0, 3, 2, 6, 2, 7, 3, 0, 4, 4, 6, 8, 8, 1, 0, 0, 0,\n",
       "       2, 4])"
      ]
     },
     "execution_count": 27,
     "metadata": {},
     "output_type": "execute_result"
    }
   ],
   "source": [
    "# en colonne (mode langage Fortran)\n",
    "a.flatten('F')"
   ]
  },
  {
   "cell_type": "code",
   "execution_count": 28,
   "metadata": {},
   "outputs": [
    {
     "data": {
      "text/plain": [
       "array([[7, 5, 0, 4, 7, 4, 2, 6],\n",
       "       [3, 7, 3, 3, 5, 7, 4, 0],\n",
       "       [5, 2, 8, 0, 8, 8, 1, 7],\n",
       "       [1, 1, 6, 6, 4, 0, 3, 2],\n",
       "       [6, 2, 7, 3, 0, 4, 4, 6],\n",
       "       [8, 8, 1, 0, 0, 0, 2, 4]])"
      ]
     },
     "execution_count": 28,
     "metadata": {},
     "output_type": "execute_result"
    }
   ],
   "source": [
    "# transposition\n",
    "a.transpose()  # ou a.T"
   ]
  },
  {
   "cell_type": "code",
   "execution_count": 29,
   "metadata": {},
   "outputs": [
    {
     "data": {
      "text/plain": [
       "array([[7, 5, 0, 4, 7, 4, 2, 6],\n",
       "       [3, 7, 3, 3, 5, 7, 4, 0],\n",
       "       [5, 2, 8, 0, 8, 8, 1, 7],\n",
       "       [1, 1, 6, 6, 4, 0, 3, 2],\n",
       "       [6, 2, 7, 3, 0, 4, 4, 6],\n",
       "       [8, 8, 1, 0, 0, 0, 2, 4]])"
      ]
     },
     "execution_count": 29,
     "metadata": {},
     "output_type": "execute_result"
    }
   ],
   "source": [
    "a.T"
   ]
  },
  {
   "cell_type": "code",
   "execution_count": 30,
   "metadata": {},
   "outputs": [
    {
     "data": {
      "text/plain": [
       "array([0, 0, 0, 0, 0, 0, 0, 0, 1, 1, 1, 1, 2, 2, 2, 2, 2, 3, 3, 3, 3, 3, 4,\n",
       "       4, 4, 4, 4, 4, 4, 5, 5, 5, 6, 6, 6, 6, 6, 7, 7, 7, 7, 7, 7, 8, 8, 8,\n",
       "       8, 8])"
      ]
     },
     "execution_count": 30,
     "metadata": {},
     "output_type": "execute_result"
    }
   ],
   "source": [
    "# tri\n",
    "a = a.flatten()\n",
    "a.sort()\n",
    "a"
   ]
  },
  {
   "cell_type": "code",
   "execution_count": 31,
   "metadata": {},
   "outputs": [
    {
     "data": {
      "text/plain": [
       "array([[ 0.2       ,  0.35483168,  0.25244961,  0.8       ,  0.39844298],\n",
       "       [ 0.8       ,  0.5553342 ,  0.21857639,  0.23296873,  0.23841231],\n",
       "       [ 0.2       ,  0.20328055,  0.2       ,  0.23369958,  0.47294573],\n",
       "       [ 0.8       ,  0.8       ,  0.79522325,  0.67453438,  0.8       ]])"
      ]
     },
     "execution_count": 31,
     "metadata": {},
     "output_type": "execute_result"
    }
   ],
   "source": [
    "# seuillage\n",
    "a = np.random.random(20).reshape((4, 5))\n",
    "a.clip(0.2, 0.8)"
   ]
  },
  {
   "cell_type": "markdown",
   "metadata": {},
   "source": [
    "## 1.5 Opérations arithmétiques,  logiques, mathématiques et matricielles\n",
    "\n",
    "Numpy possède toutes les fonctions arithmétiques, de comparaison, logiques, mathématiques, trigonométriques et de calcul matriciel."
   ]
  },
  {
   "cell_type": "markdown",
   "metadata": {},
   "source": [
    "Domaine|Fonctions\n",
    "-|-\n",
    "Arithmétique | + (add) - (subtract) &#42; (multiply) / (divide) &#42;&#42; (power)\n",
    "Comparaison | ==, !=, =<, <, =>, >\n",
    "Logique | & (and) &#124; (or) ~ (not) all() any() allclose()\n",
    "Mathématiques | abs sign sqrt log log10 exp floor ceil rint\n",
    "Trigonométrie | sin cos tan arcsin arccos arctan sinh cosh tanh arcsinh arccosh arctanh\n",
    "Calcul matriciel | @ (dot) T (transpose)"
   ]
  },
  {
   "cell_type": "markdown",
   "metadata": {},
   "source": [
    "**Exercice**\n",
    "\n",
    "Fabriquer un vecteur de 10 entiers aléatoires entre 0 et 9 inclus.\n",
    "Tester si tous les entiers sont nuls. Si l'un des entiers est nul avec *all()* et *any()*."
   ]
  },
  {
   "cell_type": "markdown",
   "metadata": {},
   "source": [
    "## 1.6 Sélection logique\n",
    "\n",
    "L'opérateur [] permet d'effectuer une sélection logique à partir d'un masque booléen.\n",
    "\n",
    "Les opérateur logiques sont : | (OU), & (ET) et ~ (NON)."
   ]
  },
  {
   "cell_type": "code",
   "execution_count": 32,
   "metadata": {},
   "outputs": [
    {
     "data": {
      "text/plain": [
       "array([8, 2, 1, 4, 1, 6, 3, 5, 7, 9, 2, 7, 1, 7, 0, 6, 7, 8, 0, 8])"
      ]
     },
     "execution_count": 32,
     "metadata": {},
     "output_type": "execute_result"
    }
   ],
   "source": [
    "# ndarray\n",
    "a = np.random.randint(0, 10, 20)\n",
    "a"
   ]
  },
  {
   "cell_type": "code",
   "execution_count": 33,
   "metadata": {},
   "outputs": [
    {
     "data": {
      "text/plain": [
       "array([False,  True,  True,  True,  True, False,  True, False, False,\n",
       "       False,  True, False,  True, False,  True, False, False, False,\n",
       "        True, False], dtype=bool)"
      ]
     },
     "execution_count": 33,
     "metadata": {},
     "output_type": "execute_result"
    }
   ],
   "source": [
    "# masque booléen\n",
    "m = a < 5\n",
    "m"
   ]
  },
  {
   "cell_type": "code",
   "execution_count": 34,
   "metadata": {},
   "outputs": [
    {
     "data": {
      "text/plain": [
       "array([2, 1, 4, 1, 3, 2, 1, 0, 0])"
      ]
     },
     "execution_count": 34,
     "metadata": {},
     "output_type": "execute_result"
    }
   ],
   "source": [
    "# sélection par masque booléen\n",
    "a[m]"
   ]
  },
  {
   "cell_type": "code",
   "execution_count": 35,
   "metadata": {},
   "outputs": [
    {
     "data": {
      "text/plain": [
       "array([2, 1, 4, 1, 3, 2, 1, 0, 0])"
      ]
     },
     "execution_count": 35,
     "metadata": {},
     "output_type": "execute_result"
    }
   ],
   "source": [
    "# expression concise\n",
    "a[a < 5]"
   ]
  },
  {
   "cell_type": "markdown",
   "metadata": {},
   "source": [
    "**Exercice**\n",
    "\n",
    "Fabriquer un vecteur aléatoire comportant 100 entiers compris en 0 et 9 inclus.\n",
    "\n",
    "Sélectionner les entiers qui sont différent de 0, inférieurs à 7 et pairs."
   ]
  },
  {
   "cell_type": "markdown",
   "metadata": {},
   "source": [
    "## 1.7 Agrégats\n",
    "\n",
    "Il existe des fonctions agrégatives qui synthétisent les valeurs d'un *ndarray*.\n",
    "\n",
    "Il est possible d'appliquer ces fonctions sur l'ensemble d'un *ndarray* ou bien selon une dimension particulière. Cette dimension est dénommée *axis* dans le jargon de Python et vaut 0, 1, 2...\n",
    "\n",
    "Atention, dans les opérations de synthèse, *axis* correspond à la dimension dans laquelle l'indice servant à effectuer la synthèse varie.\n",
    "\n",
    "Par exemple, une matrice possède 2 dimensions : *axis=0* réprésente l'indice des lignes et *axis=1* représente l'indice des colonnes. Pour calculer la somme des lignes, on additionne les colonnes (*axis=1*) et inversement pour calculer la somme des colonnes, on additionne les lignes (*axis=0*)."
   ]
  },
  {
   "cell_type": "markdown",
   "metadata": {},
   "source": [
    "Fonction|Usage\n",
    "-|-\n",
    "sum|calcul de la somme\n",
    "prod|calcul du produit\n",
    "min|calcul du minimum\n",
    "max|calcul du maximum\n",
    "argmin|calcul de l'indice du minimum\n",
    "argmax|calcul de l'indice du maximum\n",
    "cumsum|calcul de la somme cumulée\n",
    "cumprod|calcul du produit cumulé\n",
    "mean|calcul de la moyenne\n",
    "median|calcul de la médiane"
   ]
  },
  {
   "cell_type": "markdown",
   "metadata": {},
   "source": [
    "**Exercice**\n",
    "\n",
    "Fabriquer une matrice 7 x 5 d'entiers aléatoires entre 0 et 3 inclus.\n",
    "\n",
    "Calculer la somme totale, la somme des lignes, la somme des colonnes.\n",
    "\n",
    "Afficher une marche aléatoire où à chaque pas on avance d'un nombre compris entre -0.5 et 0.5."
   ]
  },
  {
   "cell_type": "markdown",
   "metadata": {
    "collapsed": true
   },
   "source": [
    "## 1.8 Algèbre linéaire\n",
    "\n",
    "Les méthodes classiques utilisées en algèbre linéaire existent dans le sous-module *nupy.linalg* :\n",
    "- inversion : *inv()*\n",
    "- vecteurs propres, valeurs propres :  *eig()*, *eigvals()*\n",
    "- décomposition en valeurs singulières : *svd()*\n",
    "- etc."
   ]
  },
  {
   "cell_type": "code",
   "execution_count": 36,
   "metadata": {},
   "outputs": [
    {
     "name": "stdout",
     "output_type": "stream",
     "text": [
      "a = [[ 0.7072647   0.88054825  0.85283276]\n",
      " [ 0.61363914  0.85268656  0.146915  ]\n",
      " [ 0.25287134  0.81490106  0.18468477]]\n",
      "d = [[ 1.79854991+0.j          0.00000000+0.j          0.00000000+0.j        ]\n",
      " [ 0.00000000+0.j         -0.02695694+0.33421168j  0.00000000+0.j        ]\n",
      " [ 0.00000000+0.j          0.00000000+0.j         -0.02695694-0.33421168j]]\n",
      "p = [[ 0.74337850+0.j          0.70736442+0.j          0.70736442-0.j        ]\n",
      " [ 0.54294948+0.j         -0.36975498-0.2257038j  -0.36975498+0.2257038j ]\n",
      " [ 0.39063315+0.j         -0.22721355+0.51024369j -0.22721355-0.51024369j]]\n"
     ]
    },
    {
     "data": {
      "text/plain": [
       "True"
      ]
     },
     "execution_count": 36,
     "metadata": {},
     "output_type": "execute_result"
    }
   ],
   "source": [
    "# diagonalisation d'une matrice 3 x 3\n",
    "a = np.random.random(9).reshape((3, 3))\n",
    "print(\"a =\", a)\n",
    "d, p = np.linalg.eig(a)\n",
    "print(\"d =\", np.diag(d))\n",
    "print(\"p =\", p)\n",
    "# on vérifie que a = p x d x p-1\n",
    "delta = a - p.dot(np.diag(d)).dot(np.linalg.inv(p))\n",
    "np.allclose(delta, 0)"
   ]
  },
  {
   "cell_type": "markdown",
   "metadata": {},
   "source": [
    "**Exercice**\n",
    "\n",
    "On considère une matrice m (2 x 100) définie par :\n",
    "   - x = np.random.random(100)\n",
    "   - y = x * (1 + np.random.random(100)) / 2\n",
    "\n",
    "Produire un graphique correspondant à la matrice.\n",
    "\n",
    "Appliquer la fonction SVD (option *full_matrices=False*) à m, renvoyant : u, v, s\n",
    "\n",
    "Vérifier l'égalité m = u x s x v\n",
    "\n",
    "Produire un graphique correspondant à la matrice transformée par la rotation u."
   ]
  },
  {
   "cell_type": "code",
   "execution_count": null,
   "metadata": {
    "collapsed": true
   },
   "outputs": [],
   "source": []
  }
 ],
 "metadata": {
  "anaconda-cloud": {},
  "kernelspec": {
   "display_name": "Python 3",
   "language": "python",
   "name": "python3"
  },
  "language_info": {
   "codemirror_mode": {
    "name": "ipython",
    "version": 3
   },
   "file_extension": ".py",
   "mimetype": "text/x-python",
   "name": "python",
   "nbconvert_exporter": "python",
   "pygments_lexer": "ipython3",
   "version": "3.6.4"
  }
 },
 "nbformat": 4,
 "nbformat_minor": 1
}
