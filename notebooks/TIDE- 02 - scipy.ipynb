{
 "cells": [
  {
   "cell_type": "markdown",
   "metadata": {},
   "source": [
    "# 2. Scipy : sous-module *stats*\n",
    "\n",
    "**SciPy** est un ensemble extrêmement riche de modules scientifiques pour Python.\n",
    "\n",
    "Voir https://docs.scipy.org/doc/scipy/reference/"
   ]
  },
  {
   "cell_type": "markdown",
   "metadata": {},
   "source": [
    "Sous-module|Description\n",
    "-|-\n",
    "cluster|Clustering algorithms\n",
    "constants|Physical and mathematical constants\n",
    "fftpack|Fast Fourier Transform routines\n",
    "integrate|Integration and ordinary differential equation solvers\n",
    "interpolate|Interpolation and smoothing splines\n",
    "io|Input and Output\n",
    "linalg|Linear algebra\n",
    "ndimage|N-dimensional image processing\n",
    "odr|Orthogonal distance regression\n",
    "optimize|Optimization and root-finding routines\n",
    "signal|Signal processing\n",
    "sparse|Sparse matrices and associated routines\n",
    "spatial|Spatial data structures and algorithms\n",
    "special|Special functions\n",
    "stats|Statistical distributions and functions\n",
    "weave|C/C++ integration"
   ]
  },
  {
   "cell_type": "markdown",
   "metadata": {},
   "source": [
    "Au sein de cet ensemble, le sous-module **scipy.stats** comporte un grand nombre de distributions de probabilité et une librairie importante de fonctions statistiques.\n",
    "\n",
    "Voir https://docs.scipy.org/doc/scipy/reference/stats.html\n",
    "\n",
    "## 2.1 Exemple de régression linéaire"
   ]
  },
  {
   "cell_type": "code",
   "execution_count": null,
   "metadata": {
    "collapsed": false
   },
   "outputs": [],
   "source": [
    "# nuage de points aléatoires\n",
    "x = np.random.random(100)\n",
    "y = x * (1 + np.random.random(100)) / 2\n",
    "plt.scatter(x, y, color='b');"
   ]
  },
  {
   "cell_type": "code",
   "execution_count": null,
   "metadata": {
    "collapsed": false
   },
   "outputs": [],
   "source": [
    "# régression linéaire avec scipy.stats\n",
    "from scipy.stats import linregress\n",
    "slope, intercept, _, _, _ = c(x, y)\n",
    "a = np.linspace(0, 1, 2)\n",
    "b = slope * a + intercept\n",
    "plt.scatter(x, y, color='b')\n",
    "plt.plot(a, b, 'r', linewidth=2);"
   ]
  },
  {
   "cell_type": "markdown",
   "metadata": {},
   "source": [
    "## 2.2 Exemple d'estimation de loi normale"
   ]
  },
  {
   "cell_type": "code",
   "execution_count": null,
   "metadata": {
    "collapsed": false
   },
   "outputs": [],
   "source": [
    "# variable aléatoire normale\n",
    "mu = np.random.randint(10)\n",
    "std = np.random.randint(1, 4)\n",
    "print(\"mu={:.2f}, std={:.2f}\".format(mu, std))\n",
    "a = np.random.normal(mu, std, 1000)\n",
    "plt.hist(a, bins=20, color='g', alpha=0.6);"
   ]
  },
  {
   "cell_type": "code",
   "execution_count": null,
   "metadata": {
    "collapsed": false
   },
   "outputs": [],
   "source": [
    "# estimation pour une loi normale\n",
    "from scipy.stats import norm\n",
    "mu, std = norm.fit(a)\n",
    "print(\"mu={0:.2f}, std={1:.2f}\".format(mu, std))\n",
    "plt.hist(a, bins=20, normed=True, color='g', alpha=0.6)\n",
    "xmin, xmax = plt.xlim()\n",
    "x = np.linspace(xmin, xmax, 100)\n",
    "y = norm.pdf(x, mu, std)\n",
    "plt.plot(x, y, 'b--', linewidth=2);"
   ]
  },
  {
   "cell_type": "markdown",
   "metadata": {},
   "source": [
    "**Exercice de simulation d'une variable normale**\n",
    "\n",
    "Fabriquer un ndarray 1000 x 6 de nombres aléatoires dans l'intervalle [0 ; 1].\n",
    "\n",
    "Effectuer une estimation de loi normale avec la somme des lignes."
   ]
  },
  {
   "cell_type": "code",
   "execution_count": null,
   "metadata": {
    "collapsed": true
   },
   "outputs": [],
   "source": []
  }
 ],
 "metadata": {
  "anaconda-cloud": {},
  "kernelspec": {
   "display_name": "Python [default]",
   "language": "python",
   "name": "python3"
  },
  "language_info": {
   "codemirror_mode": {
    "name": "ipython",
    "version": 3
   },
   "file_extension": ".py",
   "mimetype": "text/x-python",
   "name": "python",
   "nbconvert_exporter": "python",
   "pygments_lexer": "ipython3",
   "version": "3.5.2"
  }
 },
 "nbformat": 4,
 "nbformat_minor": 0
}
