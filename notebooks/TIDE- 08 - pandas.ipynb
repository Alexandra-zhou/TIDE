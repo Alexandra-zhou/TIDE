{
 "cells": [
  {
   "cell_type": "markdown",
   "metadata": {},
   "source": [
    "# Master TIDE - Conférences Python 2020\n",
    "\n",
    "Francis Wolinski\n",
    "\n",
    "&copy; 2020 Yotta Conseil"
   ]
  },
  {
   "cell_type": "code",
   "execution_count": null,
   "metadata": {},
   "outputs": [],
   "source": [
    "import numpy as np\n",
    "import pandas as pd\n",
    "import matplotlib as mpl\n",
    "import matplotlib.pyplot as plt\n",
    "import seaborn as sns\n",
    "from matplotlib import cm\n",
    "%matplotlib inline\n",
    "\n",
    "# display options\n",
    "pd.set_option(\"display.max_rows\", 20)"
   ]
  },
  {
   "cell_type": "markdown",
   "metadata": {},
   "source": [
    "# 10. Séries temporelles\n",
    "\n",
    "\n",
    "Introduction aux séries temporelles avec Python et pandas.\n",
    "\n",
    "Le module standard `datetime` permet de manipuler des données temporelles avec Python.\n",
    "\n",
    "Il existe d'autres modules avec le même objectif: `calendar`, `dateutil`, `pytz`, ...\n",
    "\n",
    "Le module `datetime` fournit différents types de données temporelles :\n",
    "\n",
    "- **date**: date (année, mois, jour) dans le caledrier Grégorien\n",
    "- **time**: temps non rattaché à une date (heures, minutes, secondes, microsecondes)\n",
    "- **datetime**: horodatage (date + temps)\n",
    "- **timedelta**: durée, difference entre 2 dates ou 2 temps (jours, heures, minutes, secondes, microsecondes)\n",
    "- **tzinfo**: gestion des fuseaux horaires"
   ]
  },
  {
   "cell_type": "code",
   "execution_count": null,
   "metadata": {},
   "outputs": [],
   "source": [
    "# import de la librairie datetime\n",
    "import datetime"
   ]
  },
  {
   "cell_type": "markdown",
   "metadata": {},
   "source": [
    "## 10.1 Objets temporels Python\n",
    "\n",
    "### Date"
   ]
  },
  {
   "cell_type": "code",
   "execution_count": null,
   "metadata": {},
   "outputs": [],
   "source": [
    "# date\n",
    "today = datetime.date.today()\n",
    "today"
   ]
  },
  {
   "cell_type": "markdown",
   "metadata": {},
   "source": [
    "### Datetime"
   ]
  },
  {
   "cell_type": "code",
   "execution_count": null,
   "metadata": {},
   "outputs": [],
   "source": [
    "# datetime\n",
    "now = datetime.datetime.now()\n",
    "now"
   ]
  },
  {
   "cell_type": "code",
   "execution_count": null,
   "metadata": {},
   "outputs": [],
   "source": [
    "# datetime en temps universel\n",
    "now_utc = datetime.datetime.utcnow()\n",
    "now_utc"
   ]
  },
  {
   "cell_type": "markdown",
   "metadata": {},
   "source": [
    "### Fuseau horaire\n",
    "\n",
    "Le module standard `pytz` gère les fuseaux horaires.\n",
    "\n",
    "Un objet de type `datetime` peut être converti avec la méthode `astimezone()` dans un objet `datetime` d'un autre fuseau horaire.\n",
    "\n",
    "Il est recommandé de travailler en temps universel (UTC) pour pallier la difficulté de gérer des objets de temps de différents fuseaux horaires."
   ]
  },
  {
   "cell_type": "code",
   "execution_count": null,
   "metadata": {},
   "outputs": [],
   "source": [
    "# import pytz\n",
    "from pytz import timezone"
   ]
  },
  {
   "cell_type": "code",
   "execution_count": null,
   "metadata": {},
   "outputs": [],
   "source": [
    "# instance de fuseau horaire\n",
    "tz = timezone('Asia/Shanghai')\n",
    "tz"
   ]
  },
  {
   "cell_type": "code",
   "execution_count": null,
   "metadata": {},
   "outputs": [],
   "source": [
    "# now\n",
    "now"
   ]
  },
  {
   "cell_type": "code",
   "execution_count": null,
   "metadata": {},
   "outputs": [],
   "source": [
    "# convertit une datetime avec un objet de type fuseau horaire\n",
    "now.astimezone(tz)"
   ]
  },
  {
   "cell_type": "markdown",
   "metadata": {},
   "source": [
    "## 10.2 Ecriture et lecture\n",
    "\n",
    "La méthode `strftime()` et la fonction `strptime()`  permettent d'écrire et de lire des dates dans différents formats avec une codificaton empruntée au langage C.\n",
    "\n",
    "Le nombre de directives disponibles révèle la complexité du sujet.\n",
    "\n",
    "Directives | Commentaires\n",
    "- | -\n",
    "%a | Day of the week abbreviated\n",
    "%A | Day of the week\n",
    "%w | Day of the week 0 = Sunday ... 6 = Saturday\n",
    "%d | Day of month on 2 digits 01, 02, ..., 31\n",
    "%j | Day of year on 3 digits 001, 002, ..., 366\n",
    "%b | Month abbreviated\n",
    "%B | Month name\n",
    "%m | Month on 2 digits 01, 02, ..., 12\n",
    "%U | Number of week in year (Sunday = first day)\n",
    "%W | Number of week in year (Monday = first day)\n",
    "%y | Year without the century on 2 digits 00, 01, ..., 99\t \n",
    "%Y | Year with the century on 4 digits 0001, 0002, ..., 2018, 2019, ..., 9998, 9999\n",
    "%H | Hour over 24 00, 01, ..., 23\n",
    "%I | Hour over 12 01, 02, ..., 12\n",
    "%p | AM or PM\n",
    "%M | Minute on 2 digits 00, 01, ..., 59\n",
    "%S | Second on 2 digits 00, 01, ..., 59\n",
    "%f | Microsecond on 6 digits 000000, 000001, ..., 999999\n",
    "%z | UTC offset +HHMM or -HHMM\n",
    "%Z | Time zone \n",
    "%c | Representation date and temps\n",
    "%x | Representation date\n",
    "%X | Representation time\n",
    "%% | Character %"
   ]
  },
  {
   "cell_type": "code",
   "execution_count": null,
   "metadata": {},
   "outputs": [],
   "source": [
    "# datetime\n",
    "now = datetime.datetime.now()\n",
    "now"
   ]
  },
  {
   "cell_type": "code",
   "execution_count": null,
   "metadata": {},
   "outputs": [],
   "source": [
    "# jour de la semaine\n",
    "now.strftime(\"%A %d/%m/%Y\")"
   ]
  },
  {
   "cell_type": "markdown",
   "metadata": {},
   "source": [
    "<div class=\"alert alert-success\">\n",
    "<b>Exercise 1</b>\n",
    "<ul>\n",
    "<li>Afficher la date du jour dans le format: `AAAA-MM-JJ/HH:MM:SS`</li>\n",
    "</ul>\n",
    "</div>"
   ]
  },
  {
   "cell_type": "markdown",
   "metadata": {},
   "source": [
    "Le module `locale` permet de gérer l'affichage selon la langue, par défaut en anglais."
   ]
  },
  {
   "cell_type": "code",
   "execution_count": null,
   "metadata": {},
   "outputs": [],
   "source": [
    "import locale\n",
    "locale.setlocale(locale.LC_ALL, 'fr') # français\n",
    "#locale.setlocale(locale.LC_ALL, 'fr_FR') # français\n",
    "\n",
    "print(now.strftime(\"%A %d/%m/%Y\"))\n",
    "\n",
    "locale.setlocale(locale.LC_ALL, 'en') # anglais\n",
    "#locale.setlocale(locale.LC_ALL, 'en_US') # anglais"
   ]
  },
  {
   "cell_type": "markdown",
   "metadata": {},
   "source": [
    "Inversement la fonction `strptime()` prend une chaine de caractères et un format de date en arguments et retourne un objet temporel."
   ]
  },
  {
   "cell_type": "code",
   "execution_count": null,
   "metadata": {},
   "outputs": [],
   "source": [
    "# lecture à partir du format: AA-MM-DD-HH-MM\n",
    "# écriture dans le format : HH:MM DD/MM/YYYY\n",
    "var = datetime.datetime.strptime(\"20-03-26-15-00\", \"%y-%m-%d-%H-%M\")\n",
    "var.strftime(\"%H:%M %d/%m/%Y\")"
   ]
  },
  {
   "cell_type": "markdown",
   "metadata": {},
   "source": [
    "<div class=\"alert alert-success\">\n",
    "<b>Exercise 2</b>\n",
    "<ul>\n",
    "<li>Lire une date au format ISO : `AAAA-MM-JJTHH:MM:SS`, par exemple 2020-03-26T15:00:00</li>\n",
    "</ul>\n",
    "</div>"
   ]
  },
  {
   "cell_type": "markdown",
   "metadata": {},
   "source": [
    "<div class=\"alert alert-success\">\n",
    "<b>Exercise 3</b>\n",
    "<ul>\n",
    "    <li>Charger le fichier 'cities500.txt', combien y a-t-il de fuseaux horaires différents ?</li>\n",
    "    <li>Convertir la colonne 'timezone' en objets de type fuseau horaire.</li>\n",
    "    <li>Prendre l'horodatage du jour et la convertir selon chaque fuseau horaire et produire une chaine au format : '%Y-%m-%d %H:%M:%S'.</li>\n",
    "    <li> Il y a 24 heure dans une journée, combien y a-t-il de fuseaux horaires différents ?</li>\n",
    "</ul>\n",
    "</div>"
   ]
  },
  {
   "cell_type": "code",
   "execution_count": null,
   "metadata": {},
   "outputs": [],
   "source": [
    "# cities500.txt\n",
    "# http://download.geonames.org/export/dump/cities500.zip\n",
    "df = pd.read_csv('cities500.txt',\n",
    "                   sep='\\t',\n",
    "                   header=None,\n",
    "                   names=['geonameid', 'name', 'asciiname', 'alternatenames', 'latitude', 'longitude', 'feature class', 'feature code', 'country code', 'cc2', 'admin1 code', 'admin2 code', 'admin3 code', 'admin4 code', 'population', 'elevation', 'dem', 'timezone', 'modification date'],\n",
    "                   dtype={'admin1 code': str, 'admin2 code': str, 'admin3 code': str, 'admin4 code': str},\n",
    "                   keep_default_na=False,\n",
    "                   na_values=['', -9999])\n",
    "df.head()"
   ]
  },
  {
   "cell_type": "markdown",
   "metadata": {},
   "source": [
    "## 10.3 Séries temporelles\n",
    "\n",
    "Le librairie `pandas` gère les séries temporelles.\n",
    "\n",
    "Nous allons introduire quelques notions :\n",
    "- lecture de données temporelles\n",
    "- accès aux données temporelles\n",
    "- calcul d'agrégats temporels\n",
    "- graphiques et fenâtres glissantes\n",
    "\n",
    "### Chargement et préparation des données"
   ]
  },
  {
   "cell_type": "code",
   "execution_count": null,
   "metadata": {},
   "outputs": [],
   "source": [
    "from urllib import request\n",
    "import shutil\n",
    "\n",
    "url = 'http://webstat.banque-france.fr/fr/downloadFile.do?id=5385698&exportType=csv'\n",
    "filename = 'Webstat_Export.csv'\n",
    "\n",
    "# requête du fichier sur le web et sauvegarde locale\n",
    "with request.urlopen(url) as response, open(filename, 'wb') as out_file:\n",
    "    shutil.copyfileobj(response, out_file)"
   ]
  },
  {
   "cell_type": "code",
   "execution_count": null,
   "metadata": {},
   "outputs": [],
   "source": [
    "# source:\n",
    "# https://www.banque-france.fr/statistiques/taux-et-cours/les-taux-de-change-salle-des-marches/parites-quotidiennes\n",
    "\n",
    "# chargement du fichier\n",
    "exchange_rates = pd.read_csv(\"Webstat_Export.csv\",\n",
    "                        sep=\";\",\n",
    "                        header=2,\n",
    "                        na_values='-',\n",
    "                        converters={0: lambda x: pd.to_datetime(x, format='%d/%m/%Y', errors='ignore')})\n",
    "exchange_rates"
   ]
  },
  {
   "cell_type": "markdown",
   "metadata": {},
   "source": [
    "#### Préparation des données :\n",
    "\n",
    "- extraction des codes ISO des devises\n",
    "- sélection des lignes\n",
    "- sélection de quelques devises\n",
    "- traitement des dates avec la fonction `to_datetime()`\n",
    "- drop NaN\n",
    "- traitement des nombres flottants\n",
    "- reset de l'index"
   ]
  },
  {
   "cell_type": "code",
   "execution_count": null,
   "metadata": {},
   "outputs": [],
   "source": [
    "# extraction des code ISO des monnaies\n",
    "cols = pd.Series(exchange_rates.columns.tolist()).str.extract('\\(([A-Z]{3})\\)', expand=True)\n",
    "cols.iloc[0] = 'Date'\n",
    "exchange_rates.columns = cols[0]\n",
    "\n",
    "# sélection des lignes\n",
    "exchange_rates = exchange_rates.iloc[3:]\n",
    "\n",
    "# sélection de quelques devises\n",
    "currencies = ['USD', 'CHF', 'GBP', 'JPY', 'RUB', 'CNY']\n",
    "exchange_rates = exchange_rates[['Date'] + currencies]\n",
    "\n",
    "# traitement des dates\n",
    "exchange_rates['Date'] = pd.to_datetime(exchange_rates['Date'], format='%d/%m/%Y', errors='ignore')\n",
    "\n",
    "\n",
    "# drop nan\n",
    "exchange_rates = exchange_rates.dropna()\n",
    "\n",
    "# traitement des nombres flottants\n",
    "import re\n",
    "exchange_rates[currencies] = exchange_rates[currencies].applymap(lambda x: float(re.sub(',', '.', x)))\n",
    "\n",
    "# reset index\n",
    "exchange_rates = exchange_rates.reset_index(drop=True)\n",
    "exchange_rates"
   ]
  },
  {
   "cell_type": "code",
   "execution_count": null,
   "metadata": {},
   "outputs": [],
   "source": [
    "# info\n",
    "exchange_rates.info()"
   ]
  },
  {
   "cell_type": "markdown",
   "metadata": {},
   "source": [
    "### L'opérateur `dt`\n",
    "\n",
    "L'opérateur `dt` se comporte de manière analogue à l'opérateur `str` pour les `Series`. Il permet d'accéder aux propriététs temporelles des éléments."
   ]
  },
  {
   "cell_type": "code",
   "execution_count": null,
   "metadata": {},
   "outputs": [],
   "source": [
    "# date\n",
    "exchange_rates['Date']"
   ]
  },
  {
   "cell_type": "code",
   "execution_count": null,
   "metadata": {},
   "outputs": [],
   "source": [
    "# les valeurs sont des numpy.datetime64\n",
    "exchange_rates['Date'].values[0]"
   ]
  },
  {
   "cell_type": "code",
   "execution_count": null,
   "metadata": {},
   "outputs": [],
   "source": [
    "# accès à l'année\n",
    "exchange_rates['Date'].dt.year"
   ]
  },
  {
   "cell_type": "code",
   "execution_count": null,
   "metadata": {},
   "outputs": [],
   "source": [
    "# accès au mois\n",
    "exchange_rates['Date'].dt.month"
   ]
  },
  {
   "cell_type": "code",
   "execution_count": null,
   "metadata": {},
   "outputs": [],
   "source": [
    "# access aux jours de la semaine\n",
    "exchange_rates['Date'].dt.weekday"
   ]
  },
  {
   "cell_type": "code",
   "execution_count": null,
   "metadata": {},
   "outputs": [],
   "source": [
    "# valeurs uniques\n",
    "exchange_rates['Date'].dt.weekday.unique()"
   ]
  },
  {
   "cell_type": "markdown",
   "metadata": {},
   "source": [
    "### Sélection de données temporelles\n",
    "\n",
    "Lorsque l'index est un objet de type `datetime`, il est possible d'opérer des sélections en utilisant des dates représentées par des chaines de caractères."
   ]
  },
  {
   "cell_type": "code",
   "execution_count": null,
   "metadata": {},
   "outputs": [],
   "source": [
    "# setting the index as a datetime object\n",
    "exchange_rates = exchange_rates.set_index('Date')\n",
    "exchange_rates = exchange_rates.sort_index()\n",
    "exchange_rates"
   ]
  },
  {
   "cell_type": "code",
   "execution_count": null,
   "metadata": {},
   "outputs": [],
   "source": [
    "# année entière\n",
    "exchange_rates['2020']"
   ]
  },
  {
   "cell_type": "code",
   "execution_count": null,
   "metadata": {},
   "outputs": [],
   "source": [
    "# un mois d'une année\n",
    "exchange_rates['2020/02']  # ou exchange_rates['01/2020']"
   ]
  },
  {
   "cell_type": "code",
   "execution_count": null,
   "metadata": {},
   "outputs": [],
   "source": [
    "# sélection de slices - la seconde période est incluse\n",
    "exchange_rates['12/2019':'02/2020']"
   ]
  },
  {
   "cell_type": "markdown",
   "metadata": {},
   "source": [
    "### Complétion de données temporelles"
   ]
  },
  {
   "cell_type": "code",
   "execution_count": null,
   "metadata": {},
   "outputs": [],
   "source": [
    "# sélection de l'année 2019\n",
    "exchange_rates_2019 = exchange_rates['2019']\n",
    "exchange_rates_2019"
   ]
  },
  {
   "cell_type": "code",
   "execution_count": null,
   "metadata": {},
   "outputs": [],
   "source": [
    "# complétion des données sur une année\n",
    "idx = pd.date_range('01-01-2019', '31-12-2019')\n",
    "exchange_rates_2019 = exchange_rates_2019.reindex(idx, method='nearest')\n",
    "exchange_rates_2019 = exchange_rates_2019.fillna(method='bfill')\n",
    "exchange_rates_2019"
   ]
  },
  {
   "cell_type": "markdown",
   "metadata": {},
   "source": [
    "### Agrégations temporelles\n",
    "\n",
    "Il est possible d'agréger les données selon une certain période de temps en utilisant la méthode `resample()` avec un symbol signifiant la période considérée en ensuite appliquer une méthode d'agrégat.\n",
    "\n",
    "La méthode `resample()` agit de manière similaire à la méthode `groupby()`."
   ]
  },
  {
   "cell_type": "code",
   "execution_count": null,
   "metadata": {},
   "outputs": [],
   "source": [
    "# agrégation annuelle\n",
    "exchange_rates.resample('A').size()"
   ]
  },
  {
   "cell_type": "code",
   "execution_count": null,
   "metadata": {},
   "outputs": [],
   "source": [
    "# agrégation annuelle\n",
    "exchange_rates.resample('A').max()"
   ]
  },
  {
   "cell_type": "code",
   "execution_count": null,
   "metadata": {},
   "outputs": [],
   "source": [
    "# agrégation mensuelle\n",
    "exchange_rates.resample('M').mean()"
   ]
  },
  {
   "cell_type": "markdown",
   "metadata": {},
   "source": [
    "#### fréquences symboliques utilisables (extrait)"
   ]
  },
  {
   "cell_type": "markdown",
   "metadata": {},
   "source": [
    "Alias | Offset type | Description\n",
    "- | - | -\n",
    "D | Day | Calendar daily\n",
    "B | BusinessDay | Business daily\n",
    "H | Hour | Hourly\n",
    "T or min | Minute | Minutely\n",
    "S | Second | Secondly\n",
    "L or ms | Milli | Millisecond (1/1000th of 1 second)\n",
    "U | Micro | Microsecond (1/1000000th of 1 second)\n",
    "M | MonthEnd | Last calendar day of month\n",
    "BM | BusinessMonthEnd | Last business day (weekday) of month\n",
    "MS | MonthBegin | First calendar day of month\n",
    "BMS | BusinessMonthBegin | First weekday of month\n",
    "W-MON, W-TUE, ... | Week | Weekly on given day of week: MON, TUE, WED, THU, FRI, SAT, or SUN.\n",
    "Q-JAN, Q-FEB, ... | QuarterEnd | Quarterly dates anchored on last calendar day of each month,for year ending in indicated month: JAN, FEB, MAR, APR, MAY, JUN, JUL, AUG, SEP, OCT, NOV, or DEC.\n",
    "A-JAN, A-FEB, ... | YearEnd | Annual dates anchored on last calendar day of given month: JAN, FEB, MAR, APR, MAY, JUN, JUL, AUG, SEP, OCT, NOV, or DEC.\n",
    "\n",
    "Source: Python for Data Analysis, Wes McKinney, O'Reilly"
   ]
  },
  {
   "cell_type": "markdown",
   "metadata": {},
   "source": [
    "### Graphiques temporels\n",
    "\n",
    "Il est possible de produire directement des graphiques."
   ]
  },
  {
   "cell_type": "code",
   "execution_count": null,
   "metadata": {},
   "outputs": [],
   "source": [
    "# taux de change\n",
    "exchange_rates.plot();"
   ]
  },
  {
   "cell_type": "markdown",
   "metadata": {},
   "source": [
    "Ci-dessous on divise les taux par leur moyenne respective afin d'ajuster les échelles et qu'elles soient comparables."
   ]
  },
  {
   "cell_type": "code",
   "execution_count": null,
   "metadata": {},
   "outputs": [],
   "source": [
    "# taux de change divisés par leurs moyennes respectives\n",
    "(exchange_rates / exchange_rates.mean()).plot();"
   ]
  },
  {
   "cell_type": "markdown",
   "metadata": {},
   "source": [
    "La méthode `rolling()` permet de produire un graphique avec une moyenne mobile par exemple."
   ]
  },
  {
   "cell_type": "code",
   "execution_count": null,
   "metadata": {},
   "outputs": [],
   "source": [
    "# taux de change divisés par leurs moyennes respectives avec une moyenne mobile de 30 jours\n",
    "(exchange_rates / exchange_rates.mean()).rolling(30).mean().plot();"
   ]
  },
  {
   "cell_type": "markdown",
   "metadata": {},
   "source": [
    "<div class=\"alert alert-success\">\n",
    "<b>Exercise 4</b>\n",
    "<ul>\n",
    "    <li>Afficher un graphique des taux de change divisés par leurs dernières valeurs avec une moyenne mobile de 30 jours</li>\n",
    "    <li>Afficher un graphique des taux de change divisés par leurs moyennes respectives avec un maximum mobile de 100 jours</li>\n",
    "</ul>\n",
    "</div>"
   ]
  }
 ],
 "metadata": {
  "kernelspec": {
   "display_name": "Python 3",
   "language": "python",
   "name": "python3"
  },
  "language_info": {
   "codemirror_mode": {
    "name": "ipython",
    "version": 3
   },
   "file_extension": ".py",
   "mimetype": "text/x-python",
   "name": "python",
   "nbconvert_exporter": "python",
   "pygments_lexer": "ipython3",
   "version": "3.8.5"
  }
 },
 "nbformat": 4,
 "nbformat_minor": 2
}
