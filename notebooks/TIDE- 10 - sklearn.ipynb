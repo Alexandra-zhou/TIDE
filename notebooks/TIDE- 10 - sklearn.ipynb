{
 "cells": [
  {
   "cell_type": "markdown",
   "metadata": {},
   "source": [
    "# Exemples de classification avec scikit-learn\n",
    "\n",
    "On va effectuer un apprentissage supervisé multi-classes avec différentes méthodes de la librairie **scikit-learn** :\n",
    "- Régression logistique\n",
    "- Arbres de décision\n",
    "- Forêts d'arbres décisionnels\n",
    "- K plus proches voisins\n",
    "- Algorithme du gradient stochastique\n",
    "- Machine à vecteurs de support\n",
    "- Classification naïve bayésienne\n",
    "- Réseau de neuronnes\n",
    "\n",
    "Avec **scikit-learn**, le principe est toujours le même :\n",
    "- Matrice de données *X* et vecteur d'étiquettes *y*\n",
    "- Séparation des bases d'apprentissage et de test : *X_train, X_test, y_train, y_test = model_selection.train_test_split(X, y, ...)*\n",
    "- Instanciation d'un algorithme de classification : *algo = XClassifier(...)*\n",
    "- Apprentissage sur la base d'apprentissage : *algo.fit(X_train, y_train)*\n",
    "- Prédiction sur la base de test : *y_pred = algo.predict(X_test)*\n",
    "- Calcul de la performance en comparant y_pred avec y_test : *accuracy_score(y_test, y_pred)*"
   ]
  },
  {
   "cell_type": "code",
   "execution_count": 1,
   "metadata": {
    "collapsed": true
   },
   "outputs": [],
   "source": [
    "# imports usuels\n",
    "import numpy as np\n",
    "import pandas as pnd\n",
    "import matplotlib.pyplot as plt\n",
    "%matplotlib inline\n",
    "\n",
    "# chargement des algorithmes scikit-learn\n",
    "from sklearn.linear_model import LogisticRegression\n",
    "from sklearn.tree import DecisionTreeClassifier\n",
    "from sklearn.ensemble import RandomForestClassifier\n",
    "#from sklearn.neighbors import KNeighborsClassifier\n",
    "from sklearn.svm import LinearSVC\n",
    "from sklearn.linear_model import SGDClassifier\n",
    "from sklearn.naive_bayes import MultinomialNB\n",
    "from sklearn.neural_network import MLPClassifier\n",
    "\n",
    "# utilisatires scikit-learn\n",
    "from sklearn.datasets import fetch_mldata\n",
    "from sklearn import model_selection\n",
    "from sklearn.metrics import accuracy_score\n",
    "\n",
    "# timer\n",
    "import timeit"
   ]
  },
  {
   "cell_type": "markdown",
   "metadata": {},
   "source": [
    "## Chargement des données\n",
    "\n",
    "Cet exemple utilise un dataset du MNIST voir : http://yann.lecun.com/exdb/mnist/\n",
    "\n",
    "The MNIST database of handwritten digits, available from this page, has a training set of 60,000 examples, and a test set of 10,000 examples. It is a subset of a larger set available from NIST. The digits have been size-normalized and centered in a fixed-size image."
   ]
  },
  {
   "cell_type": "code",
   "execution_count": 2,
   "metadata": {
    "collapsed": false
   },
   "outputs": [
    {
     "data": {
      "text/html": [
       "\n",
       "        <iframe\n",
       "            width=\"800\"\n",
       "            height=\"400\"\n",
       "            src=\"http://yann.lecun.com/exdb/mnist/\"\n",
       "            frameborder=\"0\"\n",
       "            allowfullscreen\n",
       "        ></iframe>\n",
       "        "
      ],
      "text/plain": [
       "<IPython.lib.display.IFrame at 0x4d30f60>"
      ]
     },
     "execution_count": 2,
     "metadata": {},
     "output_type": "execute_result"
    }
   ],
   "source": [
    "from IPython.display import IFrame\n",
    "IFrame(\"http://yann.lecun.com/exdb/mnist/\", 800, 400)"
   ]
  },
  {
   "cell_type": "code",
   "execution_count": 3,
   "metadata": {
    "collapsed": false
   },
   "outputs": [
    {
     "name": "stdout",
     "output_type": "stream",
     "text": [
      "(70000, 784) (70000,)\n"
     ]
    }
   ],
   "source": [
    "# import du dataset de 70.000 images en niveau de gris\n",
    "# écriture manuscripte des chiffres de 0 à 9\n",
    "# images étiquettées\n",
    "mnist = fetch_mldata(\"MNIST original\")\n",
    "\n",
    "# rescale the data\n",
    "X, y = mnist.data / 255., mnist.target\n",
    "\n",
    "print(X.shape, y.shape)"
   ]
  },
  {
   "cell_type": "code",
   "execution_count": 4,
   "metadata": {
    "collapsed": false
   },
   "outputs": [
    {
     "data": {
      "text/plain": [
       "28.0"
      ]
     },
     "execution_count": 4,
     "metadata": {},
     "output_type": "execute_result"
    }
   ],
   "source": [
    "# images carrées de 28 x 28 pixels\n",
    "np.sqrt(784)"
   ]
  },
  {
   "cell_type": "markdown",
   "metadata": {},
   "source": [
    "## Affichage des données"
   ]
  },
  {
   "cell_type": "code",
   "execution_count": 5,
   "metadata": {
    "collapsed": true
   },
   "outputs": [],
   "source": [
    "# adapté du MOOC machine learning Coursera Octave displayData.m\n",
    "# et étendu avec l'affichage des chiffres en parallèle des images\n",
    "# et également des écarts des prédictions\n",
    "\n",
    "def display_data(X, y=None, y_predict=None):\n",
    "    example_width = int(np.sqrt(X.shape[1]))\n",
    "\n",
    "    # Compute rows, cols\n",
    "    m, n = X.shape\n",
    "    example_height = int(n / example_width)\n",
    "\n",
    "    # Compute number of items to display\n",
    "    display_rows = int(np.floor(np.sqrt(m)))\n",
    "    display_cols = int(np.ceil(m / display_rows))\n",
    "\n",
    "    # Between images padding\n",
    "    pad = 1\n",
    "\n",
    "    # Setup blank display\n",
    "    display_array = - np.ones((pad + display_rows * (example_height + pad),\\\n",
    "                           pad + display_cols * (example_width + pad)))\n",
    "\n",
    "    # Copy each example into a patch on the display array\n",
    "    # dataset contains N pixel by N pixel grayscale images of the digit \n",
    "    curr_ex = 0\n",
    "    for j in range(display_rows):\n",
    "        for i in range(display_cols):\n",
    "            if curr_ex >= m:\n",
    "                break\n",
    "            # Get the max value of the patch\n",
    "            max_val = max(abs(X[curr_ex]))\n",
    "            display_array[(pad + j * (example_height + pad)):(pad + j * (example_height + pad))+example_height,\\\n",
    "                          (pad + i * (example_width + pad)):(pad + i * (example_width + pad))+example_width] =\\\n",
    "                            np.reshape(X[curr_ex], (example_height, example_width)) / max_val\n",
    "            curr_ex += 1\n",
    "        if curr_ex >= m:\n",
    "            break \n",
    "\n",
    "    plt.figure()\n",
    "    plt.axis('off')\n",
    "    plt.imshow(display_array, cmap=\"Greys_r\")\n",
    "    \n",
    "    if y is not None: # étiquettes des données en entrée\n",
    "        df = pnd.DataFrame(y.reshape((display_rows, display_cols)))\n",
    "        df = df.astype(int)\n",
    "        print(df.to_string(index=False, header=False))\n",
    "        \n",
    "    if y_predict is not None: # étiquettes des données en sortie (écart / entrée)\n",
    "        print('-'*(display_cols*3-2))\n",
    "        z = pnd.Series(y).combine(pnd.Series(y_predict), func=lambda x, y: y if y != x else -1)\n",
    "        df = pnd.DataFrame(z.values.reshape((display_rows, display_cols)))\n",
    "        df = df.astype(int, ignore=True)\n",
    "        df.replace(to_replace=-1, value='.', inplace=True)\n",
    "        print(df.to_string(index=False, header=False))"
   ]
  },
  {
   "cell_type": "code",
   "execution_count": 6,
   "metadata": {
    "collapsed": false
   },
   "outputs": [
    {
     "name": "stdout",
     "output_type": "stream",
     "text": [
      "5  3  6  0  3  8  5  5  5  6\n",
      "8  7  5  8  9  2  6  2  1  3\n",
      "8  9  1  5  3  0  2  5  9  9\n",
      "3  1  5  5  2  6  5  7  2  4\n",
      "5  4  7  5  5  8  9  0  2  9\n",
      "7  8  0  4  8  3  5  0  0  1\n",
      "4  0  8  9  7  4  3  4  2  7\n",
      "5  1  6  4  4  8  3  9  3  7\n",
      "0  8  2  5  7  5  7  6  5  7\n",
      "2  5  5  8  1  3  2  1  2  4\n"
     ]
    },
    {
     "data": {
      "image/png": "[encoded data removed]",
      "text/plain": [
       "<matplotlib.figure.Figure at 0xb6b6f98>"
      ]
     },
     "metadata": {},
     "output_type": "display_data"
    }
   ],
   "source": [
    "# affichage aléatoire de 100 images et des chiffres correspondants\n",
    "rnd = np.random.permutation(X.shape[0])[0:100]\n",
    "sel = X[rnd,:]\n",
    "res = y[rnd]\n",
    "display_data(sel, res)"
   ]
  },
  {
   "cell_type": "markdown",
   "metadata": {},
   "source": [
    "## Préparation du dataset : training set / test set"
   ]
  },
  {
   "cell_type": "code",
   "execution_count": 7,
   "metadata": {
    "collapsed": true
   },
   "outputs": [],
   "source": [
    "# use the traditional train/test split\n",
    "X_train, X_test, y_train, y_test = model_selection.train_test_split(X,y,test_size=60000,random_state=0)"
   ]
  },
  {
   "cell_type": "markdown",
   "metadata": {},
   "source": [
    "## Fonction d'exécution générale"
   ]
  },
  {
   "cell_type": "code",
   "execution_count": 8,
   "metadata": {
    "collapsed": true
   },
   "outputs": [],
   "source": [
    "# fonction d'exécution générale\n",
    "\n",
    "algos = [] # liste des algorithmes employés\n",
    "df = pnd.DataFrame() # tableau des résultats\n",
    "\n",
    "def run(algo):\n",
    "    global algos, df\n",
    "    \n",
    "    start = timeit.default_timer() # start chrono\n",
    "\n",
    "    algo.fit(X_train, y_train) # algorithme d'apprentissage automatique\n",
    "\n",
    "    y_pred = algo.predict(X_train) # prédictions sur le train set\n",
    "    acc_train = accuracy_score(y_train, y_pred)\n",
    "    print(\"Accuracy on train set: %f\" % acc_train)\n",
    "    \n",
    "    y_pred = algo.predict(X_test) # prédictions sur le test set\n",
    "    acc_test = accuracy_score(y_test, y_pred)\n",
    "    print(\"Accuracy on test set:  %f\" % acc_test)\n",
    "\n",
    "    stop = timeit.default_timer() # stop chrono\n",
    "\n",
    "    # agrégation des résultats\n",
    "    algos.append(algo)\n",
    "    df = df.append([[algo.__class__.__name__, stop-start, acc_train, acc_test]], ignore_index=True)"
   ]
  },
  {
   "cell_type": "markdown",
   "metadata": {},
   "source": [
    "## Régression logistique / Logistic Regression\n",
    "\n",
    "Voir : http://scikit-learn.org/stable/modules/linear_model.html#logistic-regression"
   ]
  },
  {
   "cell_type": "code",
   "execution_count": 9,
   "metadata": {
    "collapsed": false
   },
   "outputs": [
    {
     "name": "stdout",
     "output_type": "stream",
     "text": [
      "Accuracy on train set: 0.945600\n",
      "Accuracy on test set:  0.900867\n"
     ]
    }
   ],
   "source": [
    "algo = LogisticRegression()\n",
    "\n",
    "run(algo)"
   ]
  },
  {
   "cell_type": "markdown",
   "metadata": {},
   "source": [
    "## Arbres de décision / Decision Tree\n",
    "\n",
    "Voir : http://scikit-learn.org/stable/modules/tree.html\n"
   ]
  },
  {
   "cell_type": "code",
   "execution_count": 10,
   "metadata": {
    "collapsed": false
   },
   "outputs": [
    {
     "name": "stdout",
     "output_type": "stream",
     "text": [
      "Accuracy on train set: 1.000000\n",
      "Accuracy on test set:  0.804950\n"
     ]
    }
   ],
   "source": [
    "algo = DecisionTreeClassifier()\n",
    "\n",
    "run(algo)"
   ]
  },
  {
   "cell_type": "markdown",
   "metadata": {},
   "source": [
    "## Forêts d'arbres décisionnels / Random Forest\n",
    "\n",
    "Voir : http://scikit-learn.org/stable/modules/ensemble.html#random-forests"
   ]
  },
  {
   "cell_type": "code",
   "execution_count": 11,
   "metadata": {
    "collapsed": false
   },
   "outputs": [
    {
     "name": "stdout",
     "output_type": "stream",
     "text": [
      "Accuracy on train set: 0.998700\n",
      "Accuracy on test set:  0.910700\n"
     ]
    }
   ],
   "source": [
    "algo = RandomForestClassifier()\n",
    "\n",
    "run(algo)"
   ]
  },
  {
   "cell_type": "markdown",
   "metadata": {},
   "source": [
    "## K plus proches voisins / K Nearest Neighbors\n",
    "\n",
    "Voir : http://scikit-learn.org/stable/modules/neighbors.html"
   ]
  },
  {
   "cell_type": "code",
   "execution_count": 12,
   "metadata": {
    "collapsed": true
   },
   "outputs": [],
   "source": [
    "# méthode trop lente\n",
    "#algo = KNeighborsClassifier(n_neighbors=10)\n",
    "\n",
    "#run(algo)"
   ]
  },
  {
   "cell_type": "markdown",
   "metadata": {},
   "source": [
    "## Algorithme du gradient stochastique / Stochastic Gradient Descent\n",
    "\n",
    "Voir : http://scikit-learn.org/stable/modules/sgd.html"
   ]
  },
  {
   "cell_type": "code",
   "execution_count": 13,
   "metadata": {
    "collapsed": false
   },
   "outputs": [
    {
     "name": "stdout",
     "output_type": "stream",
     "text": [
      "Accuracy on train set: 0.905600\n",
      "Accuracy on test set:  0.875733\n"
     ]
    }
   ],
   "source": [
    "algo = SGDClassifier()\n",
    "\n",
    "run(algo)"
   ]
  },
  {
   "cell_type": "markdown",
   "metadata": {},
   "source": [
    "## Machine à vecteurs de support / Support Vector Machine\n",
    "\n",
    "Voir : http://scikit-learn.org/stable/modules/svm.html"
   ]
  },
  {
   "cell_type": "code",
   "execution_count": 14,
   "metadata": {
    "collapsed": false
   },
   "outputs": [
    {
     "name": "stdout",
     "output_type": "stream",
     "text": [
      "Accuracy on train set: 0.963000\n",
      "Accuracy on test set:  0.885400\n"
     ]
    }
   ],
   "source": [
    "algo = LinearSVC()\n",
    "\n",
    "run(algo)"
   ]
  },
  {
   "cell_type": "markdown",
   "metadata": {},
   "source": [
    "## Classification naïve bayésienne / Naive Bayes\n",
    "\n",
    "Voir : http://scikit-learn.org/stable/modules/naive_bayes.html"
   ]
  },
  {
   "cell_type": "code",
   "execution_count": 15,
   "metadata": {
    "collapsed": false
   },
   "outputs": [
    {
     "name": "stdout",
     "output_type": "stream",
     "text": [
      "Accuracy on train set: 0.825400\n",
      "Accuracy on test set:  0.821650\n"
     ]
    }
   ],
   "source": [
    "algo = MultinomialNB()\n",
    "\n",
    "run(algo)"
   ]
  },
  {
   "cell_type": "markdown",
   "metadata": {},
   "source": [
    "## Réseau de neuronnes / Neural Network\n",
    "\n",
    "Voir : http://scikit-learn.org/stable/modules/neural_networks_supervised.html"
   ]
  },
  {
   "cell_type": "code",
   "execution_count": 16,
   "metadata": {
    "collapsed": false
   },
   "outputs": [
    {
     "name": "stdout",
     "output_type": "stream",
     "text": [
      "Accuracy on train set: 1.000000\n",
      "Accuracy on test set:  0.953500\n"
     ]
    }
   ],
   "source": [
    "algo = MLPClassifier()\n",
    "\n",
    "run(algo)"
   ]
  },
  {
   "cell_type": "markdown",
   "metadata": {},
   "source": [
    "## Synthèse des résultats"
   ]
  },
  {
   "cell_type": "code",
   "execution_count": 17,
   "metadata": {
    "collapsed": false
   },
   "outputs": [
    {
     "data": {
      "text/html": [
       "<div>\n",
       "<style>\n",
       "    .dataframe thead tr:only-child th {\n",
       "        text-align: right;\n",
       "    }\n",
       "\n",
       "    .dataframe thead th {\n",
       "        text-align: left;\n",
       "    }\n",
       "\n",
       "    .dataframe tbody tr th {\n",
       "        vertical-align: top;\n",
       "    }\n",
       "</style>\n",
       "<table border=\"1\" class=\"dataframe\">\n",
       "  <thead>\n",
       "    <tr style=\"text-align: right;\">\n",
       "      <th></th>\n",
       "      <th>algo</th>\n",
       "      <th>time</th>\n",
       "      <th>train</th>\n",
       "      <th>test</th>\n",
       "    </tr>\n",
       "  </thead>\n",
       "  <tbody>\n",
       "    <tr>\n",
       "      <th>6</th>\n",
       "      <td>MLPClassifier</td>\n",
       "      <td>15.520836</td>\n",
       "      <td>1.0000</td>\n",
       "      <td>0.953500</td>\n",
       "    </tr>\n",
       "    <tr>\n",
       "      <th>2</th>\n",
       "      <td>RandomForestClassifier</td>\n",
       "      <td>0.764462</td>\n",
       "      <td>0.9987</td>\n",
       "      <td>0.910700</td>\n",
       "    </tr>\n",
       "    <tr>\n",
       "      <th>0</th>\n",
       "      <td>LogisticRegression</td>\n",
       "      <td>6.300641</td>\n",
       "      <td>0.9456</td>\n",
       "      <td>0.900867</td>\n",
       "    </tr>\n",
       "    <tr>\n",
       "      <th>4</th>\n",
       "      <td>LinearSVC</td>\n",
       "      <td>6.386918</td>\n",
       "      <td>0.9630</td>\n",
       "      <td>0.885400</td>\n",
       "    </tr>\n",
       "    <tr>\n",
       "      <th>3</th>\n",
       "      <td>SGDClassifier</td>\n",
       "      <td>0.547559</td>\n",
       "      <td>0.9056</td>\n",
       "      <td>0.875733</td>\n",
       "    </tr>\n",
       "    <tr>\n",
       "      <th>5</th>\n",
       "      <td>MultinomialNB</td>\n",
       "      <td>0.163696</td>\n",
       "      <td>0.8254</td>\n",
       "      <td>0.821650</td>\n",
       "    </tr>\n",
       "    <tr>\n",
       "      <th>1</th>\n",
       "      <td>DecisionTreeClassifier</td>\n",
       "      <td>1.775019</td>\n",
       "      <td>1.0000</td>\n",
       "      <td>0.804950</td>\n",
       "    </tr>\n",
       "  </tbody>\n",
       "</table>\n",
       "</div>"
      ],
      "text/plain": [
       "                     algo       time   train      test\n",
       "6           MLPClassifier  15.520836  1.0000  0.953500\n",
       "2  RandomForestClassifier   0.764462  0.9987  0.910700\n",
       "0      LogisticRegression   6.300641  0.9456  0.900867\n",
       "4               LinearSVC   6.386918  0.9630  0.885400\n",
       "3           SGDClassifier   0.547559  0.9056  0.875733\n",
       "5           MultinomialNB   0.163696  0.8254  0.821650\n",
       "1  DecisionTreeClassifier   1.775019  1.0000  0.804950"
      ]
     },
     "execution_count": 17,
     "metadata": {},
     "output_type": "execute_result"
    }
   ],
   "source": [
    "df.columns = ['algo', 'time', 'train', 'test']\n",
    "df.sort_values(by='test', ascending=False, inplace=True)\n",
    "df"
   ]
  },
  {
   "cell_type": "markdown",
   "metadata": {},
   "source": [
    "## Affichage des datasets moyens"
   ]
  },
  {
   "cell_type": "code",
   "execution_count": 18,
   "metadata": {
    "collapsed": true
   },
   "outputs": [],
   "source": [
    "# dernier algo utilisé\n",
    "algo.fit(X_train, y_train)\n",
    "# prédiction sur le train set\n",
    "y_pred = algo.predict(X)"
   ]
  },
  {
   "cell_type": "code",
   "execution_count": 19,
   "metadata": {
    "collapsed": false
   },
   "outputs": [
    {
     "data": {
      "image/png": "[encoded data removed]",
      "text/plain": [
       "<matplotlib.figure.Figure at 0xb6b6a58>"
      ]
     },
     "metadata": {},
     "output_type": "display_data"
    }
   ],
   "source": [
    "# display mean tagged digit set\n",
    "z1 = np.concatenate([np.mean(X[y == i], axis=0) for i in range(10)])\n",
    "display_data(z1.reshape((10,28*28)))"
   ]
  },
  {
   "cell_type": "code",
   "execution_count": 20,
   "metadata": {
    "collapsed": false
   },
   "outputs": [
    {
     "data": {
      "image/png": "[encoded data removed]",
      "text/plain": [
       "<matplotlib.figure.Figure at 0x14b4ac18>"
      ]
     },
     "metadata": {},
     "output_type": "display_data"
    }
   ],
   "source": [
    "# display mean right recognized digit set\n",
    "z3 = np.concatenate([np.mean(X[(y_pred == y) & (y == i)], axis=0) for i in range(10)])\n",
    "display_data(z3.reshape((10,28*28)))"
   ]
  },
  {
   "cell_type": "code",
   "execution_count": 21,
   "metadata": {
    "collapsed": false
   },
   "outputs": [
    {
     "data": {
      "image/png": "[encoded data removed]",
      "text/plain": [
       "<matplotlib.figure.Figure at 0x14ba21d0>"
      ]
     },
     "metadata": {},
     "output_type": "display_data"
    }
   ],
   "source": [
    "# display mean wrong recognized digit set\n",
    "z3 = np.concatenate([np.mean(X[(y_pred != y) & (y == i)], axis=0) for i in range(10)])\n",
    "display_data(z3.reshape((10,28*28)))"
   ]
  },
  {
   "cell_type": "markdown",
   "metadata": {},
   "source": [
    "## Affichage de résultats sur le test set"
   ]
  },
  {
   "cell_type": "code",
   "execution_count": 22,
   "metadata": {
    "collapsed": true
   },
   "outputs": [],
   "source": [
    "# dernier algo utilisé\n",
    "# prédiction sur le test set\n",
    "y_pred = algo.predict(X_test)"
   ]
  },
  {
   "cell_type": "code",
   "execution_count": 23,
   "metadata": {
    "collapsed": false
   },
   "outputs": [
    {
     "name": "stdout",
     "output_type": "stream",
     "text": [
      "9  5  4  7  9  4  9  8  3  5\n",
      "8  6  1  9  5  5  0  0  3  3\n",
      "9  3  9  3  3  9  2  2  1  8\n",
      "6  8  6  7  3  9  5  8  5  8\n",
      "5  1  1  6  1  2  7  4  3  5\n",
      "0  3  6  8  2  3  8  1  1  2\n",
      "6  1  3  6  8  5  0  2  6  9\n",
      "6  4  6  4  2  8  4  1  6  8\n",
      "3  0  9  6  9  1  4  1  8  9\n",
      "3  1  8  4  6  3  4  3  5  1\n",
      "----------------------------\n",
      ".  .  .  .  .  .  .  .  .  .\n",
      ".  .  .  .  6  .  .  .  .  .\n",
      "2  .  .  5  .  .  .  .  .  .\n",
      ".  .  .  .  .  .  .  .  .  .\n",
      ".  .  9  .  .  .  .  .  .  .\n",
      ".  .  .  .  .  .  .  .  .  .\n",
      ".  .  .  .  .  .  .  .  .  .\n",
      ".  .  .  .  .  .  .  .  .  .\n",
      ".  .  .  .  .  .  0  .  .  .\n",
      ".  .  .  .  .  .  .  .  .  .\n"
     ]
    },
    {
     "data": {
      "image/png": "[encoded data removed]",
      "text/plain": [
       "<matplotlib.figure.Figure at 0x14c1c128>"
      ]
     },
     "metadata": {},
     "output_type": "display_data"
    }
   ],
   "source": [
    "# affichage aléatoire de 100 chiffres et des tags associés\n",
    "rnd = np.random.permutation(X_test.shape[0])[0:100]\n",
    "sel = X_test[rnd,:] # 100 random digits\n",
    "res = y_test[rnd]\n",
    "pred = y_pred[rnd]\n",
    "display_data(sel, res, pred)"
   ]
  },
  {
   "cell_type": "markdown",
   "metadata": {},
   "source": [
    "## Prévisions sur une image fabriquée manuellement"
   ]
  },
  {
   "cell_type": "code",
   "execution_count": 28,
   "metadata": {
    "collapsed": false
   },
   "outputs": [
    {
     "data": {
      "image/png": "[encoded data removed]",
      "text/plain": [
       "<matplotlib.figure.Figure at 0x15b4fe80>"
      ]
     },
     "metadata": {},
     "output_type": "display_data"
    }
   ],
   "source": [
    "var = plt.imread(\"C:/Users/francis/Desktop/test.bmp\")\n",
    "plt.axis('off')\n",
    "plt.imshow(var, cmap='gray');"
   ]
  },
  {
   "cell_type": "code",
   "execution_count": 31,
   "metadata": {
    "collapsed": false
   },
   "outputs": [
    {
     "name": "stdout",
     "output_type": "stream",
     "text": [
      "LogisticRegression 3.0\n",
      "DecisionTreeClassifier 3.0\n",
      "RandomForestClassifier 3.0\n",
      "SGDClassifier 3.0\n",
      "LinearSVC 3.0\n",
      "MultinomialNB 3.0\n",
      "MLPClassifier 3.0\n"
     ]
    }
   ],
   "source": [
    "# prédictions de chacun des algorithmes sur l'échantillon\n",
    "sample = [var.flatten()/255]\n",
    "\n",
    "for algo in algos:\n",
    "    prediction = algo.predict(sample)[0]\n",
    "    print(algo.__class__.__name__, prediction)"
   ]
  },
  {
   "cell_type": "code",
   "execution_count": null,
   "metadata": {
    "collapsed": true
   },
   "outputs": [],
   "source": []
  }
 ],
 "metadata": {
  "anaconda-cloud": {},
  "kernelspec": {
   "display_name": "Python [default]",
   "language": "python",
   "name": "python3"
  },
  "language_info": {
   "codemirror_mode": {
    "name": "ipython",
    "version": 3
   },
   "file_extension": ".py",
   "mimetype": "text/x-python",
   "name": "python",
   "nbconvert_exporter": "python",
   "pygments_lexer": "ipython3",
   "version": "3.5.2"
  }
 },
 "nbformat": 4,
 "nbformat_minor": 1
}
