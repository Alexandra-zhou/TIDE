{
 "cells": [
  {
   "cell_type": "markdown",
   "metadata": {},
   "source": [
    "# Statistiques sur les prénoms aux USA\n",
    "\n",
    "\n",
    "Données accessibles sur le site de la Sécurité Sociale US.\n",
    "\n",
    "Prénom, genre et effectif des enfants nés aux USA depuis 1880.\n",
    "\n",
    "Seuls les prénoms avec au moins 5 naissances dans une année sont présents."
   ]
  },
  {
   "cell_type": "code",
   "execution_count": null,
   "metadata": {
    "collapsed": false
   },
   "outputs": [],
   "source": [
    "from IPython.display import HTML\n",
    "HTML('<iframe src=\"https://www.ssa.gov/oact/babynames/limits.html\" width=800 height=400></iframe>')"
   ]
  },
  {
   "cell_type": "code",
   "execution_count": null,
   "metadata": {
    "collapsed": false
   },
   "outputs": [],
   "source": [
    "# imports\n",
    "import pandas as pnd\n",
    "import numpy as np\n",
    "import os\n",
    "import matplotlib.pyplot as plt\n",
    "\n",
    "# commande magique pour l'affichage des graphiques\n",
    "%matplotlib inline\n",
    "\n",
    "# options d'affichage\n",
    "from pandas import set_option\n",
    "set_option(\"display.max_rows\", 16)\n",
    "plt.style.use('seaborn-notebook')"
   ]
  },
  {
   "cell_type": "markdown",
   "metadata": {},
   "source": [
    "## 1. Chargement des données d'une seule année"
   ]
  },
  {
   "cell_type": "code",
   "execution_count": null,
   "metadata": {
    "collapsed": false
   },
   "outputs": [],
   "source": [
    "# chargement des données d'une année dans un DataFrame\n",
    "path = \"C:/Test/mydata/names\"\n",
    "filename = \"yob2015.txt\"\n",
    "df2015 = pnd.read_csv(os.path.join(path, filename),\n",
    "                           header=None,\n",
    "                           names=['prénom', 'genre', 'naissances'])\n",
    "df2015.head()"
   ]
  },
  {
   "cell_type": "code",
   "execution_count": null,
   "metadata": {
    "collapsed": true
   },
   "outputs": [],
   "source": [
    "# aide en ligne\n",
    "pnd.read_csv?"
   ]
  },
  {
   "cell_type": "code",
   "execution_count": null,
   "metadata": {
    "collapsed": false
   },
   "outputs": [],
   "source": [
    "# dimensions du DataFrame\n",
    "df2015.shape"
   ]
  },
  {
   "cell_type": "code",
   "execution_count": null,
   "metadata": {
    "collapsed": false
   },
   "outputs": [],
   "source": [
    "# naissances par genre en 2015\n",
    "df2015.groupby(\"genre\").sum()"
   ]
  },
  {
   "cell_type": "code",
   "execution_count": null,
   "metadata": {
    "collapsed": false
   },
   "outputs": [],
   "source": [
    "# les 10 prénoms les plus donnés en 2015\n",
    "df2015.sort_values(by='naissances', ascending=False).head(10)"
   ]
  },
  {
   "cell_type": "markdown",
   "metadata": {},
   "source": [
    "## 2. Chargement de toutes les données"
   ]
  },
  {
   "cell_type": "code",
   "execution_count": null,
   "metadata": {
    "collapsed": false
   },
   "outputs": [],
   "source": [
    "# chargement de toute les données dans un DataFrame\n",
    "df = pnd.DataFrame()\n",
    "for root, dirs, files in os.walk(path):\n",
    "    for filename in files:\n",
    "        annee = int(filename[3:7]) # yobAAAA.txt\n",
    "        csv = pnd.read_csv(os.path.join(root, filename),\n",
    "                           header=None,\n",
    "                           names=['prénom', 'genre', 'naissances'])\n",
    "        csv['année'] = annee\n",
    "        df = df.append(csv, ignore_index=True)\n",
    "df = df[['année', 'prénom', 'genre', 'naissances']]\n",
    "# tête du DataFrame\n",
    "df.head()"
   ]
  },
  {
   "cell_type": "code",
   "execution_count": null,
   "metadata": {
    "collapsed": false
   },
   "outputs": [],
   "source": [
    "# queue du DataFrame\n",
    "df.tail()"
   ]
  },
  {
   "cell_type": "code",
   "execution_count": null,
   "metadata": {
    "collapsed": false
   },
   "outputs": [],
   "source": [
    "# taille du DataFrame\n",
    "df.shape"
   ]
  },
  {
   "cell_type": "code",
   "execution_count": null,
   "metadata": {
    "collapsed": false
   },
   "outputs": [],
   "source": [
    "# les 10 prénoms les plus donnés dans une année\n",
    "df.sort_values(by='naissances', ascending=False).head(10)"
   ]
  },
  {
   "cell_type": "code",
   "execution_count": null,
   "metadata": {
    "collapsed": false
   },
   "outputs": [],
   "source": [
    "# nombre de naissances par genre\n",
    "df.pivot_table(index='genre', values=['naissances'], aggfunc=np.sum)"
   ]
  },
  {
   "cell_type": "code",
   "execution_count": null,
   "metadata": {
    "collapsed": false,
    "scrolled": true
   },
   "outputs": [],
   "source": [
    "# les 10 prénoms + genre les plus donnés\n",
    "data = df.pivot_table(index=['prénom','genre'], values=['naissances'], aggfunc=np.sum)\n",
    "data.sort_values(by='naissances', ascending=False, inplace=True)\n",
    "data.reset_index(inplace=True)\n",
    "data.head(10)"
   ]
  },
  {
   "cell_type": "code",
   "execution_count": null,
   "metadata": {
    "collapsed": true
   },
   "outputs": [],
   "source": [
    "# recherche d'une chaine\n",
    "def cherche(chaine):\n",
    "    global data\n",
    "    return data[data['prénom'].str.startswith(chaine)].head(10)"
   ]
  },
  {
   "cell_type": "code",
   "execution_count": null,
   "metadata": {
    "collapsed": false
   },
   "outputs": [],
   "source": [
    "cherche(\"Jo\") # Nath Fran Em"
   ]
  },
  {
   "cell_type": "code",
   "execution_count": null,
   "metadata": {
    "collapsed": false
   },
   "outputs": [],
   "source": [
    "# naissances par année et par genre\n",
    "total = df.pivot_table(index='année', columns=['genre'], values='naissances', aggfunc=np.sum)\n",
    "total"
   ]
  },
  {
   "cell_type": "code",
   "execution_count": null,
   "metadata": {
    "collapsed": false
   },
   "outputs": [],
   "source": [
    "# graphique\n",
    "total.plot(title=\"Total des naissances par année et par genre\", color=['r','b']);"
   ]
  },
  {
   "cell_type": "code",
   "execution_count": null,
   "metadata": {
    "collapsed": false
   },
   "outputs": [],
   "source": [
    "# évolution d'un prénom\n",
    "def stats_prenom(prenom, genre):\n",
    "    global df\n",
    "    data = df[(df['prénom']==prenom)&(df['genre']==genre)]\n",
    "    pivot = data.pivot_table(index='année', values='naissances')\n",
    "    pivot.plot(title=\"Total des naissances de %s (%s) par année\" % (prenom, genre));"
   ]
  },
  {
   "cell_type": "code",
   "execution_count": null,
   "metadata": {
    "collapsed": false
   },
   "outputs": [],
   "source": [
    "stats_prenom('Sarah', 'F')"
   ]
  },
  {
   "cell_type": "code",
   "execution_count": null,
   "metadata": {
    "collapsed": false
   },
   "outputs": [],
   "source": [
    "stats_prenom('Barack', 'M')"
   ]
  },
  {
   "cell_type": "markdown",
   "metadata": {},
   "source": [
    "## 3. Analyse de tendances"
   ]
  },
  {
   "cell_type": "code",
   "execution_count": null,
   "metadata": {
    "collapsed": false
   },
   "outputs": [],
   "source": [
    "# regroupement par année et genre\n",
    "for nom, groupe in df.groupby(['année', 'genre']):\n",
    "    print(nom)\n",
    "    print(groupe)\n",
    "    break"
   ]
  },
  {
   "cell_type": "code",
   "execution_count": null,
   "metadata": {
    "collapsed": false
   },
   "outputs": [],
   "source": [
    "def ajout_proportion(groupe):\n",
    "    # Integer division floors\n",
    "    naissances = groupe[\"naissances\"].astype(float)\n",
    "    groupe['proportion'] = naissances / naissances.sum()\n",
    "    return groupe\n",
    "\n",
    "df = df.groupby(['année', 'genre']).apply(ajout_proportion)\n",
    "df.head()"
   ]
  },
  {
   "cell_type": "code",
   "execution_count": null,
   "metadata": {
    "collapsed": false
   },
   "outputs": [],
   "source": [
    "# on vérifie que la somme des proportions par année et par genre vaut 1\n",
    "df.groupby(['année', 'genre'])[\"proportion\"].sum()==1"
   ]
  },
  {
   "cell_type": "code",
   "execution_count": null,
   "metadata": {
    "collapsed": false
   },
   "outputs": [],
   "source": [
    "# vérification : la somme des proportions par année et par genre vaut presque 1\n",
    "np.allclose(df.groupby(['année', 'genre'])[\"proportion\"].sum(), 1)"
   ]
  },
  {
   "cell_type": "code",
   "execution_count": null,
   "metadata": {
    "collapsed": false
   },
   "outputs": [],
   "source": [
    "# sélection du top 1000 des prénoms + genre par année\n",
    "def top1000(groupe):\n",
    "    return groupe.sort_values(by='naissances', ascending=False)[:1000]\n",
    "\n",
    "df1000 = df.groupby(['année', 'genre']).apply(top1000)\n",
    "df1000.head()"
   ]
  },
  {
   "cell_type": "code",
   "execution_count": null,
   "metadata": {
    "collapsed": false
   },
   "outputs": [],
   "source": [
    "# taille du DataFrame\n",
    "df1000.shape"
   ]
  },
  {
   "cell_type": "code",
   "execution_count": null,
   "metadata": {
    "collapsed": false
   },
   "outputs": [],
   "source": [
    "# évolution des prénoms par année\n",
    "data = df1000.pivot_table(index='année', columns='prénom', values='naissances', aggfunc=sum)\n",
    "data = data[['John', 'Harry', 'Mary', 'Marilyn']]\n",
    "data.head()"
   ]
  },
  {
   "cell_type": "code",
   "execution_count": null,
   "metadata": {
    "collapsed": false
   },
   "outputs": [],
   "source": [
    "# graphique\n",
    "data.plot(subplots=True, figsize=(12, 10), grid=False, title=\"Nombre de naissances par an\");"
   ]
  },
  {
   "cell_type": "markdown",
   "metadata": {},
   "source": [
    "## 4. Mesure de l'évolution de la diversité des prénoms"
   ]
  },
  {
   "cell_type": "code",
   "execution_count": null,
   "metadata": {
    "collapsed": false
   },
   "outputs": [],
   "source": [
    "# nombre de prénoms différents par année et genre\n",
    "data = df.pivot_table(index='année', columns='genre', values='prénom', aggfunc=lambda x: len(x))\n",
    "data.head()"
   ]
  },
  {
   "cell_type": "code",
   "execution_count": null,
   "metadata": {
    "collapsed": false
   },
   "outputs": [],
   "source": [
    "data.tail()"
   ]
  },
  {
   "cell_type": "code",
   "execution_count": null,
   "metadata": {
    "collapsed": false
   },
   "outputs": [],
   "source": [
    "# graphique\n",
    "data.plot(title=\"Evolution du nombre de prénoms distincts par genre\",\n",
    "         color=['r', 'b']);"
   ]
  },
  {
   "cell_type": "code",
   "execution_count": null,
   "metadata": {
    "collapsed": false
   },
   "outputs": [],
   "source": [
    "# proportion des naissances qui sont dans le top 1000 par année et par genre\n",
    "data = df1000.pivot_table(index='année', columns='genre', values='proportion', aggfunc=sum)\n",
    "data.head()"
   ]
  },
  {
   "cell_type": "code",
   "execution_count": null,
   "metadata": {
    "collapsed": false
   },
   "outputs": [],
   "source": [
    "data.tail()"
   ]
  },
  {
   "cell_type": "code",
   "execution_count": null,
   "metadata": {
    "collapsed": false
   },
   "outputs": [],
   "source": [
    "# graphique\n",
    "data.plot(title='Proportion des naissances dans le top 1000 par année et genre',\n",
    "          xticks=range(1880, 2020, 10),\n",
    "          yticks=np.linspace(0, 1.2, 13),\n",
    "          figsize=(12, 6),\n",
    "          color=['r','b']);"
   ]
  },
  {
   "cell_type": "code",
   "execution_count": null,
   "metadata": {
    "collapsed": false
   },
   "outputs": [],
   "source": [
    "# sous-ensembles par genre\n",
    "df1 = df1000[df1000[\"genre\"]==\"M\"]\n",
    "df1.head()"
   ]
  },
  {
   "cell_type": "code",
   "execution_count": null,
   "metadata": {
    "collapsed": false
   },
   "outputs": [],
   "source": [
    "# année 2015\n",
    "df1_2015 = df1[df1[\"année\"]==2015]\n",
    "df1_2015"
   ]
  },
  {
   "cell_type": "code",
   "execution_count": null,
   "metadata": {
    "collapsed": false
   },
   "outputs": [],
   "source": [
    "# cumul de de la proportion des naissances pour 2015 + M\n",
    "cumul1_2015 = df1_2015.sort_values(by='proportion', ascending=False)[\"proportion\"].cumsum()\n",
    "cumul1_2015"
   ]
  },
  {
   "cell_type": "code",
   "execution_count": null,
   "metadata": {
    "collapsed": false
   },
   "outputs": [],
   "source": [
    "# recherche du rang correspondant à un cumul de 0.5 (50%)\n",
    "cumul1_2015.searchsorted(0.5)[0]"
   ]
  },
  {
   "cell_type": "code",
   "execution_count": null,
   "metadata": {
    "collapsed": false
   },
   "outputs": [],
   "source": [
    "df1[df1[\"année\"]==1880].sort_values(by='proportion', ascending=False)[\"proportion\"].cumsum().searchsorted(0.5)[0]"
   ]
  },
  {
   "cell_type": "code",
   "execution_count": null,
   "metadata": {
    "collapsed": true
   },
   "outputs": [],
   "source": [
    "# fonction de calcul du rang correspondant à un cumul de q\n",
    "def quantile_compte(groupe, q=0.5):\n",
    "    g = groupe.sort_values(by='proportion', ascending=False)\n",
    "    return g[\"proportion\"].cumsum().searchsorted(q)[0] + 1"
   ]
  },
  {
   "cell_type": "code",
   "execution_count": null,
   "metadata": {
    "collapsed": false
   },
   "outputs": [],
   "source": [
    "# calcul de la diversité\n",
    "diversite = df1000.groupby(['année', 'genre']).apply(quantile_compte)\n",
    "diversite = diversite.unstack('genre')\n",
    "diversite.head()"
   ]
  },
  {
   "cell_type": "code",
   "execution_count": null,
   "metadata": {
    "collapsed": false
   },
   "outputs": [],
   "source": [
    "# graphique\n",
    "diversite.plot(title=\"Nombre de prénoms populaires dans le top 50%\",\n",
    "          color=['r','b']);"
   ]
  },
  {
   "cell_type": "markdown",
   "metadata": {
    "collapsed": true
   },
   "source": [
    "## 5. Evolution de la dernière lettre des prénoms"
   ]
  },
  {
   "cell_type": "code",
   "execution_count": null,
   "metadata": {
    "collapsed": false
   },
   "outputs": [],
   "source": [
    "# ajout d'une colonne avec la lettre terminale\n",
    "df[\"terminale\"] = df[\"prénom\"].apply(lambda x: x[-1])\n",
    "df.head()"
   ]
  },
  {
   "cell_type": "code",
   "execution_count": null,
   "metadata": {
    "collapsed": false
   },
   "outputs": [],
   "source": [
    "# tableau du nombre de prénoms par année x lettre terminale\n",
    "data = df.pivot_table(index='année', columns='terminale', values='prénom', aggfunc=len)\n",
    "data.head()"
   ]
  },
  {
   "cell_type": "code",
   "execution_count": null,
   "metadata": {
    "collapsed": false
   },
   "outputs": [],
   "source": [
    "data.tail()"
   ]
  },
  {
   "cell_type": "code",
   "execution_count": null,
   "metadata": {
    "collapsed": false
   },
   "outputs": [],
   "source": [
    "# les 7 lettres terminales les plus utilisées en 2015\n",
    "lettres = data.loc[2015].sort_values(ascending=False).head(7).index.values\n",
    "lettres"
   ]
  },
  {
   "cell_type": "code",
   "execution_count": null,
   "metadata": {
    "collapsed": false
   },
   "outputs": [],
   "source": [
    "# graphique\n",
    "data[lettres].plot(title=\"Evolution du nombre de prénoms distincts en fonction de leur lettre terminale\");"
   ]
  },
  {
   "cell_type": "code",
   "execution_count": null,
   "metadata": {
    "collapsed": false
   },
   "outputs": [],
   "source": [
    "# tableau letres terminales x (genres, années)\n",
    "data = df.pivot_table(index='terminale', columns=['genre', 'année'], values='naissances', aggfunc=sum)\n",
    "data.head()"
   ]
  },
  {
   "cell_type": "code",
   "execution_count": null,
   "metadata": {
    "collapsed": false
   },
   "outputs": [],
   "source": [
    "# extrait pour les années 1910, 1960 et 2010\n",
    "subdata = data.reindex(columns=[1910, 1960, 2010], level='année')\n",
    "subdata"
   ]
  },
  {
   "cell_type": "code",
   "execution_count": null,
   "metadata": {
    "collapsed": false
   },
   "outputs": [],
   "source": [
    "# total par année\n",
    "subdata.sum()"
   ]
  },
  {
   "cell_type": "code",
   "execution_count": null,
   "metadata": {
    "collapsed": false
   },
   "outputs": [],
   "source": [
    "# proportion du nombre de prénoms par lettre terminale\n",
    "proportion_lettre = subdata / subdata.sum().astype(float)\n",
    "proportion_lettre"
   ]
  },
  {
   "cell_type": "code",
   "execution_count": null,
   "metadata": {
    "collapsed": false
   },
   "outputs": [],
   "source": [
    "# graphique\n",
    "fig, axes = plt.subplots(2, 1, figsize=(10, 8))\n",
    "proportion_lettre['M'].plot(kind='bar', rot=0, ax=axes[0], title='Masculin')\n",
    "proportion_lettre['F'].plot(kind='bar', rot=0, ax=axes[1], title='Féminin', legend=False);"
   ]
  },
  {
   "cell_type": "code",
   "execution_count": null,
   "metadata": {
    "collapsed": false
   },
   "outputs": [],
   "source": [
    "# proportion du nombre de prénoms par lettre terminale\n",
    "proportion_lettre = data / data.sum().astype(float)\n",
    "proportion_lettre"
   ]
  },
  {
   "cell_type": "code",
   "execution_count": null,
   "metadata": {
    "collapsed": false
   },
   "outputs": [],
   "source": [
    "# proportion pour les lettres d, n et y (M)\n",
    "dny = proportion_lettre.ix[['d', 'n', 'y'], 'M'].T\n",
    "dny"
   ]
  },
  {
   "cell_type": "code",
   "execution_count": null,
   "metadata": {
    "collapsed": false
   },
   "outputs": [],
   "source": [
    "# graphique\n",
    "dny.plot(title=\"Proportion des hommes avec des prénoms se terminant en d, n ou y\");"
   ]
  },
  {
   "cell_type": "code",
   "execution_count": null,
   "metadata": {
    "collapsed": false
   },
   "outputs": [],
   "source": [
    "# proportion pour les lettres a, e et n (F)\n",
    "aen = proportion_lettre.ix[['a', 'e', 'n'], 'F'].T\n",
    "aen"
   ]
  },
  {
   "cell_type": "code",
   "execution_count": null,
   "metadata": {
    "collapsed": false
   },
   "outputs": [],
   "source": [
    "# graphique\n",
    "aen.plot(title=\"Proportion des femmes avec des prénoms se terminant en a, e ou n\");"
   ]
  },
  {
   "cell_type": "markdown",
   "metadata": {},
   "source": [
    "## 6. Prénoms dont le genre a évolué"
   ]
  },
  {
   "cell_type": "code",
   "execution_count": null,
   "metadata": {
    "collapsed": false
   },
   "outputs": [],
   "source": [
    "# ratio par prénom et par an du genre F\n",
    "data = df1000.pivot_table(index=['prénom','année'], columns=['genre'], values='naissances', aggfunc=np.sum)\n",
    "data.dropna(inplace=True)\n",
    "data[\"ratio\"] = data[\"F\"] / (data[\"F\"]+data[\"M\"])\n",
    "data.reset_index(inplace=True)\n",
    "data"
   ]
  },
  {
   "cell_type": "code",
   "execution_count": null,
   "metadata": {
    "collapsed": false
   },
   "outputs": [],
   "source": [
    "# variance du ratio par prénom\n",
    "data = data.pivot_table(index='prénom', values=['ratio'], aggfunc=np.var)\n",
    "data.dropna(inplace=True)\n",
    "data.sort_values(by=\"ratio\", ascending=False, inplace=True)\n",
    "data.head()"
   ]
  },
  {
   "cell_type": "code",
   "execution_count": null,
   "metadata": {
    "collapsed": false
   },
   "outputs": [],
   "source": [
    "# sélection des données pour le prénom leslie\n",
    "data = df[df[\"prénom\"]==\"Leslie\"]\n",
    "data"
   ]
  },
  {
   "cell_type": "code",
   "execution_count": null,
   "metadata": {
    "collapsed": false
   },
   "outputs": [],
   "source": [
    "# tableau du ratio de naissances de Leslie par année et par genre\n",
    "table = data.pivot_table(index='année', columns='genre', values='naissances', aggfunc='sum')\n",
    "table = table.div(table.sum(1), axis=0)\n",
    "table"
   ]
  },
  {
   "cell_type": "code",
   "execution_count": null,
   "metadata": {
    "collapsed": false
   },
   "outputs": [],
   "source": [
    "# graphique\n",
    "table.plot(style={'M': 'b', 'F': 'r'}, title=\"Evolution de la proportion du prénom Leslie par genre\");"
   ]
  },
  {
   "cell_type": "code",
   "execution_count": null,
   "metadata": {
    "collapsed": true
   },
   "outputs": [],
   "source": [
    "# fonction de calcul de l'évolution d'un prénom par genre\n",
    "def evolution(prenom):\n",
    "    data = df[df[\"prénom\"]==prenom]\n",
    "    table = data.pivot_table(index='année', columns='genre', values='naissances', aggfunc='sum')\n",
    "    table = table.div(table.sum(1), axis=0)\n",
    "    table.plot(style={'M': 'b', 'F': 'r'}, title=\"Evolution de la proportion du prénom %s par genre\" % prenom);"
   ]
  },
  {
   "cell_type": "code",
   "execution_count": null,
   "metadata": {
    "collapsed": false
   },
   "outputs": [],
   "source": [
    "evolution(\"Sidney\")"
   ]
  },
  {
   "cell_type": "markdown",
   "metadata": {},
   "source": [
    "## 7. Comparaison du nombre de naissances entre 2 années sucessives"
   ]
  },
  {
   "cell_type": "code",
   "execution_count": null,
   "metadata": {
    "collapsed": false
   },
   "outputs": [],
   "source": [
    "# années 2014 et 2015\n",
    "var = df[df[\"année\"].isin([2014,2015])].pivot_table(index=\"prénom\",columns=\"année\",values=\"naissances\")\n",
    "var.fillna(0, inplace=True)\n",
    "var /=1000\n",
    "var.head()"
   ]
  },
  {
   "cell_type": "code",
   "execution_count": null,
   "metadata": {
    "collapsed": false
   },
   "outputs": [],
   "source": [
    "# graphique\n",
    "var.plot(kind='scatter', x=2014, y=2015);"
   ]
  },
  {
   "cell_type": "code",
   "execution_count": null,
   "metadata": {
    "collapsed": false
   },
   "outputs": [],
   "source": [
    "# régression linéaire\n",
    "from scipy.stats import linregress\n",
    "slope, intercept, r, p, stderr = linregress(var[2014], var[2015])\n",
    "slope, intercept"
   ]
  },
  {
   "cell_type": "code",
   "execution_count": null,
   "metadata": {
    "collapsed": true
   },
   "outputs": [],
   "source": [
    "# calcul de l'erreur\n",
    "var[\"erreur\"] = var[2015] - var[2014] * slope - intercept"
   ]
  },
  {
   "cell_type": "code",
   "execution_count": null,
   "metadata": {
    "collapsed": false
   },
   "outputs": [],
   "source": [
    "# calcul du min et du max\n",
    "var[\"erreur\"].min(), var[\"erreur\"].max()"
   ]
  },
  {
   "cell_type": "code",
   "execution_count": null,
   "metadata": {
    "collapsed": false
   },
   "outputs": [],
   "source": [
    "# qualification de l'écart\n",
    "var[\"écart\"] = pnd.cut(var[\"erreur\"], [-10, -0.5, 0.5, 10], labels=[\"négatif\", \"neutre\", \"positif\"])\n",
    "var.head()"
   ]
  },
  {
   "cell_type": "code",
   "execution_count": null,
   "metadata": {
    "collapsed": false
   },
   "outputs": [],
   "source": [
    "# régression linéaire sur les écarts positifs\n",
    "var_hausse = var[var[\"écart\"]==\"positif\"]\n",
    "slope_h, intercept_h, r_h, p_h, stderr_h = linregress(var_hausse[2014], var_hausse[2015])\n",
    "slope_h, intercept_h"
   ]
  },
  {
   "cell_type": "code",
   "execution_count": null,
   "metadata": {
    "collapsed": false
   },
   "outputs": [],
   "source": [
    "# régression linéaire sur les écarts négatifs\n",
    "var_baisse = var[var[\"écart\"]==\"négatif\"]\n",
    "slope_b, intercept_b, r_b, p_b, stderr_b = linregress(var_baisse[2014], var_baisse[2015])\n",
    "slope_b, intercept_b"
   ]
  },
  {
   "cell_type": "code",
   "execution_count": null,
   "metadata": {
    "collapsed": false
   },
   "outputs": [],
   "source": [
    "# graphique\n",
    "plt.scatter(x=var[2014], y=var[2015]);\n",
    "x = np.linspace(0,12,2)\n",
    "b = slope_b * x + intercept_b\n",
    "n = slope * x + intercept\n",
    "h = slope_h * x + intercept_h\n",
    "plt.plot(x, b, 'r');\n",
    "plt.plot(x, n, 'y');\n",
    "plt.plot(x, h, 'g');"
   ]
  },
  {
   "cell_type": "code",
   "execution_count": null,
   "metadata": {
    "collapsed": false
   },
   "outputs": [],
   "source": [
    "# graphique\n",
    "plt.scatter(x=var[2014], y=var[2015]);\n",
    "x = np.linspace(0,12,2)\n",
    "b = slope_b * x + intercept_b\n",
    "n = slope * x + intercept\n",
    "h = slope_h * x + intercept_h\n",
    "plt.plot(x, b, 'r');\n",
    "plt.plot(x, n, 'y');\n",
    "plt.plot(x, h, 'g');"
   ]
  },
  {
   "cell_type": "code",
   "execution_count": null,
   "metadata": {
    "collapsed": false
   },
   "outputs": [],
   "source": [
    "# graphique\n",
    "plt.scatter(x=var[2014], y=var[2015]);\n",
    "x = np.linspace(0,12,2)\n",
    "b = slope_b * x + intercept_b\n",
    "n = slope * x + intercept\n",
    "h = slope_h * x + intercept_h\n",
    "plt.plot(x, b, 'r');\n",
    "plt.plot(x, n, 'y');\n",
    "plt.plot(x, h, 'g');"
   ]
  },
  {
   "cell_type": "markdown",
   "metadata": {},
   "source": [
    "# Données sur les prénoms français"
   ]
  },
  {
   "cell_type": "markdown",
   "metadata": {},
   "source": [
    "Données accessibles à cette adresse : https://www.insee.fr/fr/statistiques/2540004"
   ]
  },
  {
   "cell_type": "markdown",
   "metadata": {},
   "source": [
    "## Chargement des données"
   ]
  },
  {
   "cell_type": "code",
   "execution_count": null,
   "metadata": {
    "collapsed": false
   },
   "outputs": [],
   "source": [
    "# chargement des données\n",
    "df = pnd.read_csv(\"nat2015.txt\", sep='\\t', encoding='latin-1')\n",
    "df"
   ]
  },
  {
   "cell_type": "code",
   "execution_count": null,
   "metadata": {
    "collapsed": false
   },
   "outputs": [],
   "source": [
    "df = pnd.read_csv(\"nat2015.txt\", sep='\\t', encoding='latin-1', header=0,\n",
    "                  names = ['genre', 'prénom', 'année', 'naissances'],\n",
    "                  converters = {'genre': (lambda x: 'M' if x=='1' else 'F'),\\\n",
    "                               'prénom': (lambda x: '-'.join(map(lambda y: y.capitalize(), x.split('-')))),\\\n",
    "                               'année': (lambda x: int(x) if x != 'XXXX' else x),\\\n",
    "                               'naissances': (lambda x: int(float(x)))})\n",
    "df = df[(df['année'] != 'XXXX')&(df['prénom'] != '_prenoms_rares')&(df['prénom'].str.len() != 1)]\n",
    "df = df [['année', 'prénom', 'genre', 'naissances']]\n",
    "df.sort_values(by=['année', 'genre', 'naissances', 'prénom'], ascending=[True, True, False, True], inplace=True)\n",
    "df.reset_index(drop=True, inplace=True)\n",
    "df"
   ]
  },
  {
   "cell_type": "code",
   "execution_count": null,
   "metadata": {
    "collapsed": false
   },
   "outputs": [],
   "source": [
    "# les 10 prénoms les plus donnés dans une année\n",
    "df.sort_values(by='naissances', ascending=False).head(10)"
   ]
  },
  {
   "cell_type": "code",
   "execution_count": null,
   "metadata": {
    "collapsed": false
   },
   "outputs": [],
   "source": [
    "# nombre de naissances par genre\n",
    "df.pivot_table(index='genre', values=['naissances'], aggfunc=np.sum)"
   ]
  },
  {
   "cell_type": "code",
   "execution_count": null,
   "metadata": {
    "collapsed": false
   },
   "outputs": [],
   "source": [
    "# les 10 prénoms + genre les plus donnés\n",
    "data = df.pivot_table(index=['prénom','genre'], values=['naissances'], aggfunc=np.sum)\n",
    "data.sort_values(by='naissances', ascending=False, inplace=True)\n",
    "data.reset_index(inplace=True)\n",
    "data.head(10)"
   ]
  },
  {
   "cell_type": "code",
   "execution_count": null,
   "metadata": {
    "collapsed": false
   },
   "outputs": [],
   "source": [
    "cherche(\"Jo\") # Nath Fran Em"
   ]
  },
  {
   "cell_type": "code",
   "execution_count": null,
   "metadata": {
    "collapsed": false
   },
   "outputs": [],
   "source": [
    "# naissances par année et par genre\n",
    "total = df.pivot_table(index='année', columns=['genre'], values='naissances', aggfunc=np.sum)\n",
    "total"
   ]
  },
  {
   "cell_type": "code",
   "execution_count": null,
   "metadata": {
    "collapsed": false
   },
   "outputs": [],
   "source": [
    "# graphique\n",
    "total.plot(title=\"Total des naissances par année et par genre\", color=['r','b']);"
   ]
  },
  {
   "cell_type": "code",
   "execution_count": null,
   "metadata": {
    "collapsed": false
   },
   "outputs": [],
   "source": [
    "stats_prenom('Sarah', 'F')"
   ]
  },
  {
   "cell_type": "markdown",
   "metadata": {},
   "source": [
    "## Analyse de tendances"
   ]
  },
  {
   "cell_type": "code",
   "execution_count": null,
   "metadata": {
    "collapsed": false
   },
   "outputs": [],
   "source": [
    "df = df.groupby(['année', 'genre']).apply(ajout_proportion)\n",
    "df.head()"
   ]
  },
  {
   "cell_type": "code",
   "execution_count": null,
   "metadata": {
    "collapsed": false
   },
   "outputs": [],
   "source": [
    "# vérification : la somme des proportions par année et par genre vaut presque 1\n",
    "np.allclose(df.groupby(['année', 'genre'])[\"proportion\"].sum(), 1)"
   ]
  },
  {
   "cell_type": "code",
   "execution_count": null,
   "metadata": {
    "collapsed": false
   },
   "outputs": [],
   "source": [
    "df1000 = df.groupby(['année', 'genre']).apply(top1000)\n",
    "df1000.head()"
   ]
  },
  {
   "cell_type": "code",
   "execution_count": null,
   "metadata": {
    "collapsed": false
   },
   "outputs": [],
   "source": [
    "# évolution des prénoms par année\n",
    "data = df1000.pivot_table(index='année', columns='prénom', values='naissances', aggfunc=sum)\n",
    "data = data[['Jean', 'Pierre', 'Marie', 'Jeanne']]\n",
    "data.head()"
   ]
  },
  {
   "cell_type": "code",
   "execution_count": null,
   "metadata": {
    "collapsed": false
   },
   "outputs": [],
   "source": [
    "# graphique\n",
    "data.plot(subplots=True, figsize=(12, 10), grid=False, title=\"Nombre de naissances par an\");"
   ]
  },
  {
   "cell_type": "markdown",
   "metadata": {},
   "source": [
    "## Mesure de l'évolution de la diversité des prénoms"
   ]
  },
  {
   "cell_type": "code",
   "execution_count": null,
   "metadata": {
    "collapsed": false
   },
   "outputs": [],
   "source": [
    "# nombre de prénoms différents par année et genre\n",
    "data = df.pivot_table(index='année', columns='genre', values='prénom', aggfunc=lambda x: len(x))\n",
    "data.head()"
   ]
  },
  {
   "cell_type": "code",
   "execution_count": null,
   "metadata": {
    "collapsed": false
   },
   "outputs": [],
   "source": [
    "data.tail()"
   ]
  },
  {
   "cell_type": "code",
   "execution_count": null,
   "metadata": {
    "collapsed": false
   },
   "outputs": [],
   "source": [
    "# graphique\n",
    "data.plot(title=\"Evolution du nombre de prénoms distincts par genre\",\n",
    "         color=['r', 'b']);"
   ]
  },
  {
   "cell_type": "code",
   "execution_count": null,
   "metadata": {
    "collapsed": false
   },
   "outputs": [],
   "source": [
    "# proportion des naissances qui sont dans le top 1000 par année et par genre\n",
    "data = df1000.pivot_table(index='année', columns='genre', values='proportion', aggfunc=sum)\n",
    "data.head()"
   ]
  },
  {
   "cell_type": "code",
   "execution_count": null,
   "metadata": {
    "collapsed": false
   },
   "outputs": [],
   "source": [
    "data.tail()"
   ]
  },
  {
   "cell_type": "code",
   "execution_count": null,
   "metadata": {
    "collapsed": false
   },
   "outputs": [],
   "source": [
    "# graphique\n",
    "data.plot(title='Proportion des naissances dans le top 1000 par année et genre',\n",
    "          xticks=range(1900, 2020, 10),\n",
    "          yticks=np.linspace(0, 1.2, 13),\n",
    "          figsize=(12, 6),\n",
    "          color=['r','b']);"
   ]
  },
  {
   "cell_type": "code",
   "execution_count": null,
   "metadata": {
    "collapsed": false
   },
   "outputs": [],
   "source": [
    "# calcul de la diversité\n",
    "diversite = df1000.groupby(['année', 'genre']).apply(quantile_compte)\n",
    "diversite = diversite.unstack('genre')\n",
    "diversite.head()"
   ]
  },
  {
   "cell_type": "code",
   "execution_count": null,
   "metadata": {
    "collapsed": false
   },
   "outputs": [],
   "source": [
    "diversite.tail()"
   ]
  },
  {
   "cell_type": "code",
   "execution_count": null,
   "metadata": {
    "collapsed": false
   },
   "outputs": [],
   "source": [
    "# graphique\n",
    "diversite.plot(title=\"Nombre de prénoms populaires dans le top 50%\",\n",
    "          color=['r','b']);"
   ]
  },
  {
   "cell_type": "markdown",
   "metadata": {},
   "source": [
    "## Evolution de la dernière lettre des prénoms¶"
   ]
  },
  {
   "cell_type": "code",
   "execution_count": null,
   "metadata": {
    "collapsed": false
   },
   "outputs": [],
   "source": [
    "# ajout d'une colonne avec la lettre terminale\n",
    "df[\"terminale\"] = df[\"prénom\"].apply(lambda x: x[-1])\n",
    "df.head()"
   ]
  },
  {
   "cell_type": "code",
   "execution_count": null,
   "metadata": {
    "collapsed": false
   },
   "outputs": [],
   "source": [
    "# tableau du nombre de prénoms par année x lettre terminale\n",
    "data = df.pivot_table(index='année', columns='terminale', values='prénom', aggfunc=len)\n",
    "data.head()"
   ]
  },
  {
   "cell_type": "code",
   "execution_count": null,
   "metadata": {
    "collapsed": false
   },
   "outputs": [],
   "source": [
    "df.tail()"
   ]
  },
  {
   "cell_type": "code",
   "execution_count": null,
   "metadata": {
    "collapsed": false
   },
   "outputs": [],
   "source": [
    "# les 7 lettres terminales les plus utilisées en 2015\n",
    "lettres = data.loc[2015].sort_values(ascending=False).head(7).index.values\n",
    "lettres"
   ]
  },
  {
   "cell_type": "code",
   "execution_count": null,
   "metadata": {
    "collapsed": false
   },
   "outputs": [],
   "source": [
    "# graphique\n",
    "data[lettres].plot(title=\"Evolution du nombre de prénoms distincts en fonction de leur lettre terminale\");"
   ]
  },
  {
   "cell_type": "code",
   "execution_count": null,
   "metadata": {
    "collapsed": false
   },
   "outputs": [],
   "source": [
    "# tableau letres terminales x (genres, années)\n",
    "data = df.pivot_table(index='terminale', columns=['genre', 'année'], values='naissances', aggfunc=sum)\n",
    "data.head()"
   ]
  },
  {
   "cell_type": "code",
   "execution_count": null,
   "metadata": {
    "collapsed": false
   },
   "outputs": [],
   "source": [
    "# extrait pour les années 1910, 1960 et 2010\n",
    "subdata = data.reindex(columns=[1910, 1960, 2010], level='année')\n",
    "subdata"
   ]
  },
  {
   "cell_type": "code",
   "execution_count": null,
   "metadata": {
    "collapsed": false
   },
   "outputs": [],
   "source": [
    "# proportion du nombre de prénoms par lettre terminale\n",
    "proportion_lettre = subdata / subdata.sum().astype(float)\n",
    "proportion_lettre"
   ]
  },
  {
   "cell_type": "code",
   "execution_count": null,
   "metadata": {
    "collapsed": false
   },
   "outputs": [],
   "source": [
    "# graphique\n",
    "fig, axes = plt.subplots(2, 1, figsize=(10, 8))\n",
    "proportion_lettre['M'].plot(kind='bar', rot=0, ax=axes[0], title='Masculin')\n",
    "proportion_lettre['F'].plot(kind='bar', rot=0, ax=axes[1], title='Féminin', legend=False);"
   ]
  },
  {
   "cell_type": "code",
   "execution_count": null,
   "metadata": {
    "collapsed": false
   },
   "outputs": [],
   "source": [
    "# proportion du nombre de prénoms par lettre terminale\n",
    "proportion_lettre = data / data.sum().astype(float)\n",
    "proportion_lettre"
   ]
  },
  {
   "cell_type": "code",
   "execution_count": null,
   "metadata": {
    "collapsed": false
   },
   "outputs": [],
   "source": [
    "# proportion pour les lettres n, e et s (M)\n",
    "nes = proportion_lettre.ix[['n', 'e', 's'], 'M'].T\n",
    "nes"
   ]
  },
  {
   "cell_type": "code",
   "execution_count": null,
   "metadata": {
    "collapsed": false
   },
   "outputs": [],
   "source": [
    "# graphique\n",
    "nes.plot(title=\"Proportion des hommes avec des prénoms se terminant en n, e ou s\");"
   ]
  },
  {
   "cell_type": "code",
   "execution_count": null,
   "metadata": {
    "collapsed": false
   },
   "outputs": [],
   "source": [
    "# proportion pour les lettres a, e et s (F)\n",
    "aes = proportion_lettre.ix[['a', 'e', 's'], 'F'].T\n",
    "aes"
   ]
  },
  {
   "cell_type": "code",
   "execution_count": null,
   "metadata": {
    "collapsed": false
   },
   "outputs": [],
   "source": [
    "# graphique\n",
    "aes.plot(title=\"Proportion des femmes avec des prénoms se terminant en a, e ou s\");"
   ]
  },
  {
   "cell_type": "markdown",
   "metadata": {},
   "source": [
    "## Prénoms dont le genre a évolué"
   ]
  },
  {
   "cell_type": "code",
   "execution_count": null,
   "metadata": {
    "collapsed": false
   },
   "outputs": [],
   "source": [
    "# ratio par prénom et par an du genre F\n",
    "data = df1000.pivot_table(index=['prénom','année'], columns=['genre'], values='naissances', aggfunc=np.sum)\n",
    "data.dropna(inplace=True)\n",
    "data[\"ratio\"] = data[\"F\"] / (data[\"F\"]+data[\"M\"])\n",
    "data.reset_index(inplace=True)\n",
    "data"
   ]
  },
  {
   "cell_type": "code",
   "execution_count": null,
   "metadata": {
    "collapsed": false,
    "scrolled": true
   },
   "outputs": [],
   "source": [
    "# variance du ratio par prénom\n",
    "data = data.pivot_table(index='prénom', values=['ratio'], aggfunc=np.var)\n",
    "data.dropna(inplace=True)\n",
    "data.sort_values(by=\"ratio\", ascending=False, inplace=True)\n",
    "data.head()"
   ]
  },
  {
   "cell_type": "code",
   "execution_count": null,
   "metadata": {
    "collapsed": false
   },
   "outputs": [],
   "source": [
    "evolution(\"Camille\")"
   ]
  },
  {
   "cell_type": "code",
   "execution_count": null,
   "metadata": {
    "collapsed": false
   },
   "outputs": [],
   "source": [
    "evolution(\"Dominique\")"
   ]
  },
  {
   "cell_type": "code",
   "execution_count": null,
   "metadata": {
    "collapsed": false
   },
   "outputs": [],
   "source": [
    "evolution(\"Alix\")"
   ]
  },
  {
   "cell_type": "markdown",
   "metadata": {},
   "source": [
    "## Comparaison du nombre de naissances entre 2 années sucessives"
   ]
  },
  {
   "cell_type": "code",
   "execution_count": null,
   "metadata": {
    "collapsed": false
   },
   "outputs": [],
   "source": [
    "# années 2014 et 2015\n",
    "var = df[df[\"année\"].isin([2014,2015])].pivot_table(index=\"prénom\",columns=\"année\",values=\"naissances\")\n",
    "var.fillna(0, inplace=True)\n",
    "var /=1000\n",
    "var.head()"
   ]
  },
  {
   "cell_type": "code",
   "execution_count": null,
   "metadata": {
    "collapsed": false
   },
   "outputs": [],
   "source": [
    "# graphique\n",
    "var.plot(kind='scatter', x=2014, y=2015);"
   ]
  },
  {
   "cell_type": "code",
   "execution_count": null,
   "metadata": {
    "collapsed": false
   },
   "outputs": [],
   "source": [
    "# régression linéaire\n",
    "from scipy.stats import linregress\n",
    "slope, intercept, r, p, stderr = linregress(var[2014], var[2015])\n",
    "slope, intercept"
   ]
  },
  {
   "cell_type": "code",
   "execution_count": null,
   "metadata": {
    "collapsed": false
   },
   "outputs": [],
   "source": [
    "# graphique\n",
    "plt.scatter(x=var[2014], y=var[2015]);\n",
    "x = np.linspace(0,5,2)\n",
    "n = slope * x + intercept\n",
    "plt.plot(x, n, 'y');"
   ]
  },
  {
   "cell_type": "markdown",
   "metadata": {},
   "source": [
    "## Comparaison France / USA"
   ]
  },
  {
   "cell_type": "code",
   "execution_count": null,
   "metadata": {
    "collapsed": false
   },
   "outputs": [],
   "source": [
    "# chargement de toute les données dans un DataFrame\n",
    "dfusa = pnd.DataFrame()\n",
    "for root, dirs, files in os.walk(path):\n",
    "    for filename in files:\n",
    "        annee = int(filename[3:7]) # yobAAAA.txt\n",
    "        csv = pnd.read_csv(os.path.join(root, filename),\n",
    "                           header=None,\n",
    "                           names=['prénom', 'genre', 'naissances'])\n",
    "        csv['année'] = annee\n",
    "        dfusa = dfusa.append(csv, ignore_index=True)\n",
    "dfusa = dfusa[['année', 'prénom', 'genre', 'naissances']]\n",
    "# tête du DataFrame\n",
    "dfusa.head()"
   ]
  },
  {
   "cell_type": "code",
   "execution_count": null,
   "metadata": {
    "collapsed": false
   },
   "outputs": [],
   "source": [
    "df.head()"
   ]
  },
  {
   "cell_type": "code",
   "execution_count": null,
   "metadata": {
    "collapsed": true
   },
   "outputs": [],
   "source": [
    "def ajout_proportion(groupe):\n",
    "    # Integer division floors\n",
    "    naissances = groupe[\"naissances\"].astype(float)\n",
    "    groupe['proportion'] = naissances / naissances.sum()\n",
    "    return groupe"
   ]
  },
  {
   "cell_type": "code",
   "execution_count": null,
   "metadata": {
    "collapsed": false
   },
   "outputs": [],
   "source": [
    "var = df.groupby(['année', 'genre']).apply(ajout_proportion)\n",
    "var.set_index(['année','prénom','genre'], drop=True, inplace=True)\n",
    "var.head()"
   ]
  },
  {
   "cell_type": "code",
   "execution_count": null,
   "metadata": {
    "collapsed": false
   },
   "outputs": [],
   "source": [
    "varusa = dfusa.groupby(['année', 'genre']).apply(ajout_proportion)\n",
    "varusa.set_index(['année','prénom','genre'], drop=True, inplace=True)\n",
    "varusa.head()"
   ]
  },
  {
   "cell_type": "code",
   "execution_count": null,
   "metadata": {
    "collapsed": false
   },
   "outputs": [],
   "source": [
    "merge = var.join(varusa, lsuffix='_fr', rsuffix='_usa')[['proportion_fr','proportion_usa']]\n",
    "merge = merge.unstack('année').stack('année')\n",
    "merge"
   ]
  },
  {
   "cell_type": "code",
   "execution_count": null,
   "metadata": {
    "collapsed": false
   },
   "outputs": [],
   "source": [
    "import warnings\n",
    "warnings.simplefilter(\"error\")\n",
    "corr = pnd.DataFrame()\n",
    "for name, group in merge.groupby(level=[0, 1]):\n",
    "    try:\n",
    "        x = group['proportion_fr'].corr(group['proportion_usa'])\n",
    "        if pnd.notnull(x):\n",
    "            row = list(name)\n",
    "            row.append(x)\n",
    "            corr = corr.append([row])\n",
    "    except:\n",
    "        pass\n",
    "corr"
   ]
  },
  {
   "cell_type": "code",
   "execution_count": null,
   "metadata": {
    "collapsed": false
   },
   "outputs": [],
   "source": [
    "corr.columns = ['prénom', 'genre','corrélation']\n",
    "corr.reset_index(drop=True, inplace=True)\n",
    "corr.sort_values(by='corrélation', inplace=True)\n",
    "corr.reset_index(drop=True, inplace=True)\n",
    "corr"
   ]
  },
  {
   "cell_type": "code",
   "execution_count": null,
   "metadata": {
    "collapsed": false
   },
   "outputs": [],
   "source": [
    "corr.plot()"
   ]
  },
  {
   "cell_type": "code",
   "execution_count": null,
   "metadata": {
    "collapsed": true
   },
   "outputs": [],
   "source": []
  }
 ],
 "metadata": {
  "anaconda-cloud": {},
  "kernelspec": {
   "display_name": "Python [default]",
   "language": "python",
   "name": "python3"
  },
  "language_info": {
   "codemirror_mode": {
    "name": "ipython",
    "version": 3
   },
   "file_extension": ".py",
   "mimetype": "text/x-python",
   "name": "python",
   "nbconvert_exporter": "python",
   "pygments_lexer": "ipython3",
   "version": "3.5.2"
  }
 },
 "nbformat": 4,
 "nbformat_minor": 0
}
