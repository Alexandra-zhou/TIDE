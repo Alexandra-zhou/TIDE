{
 "cells": [
  {
   "cell_type": "markdown",
   "metadata": {
    "collapsed": true,
    "deletable": true,
    "editable": true
   },
   "source": [
    "# 1. Librairie Numpy\n",
    "## toto\n",
    "\n",
    "- toto\n",
    "- titi\n",
    "-tata\n",
    "\n",
    "$\\lambda$"
   ]
  },
  {
   "cell_type": "code",
   "execution_count": null,
   "metadata": {
    "collapsed": true,
    "deletable": true,
    "editable": true,
    "scrolled": false
   },
   "outputs": [],
   "source": [
    "# import des modules usuels\n",
    "import numpy as np\n",
    "import matplotlib.pyplot as plt\n",
    "\n",
    "# commande magique pour l'affichage des graphiques\n",
    "%matplotlib inline\n",
    "\n",
    "# options d'affichage\n",
    "plt.style.use('seaborn-darkgrid')"
   ]
  },
  {
   "cell_type": "markdown",
   "metadata": {},
   "source": [
    "Numpy introduit des tableaux multidimensionnels ndarray.\n",
    "\n",
    "Un *ndarray* ou tableau multidimensionnel est une structure de données extrêmement puissante en Python.\n",
    "\n",
    "Les données manipulées peuvent être de différents types : entiers, flottants, booléens, chaines de caractères, etc.\n",
    "\n",
    "Ils supportent toutes les opérations standards :\n",
    "\n",
    "- arithmétique\n",
    "- mathématiques\n",
    "- logique\n",
    "- calcul vectoriel et matriciel\n",
    "- calculs d'agrégats\n",
    "\n",
    "Voir la documentation https://docs.scipy.org/doc/numpy-dev/user/quickstart.html"
   ]
  },
  {
   "cell_type": "markdown",
   "metadata": {},
   "source": [
    "## 1.1 Création d'un ndarray\n",
    "\n",
    "Il existe différentes méthodes pour créer un *ndarray*."
   ]
  },
  {
   "cell_type": "markdown",
   "metadata": {},
   "source": [
    "fonction (extrait)|usage\n",
    "-|-\n",
    "arange|vecteur de nombres également répartis dans un intervalle (pas)\n",
    "array|à partir d'un objet de type tableau\n",
    "zeros|retourne un *ndarray* nul\n",
    "zeros_like|retourne un *ndarray* nul aux dimensions identiques d'un autre *ndarray*\n",
    "ones|retourne un *ndarray* unité\n",
    "ones_like|retourne un *ndarray* unité aux dimensions identiques d'un autre *ndarray*\n",
    "eye|retourne une matrice nulle avec des 1 sur la première diagonale\n",
    "identity|retourne une matrice identité\n",
    "full|retourne une matrice avec une valeur uniforme\n",
    "linspace|vecteur de nombres également répartis dans un intervalle (nombre)"
   ]
  },
  {
   "cell_type": "code",
   "execution_count": 37,
   "metadata": {
    "collapsed": false
   },
   "outputs": [
    {
     "data": {
      "text/plain": [
       "array([ 0,  1,  2,  3,  4,  5,  6,  7,  8,  9, 10, 11, 12, 13, 14, 15, 16,\n",
       "       17, 18, 19, 20, 21, 22, 23, 24, 25, 26, 27, 28, 29, 30, 31, 32, 33,\n",
       "       34, 35, 36, 37, 38, 39, 40, 41, 42, 43, 44, 45, 46, 47])"
      ]
     },
     "execution_count": 37,
     "metadata": {},
     "output_type": "execute_result"
    }
   ],
   "source": [
    "# création d'un vecteur (dimension 1)\n",
    "a = np.arange(48)\n",
    "a"
   ]
  },
  {
   "cell_type": "code",
   "execution_count": null,
   "metadata": {
    "collapsed": true
   },
   "outputs": [],
   "source": [
    "a?"
   ]
  },
  {
   "cell_type": "code",
   "execution_count": 38,
   "metadata": {
    "collapsed": false
   },
   "outputs": [
    {
     "data": {
      "text/plain": [
       "numpy.ndarray"
      ]
     },
     "execution_count": 38,
     "metadata": {},
     "output_type": "execute_result"
    }
   ],
   "source": [
    "type(a)"
   ]
  },
  {
   "cell_type": "code",
   "execution_count": 39,
   "metadata": {
    "collapsed": false
   },
   "outputs": [
    {
     "data": {
      "text/plain": [
       "1"
      ]
     },
     "execution_count": 39,
     "metadata": {},
     "output_type": "execute_result"
    }
   ],
   "source": [
    "# nombre de dimensions d'un ndarray\n",
    "a.ndim"
   ]
  },
  {
   "cell_type": "code",
   "execution_count": 40,
   "metadata": {
    "collapsed": false
   },
   "outputs": [
    {
     "data": {
      "text/plain": [
       "(48,)"
      ]
     },
     "execution_count": 40,
     "metadata": {},
     "output_type": "execute_result"
    }
   ],
   "source": [
    "# dimensions d'un ndarray\n",
    "a.shape"
   ]
  },
  {
   "cell_type": "code",
   "execution_count": 41,
   "metadata": {
    "collapsed": false
   },
   "outputs": [
    {
     "data": {
      "text/plain": [
       "48"
      ]
     },
     "execution_count": 41,
     "metadata": {},
     "output_type": "execute_result"
    }
   ],
   "source": [
    "# nombre d'éléments d'un ndarray\n",
    "a.size"
   ]
  },
  {
   "cell_type": "code",
   "execution_count": 42,
   "metadata": {
    "collapsed": false
   },
   "outputs": [
    {
     "data": {
      "text/plain": [
       "dtype('int32')"
      ]
     },
     "execution_count": 42,
     "metadata": {},
     "output_type": "execute_result"
    }
   ],
   "source": [
    "# type des éléments d'un ndarray\n",
    "a.dtype"
   ]
  },
  {
   "cell_type": "markdown",
   "metadata": {},
   "source": [
    "On peut créer manuellement un ndarray de nombres flottants."
   ]
  },
  {
   "cell_type": "code",
   "execution_count": 44,
   "metadata": {
    "collapsed": false
   },
   "outputs": [
    {
     "data": {
      "text/plain": [
       "array([  0.,   1.,   2.,   3.,   4.,   5.,   6.,   7.,   8.,   9.,  10.,\n",
       "        11.,  12.,  13.,  14.,  15.,  16.,  17.,  18.,  19.,  20.,  21.,\n",
       "        22.,  23.,  24.,  25.,  26.,  27.,  28.,  29.,  30.,  31.,  32.,\n",
       "        33.,  34.,  35.,  36.,  37.,  38.,  39.,  40.,  41.,  42.,  43.,\n",
       "        44.,  45.,  46.,  47.])"
      ]
     },
     "execution_count": 44,
     "metadata": {},
     "output_type": "execute_result"
    }
   ],
   "source": [
    "a = np.array(range(48), float)\n",
    "a"
   ]
  },
  {
   "cell_type": "code",
   "execution_count": 45,
   "metadata": {
    "collapsed": false
   },
   "outputs": [
    {
     "data": {
      "text/plain": [
       "dtype('float64')"
      ]
     },
     "execution_count": 45,
     "metadata": {},
     "output_type": "execute_result"
    }
   ],
   "source": [
    "a.dtype"
   ]
  },
  {
   "cell_type": "markdown",
   "metadata": {},
   "source": [
    "On peut créer explicitement un ndarray."
   ]
  },
  {
   "cell_type": "code",
   "execution_count": 46,
   "metadata": {
    "collapsed": false
   },
   "outputs": [
    {
     "data": {
      "text/plain": [
       "array([[ 1.,  2.,  3.],\n",
       "       [ 4.,  5.,  6.],\n",
       "       [ 7.,  8.,  9.]])"
      ]
     },
     "execution_count": 46,
     "metadata": {},
     "output_type": "execute_result"
    }
   ],
   "source": [
    "# création explicite\n",
    "a = np.array([[1, 2, 3], [4, 5, 6], [7, 8, 9]], float)\n",
    "a"
   ]
  },
  {
   "cell_type": "code",
   "execution_count": 48,
   "metadata": {
    "collapsed": false
   },
   "outputs": [
    {
     "data": {
      "text/plain": [
       "array([[ 1.,  1.,  1.],\n",
       "       [ 1.,  1.,  1.],\n",
       "       [ 1.,  1.,  1.]])"
      ]
     },
     "execution_count": 48,
     "metadata": {},
     "output_type": "execute_result"
    }
   ],
   "source": [
    "# matrice de 0 identique\n",
    "np.ones_like(a)"
   ]
  },
  {
   "cell_type": "markdown",
   "metadata": {},
   "source": [
    "On peut créer un vecteur d'éléments uniformément répartis : intervalle fermé + nombre d'éléments (utile pour les graphiques)."
   ]
  },
  {
   "cell_type": "code",
   "execution_count": 50,
   "metadata": {
    "collapsed": false
   },
   "outputs": [
    {
     "data": {
      "text/plain": [
       "array([   0.        ,    5.26315789,   10.52631579,   15.78947368,\n",
       "         21.05263158,   26.31578947,   31.57894737,   36.84210526,\n",
       "         42.10526316,   47.36842105,   52.63157895,   57.89473684,\n",
       "         63.15789474,   68.42105263,   73.68421053,   78.94736842,\n",
       "         84.21052632,   89.47368421,   94.73684211,  100.        ])"
      ]
     },
     "execution_count": 50,
     "metadata": {},
     "output_type": "execute_result"
    }
   ],
   "source": [
    "# vecteur d'éléments uniformément répartis\n",
    "a = np.linspace(0, 100, 20)\n",
    "a"
   ]
  },
  {
   "cell_type": "code",
   "execution_count": 56,
   "metadata": {
    "collapsed": false
   },
   "outputs": [],
   "source": [
    "def f(a, b, pas):\n",
    "    return np.linspace(a, b, int((pas + b - a) / pas))"
   ]
  },
  {
   "cell_type": "code",
   "execution_count": 57,
   "metadata": {
    "collapsed": false
   },
   "outputs": [
    {
     "data": {
      "text/plain": [
       "array([   0.,    5.,   10.,   15.,   20.,   25.,   30.,   35.,   40.,\n",
       "         45.,   50.,   55.,   60.,   65.,   70.,   75.,   80.,   85.,\n",
       "         90.,   95.,  100.])"
      ]
     },
     "execution_count": 57,
     "metadata": {},
     "output_type": "execute_result"
    }
   ],
   "source": [
    "f(0, 100, 5)"
   ]
  },
  {
   "cell_type": "markdown",
   "metadata": {},
   "source": [
    "#### Nombres pseudo-aléatoires\n",
    "\n",
    "Le sous-module **numpy.random** permet de générer des nombres aléatoires selon plusieurs méthodes (extrait).\n",
    "\n",
    "La méthode *seed()* permet d'amorcer le générateur de nombres aléatoires afin d'obtenir les mêmes résultats d'une expérience à l'autre.\n",
    "\n",
    "Il existe des fonctions pour créer des *ndarray* avec des nombres aléatoires (extrait)."
   ]
  },
  {
   "cell_type": "markdown",
   "metadata": {},
   "source": [
    "Fonction|Usage\n",
    "-|-\n",
    "randint|vecteur d'entiers aléatoires uniformément répartis dans un intervalle\n",
    "random|vecteur de nombres aléatoires uniformément répartis dans un intervalle semi-ouvert\n",
    "uniform|vecteur de nombres aléatoires uniformément répartis dans un intervalle\n",
    "normal|vecteur de nombres répartis selon la loi normale"
   ]
  },
  {
   "cell_type": "code",
   "execution_count": 59,
   "metadata": {
    "collapsed": false
   },
   "outputs": [
    {
     "data": {
      "text/plain": [
       "array([6, 9, 0, 0, 5, 4, 4, 7, 0, 0, 9, 7, 5, 0, 5, 5, 4, 1, 0, 5])"
      ]
     },
     "execution_count": 59,
     "metadata": {},
     "output_type": "execute_result"
    }
   ],
   "source": [
    "# tableau d'entiers aléatoires uniformément répartis entre 0 et 9\n",
    "a = np.random.randint(0, 10, 20)\n",
    "a"
   ]
  },
  {
   "cell_type": "code",
   "execution_count": 61,
   "metadata": {
    "collapsed": false
   },
   "outputs": [
    {
     "data": {
      "text/plain": [
       "(array([5, 0, 3, 3, 7, 9, 3, 5, 2, 4]), array([5, 0, 3, 3, 7, 9, 3, 5, 2, 4]))"
      ]
     },
     "execution_count": 61,
     "metadata": {},
     "output_type": "execute_result"
    }
   ],
   "source": [
    "# avec la méthode seed\n",
    "np.random.seed(0)\n",
    "a = np.random.randint(0, 10, 10)\n",
    "np.random.seed(0)\n",
    "b = np.random.randint(0, 10, 10)\n",
    "a, b"
   ]
  },
  {
   "cell_type": "markdown",
   "metadata": {},
   "source": [
    "#### Visualisation graphique des distributions aléatoires\n",
    "\n",
    "N.B. : la librairie **matplotlib.pyplot** sera étudiées plus en détail plus loin."
   ]
  },
  {
   "cell_type": "code",
   "execution_count": 62,
   "metadata": {
    "collapsed": false
   },
   "outputs": [
    {
     "data": {
      "image/png": "[encoded data removed]",
      "text/plain": [
       "<matplotlib.figure.Figure at 0x8a2bcf8>"
      ]
     },
     "metadata": {},
     "output_type": "display_data"
    }
   ],
   "source": [
    "# histogramme de 1000 entiers tirés aléatoirement entre 0 et 9\n",
    "a = np.random.randint(0, 10, 1000)\n",
    "plt.hist(a);"
   ]
  },
  {
   "cell_type": "code",
   "execution_count": 63,
   "metadata": {
    "collapsed": false
   },
   "outputs": [
    {
     "data": {
      "image/png": "[encoded data removed]",
      "text/plain": [
       "<matplotlib.figure.Figure at 0x8a2bb70>"
      ]
     },
     "metadata": {},
     "output_type": "display_data"
    }
   ],
   "source": [
    "# histogramme de 1000 nombres flottants tirés uniformément entre 0 et 1\n",
    "np.random.seed(37)\n",
    "a = np.random.random(1000)\n",
    "plt.hist(a, bins=50);"
   ]
  },
  {
   "cell_type": "code",
   "execution_count": null,
   "metadata": {
    "collapsed": false
   },
   "outputs": [],
   "source": [
    "# histogramme de nombres tirés selon une loi normale\n",
    "a = np.random.normal(0, 1, 1000)\n",
    "plt.hist(a, bins=20);"
   ]
  },
  {
   "cell_type": "code",
   "execution_count": 67,
   "metadata": {
    "collapsed": false
   },
   "outputs": [
    {
     "ename": "IndexError",
     "evalue": "string index out of range",
     "output_type": "error",
     "traceback": [
      "\u001b[0;31m---------------------------------------------------------------------------\u001b[0m",
      "\u001b[0;31mIndexError\u001b[0m                                Traceback (most recent call last)",
      "\u001b[0;32m<ipython-input-67-f450c7d5751a>\u001b[0m in \u001b[0;36m<module>\u001b[0;34m()\u001b[0m\n\u001b[1;32m      1\u001b[0m \u001b[0ms\u001b[0m \u001b[1;33m=\u001b[0m \u001b[1;34m\"Python\"\u001b[0m\u001b[1;33m\u001b[0m\u001b[0m\n\u001b[0;32m----> 2\u001b[0;31m \u001b[0ms\u001b[0m\u001b[1;33m[\u001b[0m\u001b[1;33m-\u001b[0m\u001b[1;36m7\u001b[0m\u001b[1;33m]\u001b[0m\u001b[1;33m\u001b[0m\u001b[0m\n\u001b[0m",
      "\u001b[0;31mIndexError\u001b[0m: string index out of range"
     ]
    }
   ],
   "source": [
    "s = \"Python\"\n",
    "s[-7]"
   ]
  },
  {
   "cell_type": "markdown",
   "metadata": {},
   "source": [
    "## 1.2 Accès aux éléments\n",
    "\n",
    "L'opérateur [] permet d'accéder aux éléments individuels ou à des sous-tableaux.\n",
    "\n",
    "Rappel sur les accès par indices en Python qui s'applique aux *ndarray*."
   ]
  },
  {
   "cell_type": "markdown",
   "metadata": {},
   "source": [
    "Notation|Signification\n",
    "-|-\n",
    "a[i]|accès à l'élement situé à la position i (démarrant à 0)\n",
    "a[i:j]|accès aux élements situés entre la position i et la position j-1\n",
    "a[i:j:k]|accès aux élements situés entre la position i et la position j-1 par pas de k\n",
    "a[:i]| accès à tous les éléments jusqu'à la position i-1\n",
    "a[i:]|accès à tous les éléments à partir de la position i\n",
    "a[:]|accès à tous les éléments\n",
    "a[::-1]|accès à tous les éléments dans l'ordre inverse"
   ]
  },
  {
   "cell_type": "markdown",
   "metadata": {},
   "source": [
    "Le multidimensionnel est géré par autant d'accès indiciels séparés par des virgules :\n",
    "- vecteur : *a[i:j]*\n",
    "- matrice : *a[i:j, m:n]*\n",
    "- cube : *a[i:j, m:n, p:q]*\n",
    "\n",
    "Pour une matrice, la notation *a[i, j]* est symboliquement équivalente à *a[i][j]*."
   ]
  },
  {
   "cell_type": "markdown",
   "metadata": {},
   "source": [
    "**Exercice**\n",
    "\n",
    "Créer une matrice 6 x 6 remplie d’entiers aléatoires entre 0 et 9 inclus et sélectionner les entiers situés sur les lignes 2 à 4 inclus et les colonnes 2 et 3 inclus."
   ]
  },
  {
   "cell_type": "code",
   "execution_count": 68,
   "metadata": {
    "collapsed": false
   },
   "outputs": [
    {
     "data": {
      "text/plain": [
       "array([[9, 0, 7, 0, 8, 5],\n",
       "       [3, 7, 6, 0, 0, 8],\n",
       "       [8, 5, 9, 3, 7, 6],\n",
       "       [2, 2, 0, 3, 4, 1],\n",
       "       [4, 4, 4, 9, 1, 4],\n",
       "       [0, 7, 3, 7, 2, 1]])"
      ]
     },
     "execution_count": 68,
     "metadata": {},
     "output_type": "execute_result"
    }
   ],
   "source": [
    "a = np.random.randint(0, 10, (6, 6))\n",
    "a"
   ]
  },
  {
   "cell_type": "code",
   "execution_count": 69,
   "metadata": {
    "collapsed": false
   },
   "outputs": [
    {
     "data": {
      "text/plain": [
       "array([[9, 3],\n",
       "       [0, 3],\n",
       "       [4, 9]])"
      ]
     },
     "execution_count": 69,
     "metadata": {},
     "output_type": "execute_result"
    }
   ],
   "source": [
    "a[2:5, 2:4]"
   ]
  },
  {
   "cell_type": "markdown",
   "metadata": {},
   "source": [
    "## 1.3 Modification des éléments\n",
    "\n",
    "Les opérations de sélection permettent de modifier les éléments avec l'opérateur *=*.\n",
    "\n",
    "Il est possible d'utiliser une valeur scalaire ou un ndarray de dimensions identiques."
   ]
  },
  {
   "cell_type": "code",
   "execution_count": 70,
   "metadata": {
    "collapsed": false
   },
   "outputs": [
    {
     "data": {
      "text/plain": [
       "array([[ 5,  3,  8,  0,  7,  5],\n",
       "       [ 0,  3,  4,  7,  9,  7],\n",
       "       [ 9,  9, -1, -1,  8,  9],\n",
       "       [ 1,  8, -1, -1,  5,  7],\n",
       "       [ 0,  8,  7,  1,  8,  8],\n",
       "       [ 0,  2,  6,  3,  0,  7]])"
      ]
     },
     "execution_count": 70,
     "metadata": {},
     "output_type": "execute_result"
    }
   ],
   "source": [
    "# création de la matrice\n",
    "a = np.random.randint(0, 10, (6, 6))\n",
    "a[2:4, 2:4] = -1\n",
    "a"
   ]
  },
  {
   "cell_type": "code",
   "execution_count": 71,
   "metadata": {
    "collapsed": false
   },
   "outputs": [
    {
     "data": {
      "text/plain": [
       "array([[-1, -1, -1, -1, -1, -1],\n",
       "       [-1, -1, -1, -1, -1, -1],\n",
       "       [-1, -1, -1, -1, -1, -1],\n",
       "       [-1, -1, -1, -1, -1, -1],\n",
       "       [-1, -1, -1, -1, -1, -1],\n",
       "       [-1, -1, -1, -1, -1, -1]])"
      ]
     },
     "execution_count": 71,
     "metadata": {},
     "output_type": "execute_result"
    }
   ],
   "source": [
    "# remplissage d'un ndarray avec une valeur uniforme\n",
    "a.fill(-1)\n",
    "a"
   ]
  },
  {
   "cell_type": "markdown",
   "metadata": {},
   "source": [
    "## 1.4 Opérations de transformation\n",
    "\n",
    "Il est possible de transformer un ndarray en un tableau de n'importe quelle dimension (du moment que le nombre total d'éléments soit identique)."
   ]
  },
  {
   "cell_type": "code",
   "execution_count": 72,
   "metadata": {
    "collapsed": false
   },
   "outputs": [
    {
     "data": {
      "text/plain": [
       "array([5, 0, 2, 6, 7, 7, 7, 1, 2, 3, 5, 5, 1, 2, 8, 8, 6, 0, 4, 0, 4, 3, 3,\n",
       "       2, 0, 1, 8, 4, 6, 3, 4, 0, 1, 8, 0, 7, 8, 1, 6, 1, 0, 1, 2, 7, 8, 3,\n",
       "       8, 1])"
      ]
     },
     "execution_count": 72,
     "metadata": {},
     "output_type": "execute_result"
    }
   ],
   "source": [
    "# création d'un vecteur\n",
    "a = np.random.randint(0, 9, 48)\n",
    "a"
   ]
  },
  {
   "cell_type": "code",
   "execution_count": 73,
   "metadata": {
    "collapsed": false
   },
   "outputs": [
    {
     "data": {
      "text/plain": [
       "array([[5, 0, 2, 6, 7, 7],\n",
       "       [7, 1, 2, 3, 5, 5],\n",
       "       [1, 2, 8, 8, 6, 0],\n",
       "       [4, 0, 4, 3, 3, 2],\n",
       "       [0, 1, 8, 4, 6, 3],\n",
       "       [4, 0, 1, 8, 0, 7],\n",
       "       [8, 1, 6, 1, 0, 1],\n",
       "       [2, 7, 8, 3, 8, 1]])"
      ]
     },
     "execution_count": 73,
     "metadata": {},
     "output_type": "execute_result"
    }
   ],
   "source": [
    "# transformation en matrice\n",
    "a = a.reshape(8, 6)\n",
    "a"
   ]
  },
  {
   "cell_type": "markdown",
   "metadata": {},
   "source": [
    "Il est possible de mettre à plat un ndarray en lignes ou en colonnes."
   ]
  },
  {
   "cell_type": "code",
   "execution_count": 74,
   "metadata": {
    "collapsed": false
   },
   "outputs": [
    {
     "data": {
      "text/plain": [
       "array([5, 0, 2, 6, 7, 7, 7, 1, 2, 3, 5, 5, 1, 2, 8, 8, 6, 0, 4, 0, 4, 3, 3,\n",
       "       2, 0, 1, 8, 4, 6, 3, 4, 0, 1, 8, 0, 7, 8, 1, 6, 1, 0, 1, 2, 7, 8, 3,\n",
       "       8, 1])"
      ]
     },
     "execution_count": 74,
     "metadata": {},
     "output_type": "execute_result"
    }
   ],
   "source": [
    "# par défaut en ligne (mode langage C)\n",
    "a.flatten()"
   ]
  },
  {
   "cell_type": "code",
   "execution_count": 75,
   "metadata": {
    "collapsed": false
   },
   "outputs": [
    {
     "data": {
      "text/plain": [
       "array([5, 7, 1, 4, 0, 4, 8, 2, 0, 1, 2, 0, 1, 0, 1, 7, 2, 2, 8, 4, 8, 1, 6,\n",
       "       8, 6, 3, 8, 3, 4, 8, 1, 3, 7, 5, 6, 3, 6, 0, 0, 8, 7, 5, 0, 2, 3, 7,\n",
       "       1, 1])"
      ]
     },
     "execution_count": 75,
     "metadata": {},
     "output_type": "execute_result"
    }
   ],
   "source": [
    "# en colonne (mode langage Fortran)\n",
    "a.flatten('F')"
   ]
  },
  {
   "cell_type": "code",
   "execution_count": 76,
   "metadata": {
    "collapsed": false
   },
   "outputs": [
    {
     "data": {
      "text/plain": [
       "array([[5, 7, 1, 4, 0, 4, 8, 2],\n",
       "       [0, 1, 2, 0, 1, 0, 1, 7],\n",
       "       [2, 2, 8, 4, 8, 1, 6, 8],\n",
       "       [6, 3, 8, 3, 4, 8, 1, 3],\n",
       "       [7, 5, 6, 3, 6, 0, 0, 8],\n",
       "       [7, 5, 0, 2, 3, 7, 1, 1]])"
      ]
     },
     "execution_count": 76,
     "metadata": {},
     "output_type": "execute_result"
    }
   ],
   "source": [
    "# transposition\n",
    "a.transpose()  # ou a.T"
   ]
  },
  {
   "cell_type": "code",
   "execution_count": 77,
   "metadata": {
    "collapsed": false
   },
   "outputs": [
    {
     "data": {
      "text/plain": [
       "array([[5, 7, 1, 4, 0, 4, 8, 2],\n",
       "       [0, 1, 2, 0, 1, 0, 1, 7],\n",
       "       [2, 2, 8, 4, 8, 1, 6, 8],\n",
       "       [6, 3, 8, 3, 4, 8, 1, 3],\n",
       "       [7, 5, 6, 3, 6, 0, 0, 8],\n",
       "       [7, 5, 0, 2, 3, 7, 1, 1]])"
      ]
     },
     "execution_count": 77,
     "metadata": {},
     "output_type": "execute_result"
    }
   ],
   "source": [
    "a.T"
   ]
  },
  {
   "cell_type": "code",
   "execution_count": 78,
   "metadata": {
    "collapsed": false
   },
   "outputs": [
    {
     "data": {
      "text/plain": [
       "array([0, 0, 0, 0, 0, 0, 0, 1, 1, 1, 1, 1, 1, 1, 1, 2, 2, 2, 2, 2, 3, 3, 3,\n",
       "       3, 3, 4, 4, 4, 4, 5, 5, 5, 6, 6, 6, 6, 7, 7, 7, 7, 7, 8, 8, 8, 8, 8,\n",
       "       8, 8])"
      ]
     },
     "execution_count": 78,
     "metadata": {},
     "output_type": "execute_result"
    }
   ],
   "source": [
    "# tri\n",
    "a = a.flatten()\n",
    "a.sort()\n",
    "a"
   ]
  },
  {
   "cell_type": "code",
   "execution_count": 79,
   "metadata": {
    "collapsed": false
   },
   "outputs": [
    {
     "data": {
      "text/plain": [
       "array([[ 0.71344623,  0.2       ,  0.39898926,  0.2       ,  0.8       ],\n",
       "       [ 0.6252962 ,  0.7844417 ,  0.8       ,  0.8       ,  0.8       ],\n",
       "       [ 0.2       ,  0.8       ,  0.25117078,  0.63586639,  0.44199695],\n",
       "       [ 0.58957335,  0.75906912,  0.8       ,  0.78566441,  0.69001674]])"
      ]
     },
     "execution_count": 79,
     "metadata": {},
     "output_type": "execute_result"
    }
   ],
   "source": [
    "# seuillage\n",
    "a = np.random.random(20).reshape((4, 5))\n",
    "a.clip(0.2, 0.8)"
   ]
  },
  {
   "cell_type": "markdown",
   "metadata": {},
   "source": [
    "## 1.5 Opérations arithmétiques,  logiques, mathématiques et matricielles\n",
    "\n",
    "Numpy possède toutes les fonctions arithmétiques, de comparaison, logiques, mathématiques, trigonométriques et de calcul matriciel."
   ]
  },
  {
   "cell_type": "markdown",
   "metadata": {},
   "source": [
    "Domaine|Fonctions\n",
    "-|-\n",
    "Arithmétique | + (add) - (subtract) &#42; (multiply) / (divide) &#42;&#42; (power)\n",
    "Comparaison | ==, !=, =<, <, =>, >\n",
    "Logique | & (and) &#124; (or) ~ (not) all() any() allclose()\n",
    "Mathématiques | abs sign sqrt log log10 exp floor ceil rint\n",
    "Trigonométrie | sin cos tan arcsin arccos arctan sinh cosh tanh arcsinh arccosh arctanh\n",
    "Calcul matriciel | @ (dot) T (transpose)"
   ]
  },
  {
   "cell_type": "markdown",
   "metadata": {},
   "source": [
    "**Exercice**\n",
    "\n",
    "Fabriquer un vecteur de 10 entiers aléatoires entre 0 et 9 inclus.\n",
    "Tester si tous les entiers sont nuls. Si l'un des entiers est nul avec *all()* et *any()*."
   ]
  },
  {
   "cell_type": "code",
   "execution_count": 87,
   "metadata": {
    "collapsed": false
   },
   "outputs": [
    {
     "name": "stdout",
     "output_type": "stream",
     "text": [
      "[7 1 7 6 9 3 7 1 7 1]\n"
     ]
    },
    {
     "data": {
      "text/plain": [
       "False"
      ]
     },
     "execution_count": 87,
     "metadata": {},
     "output_type": "execute_result"
    }
   ],
   "source": [
    "a = np.random.randint(0, 10, 10)\n",
    "print(a)\n",
    "(a == 0).any()"
   ]
  },
  {
   "cell_type": "markdown",
   "metadata": {},
   "source": [
    "## 1.6 Sélection logique\n",
    "\n",
    "L'opérateur [] permet d'effectuer une sélection logique à partir d'un masque booléen.\n",
    "\n",
    "Les opérateur logiques sont : | (OU), & (ET) et ~ (NON)."
   ]
  },
  {
   "cell_type": "code",
   "execution_count": 88,
   "metadata": {
    "collapsed": false
   },
   "outputs": [
    {
     "data": {
      "text/plain": [
       "array([7, 9, 6, 4, 4, 7, 8, 4, 0, 9, 1, 1, 3, 9, 6, 1, 0, 5, 8, 3])"
      ]
     },
     "execution_count": 88,
     "metadata": {},
     "output_type": "execute_result"
    }
   ],
   "source": [
    "# ndarray\n",
    "a = np.random.randint(0, 10, 20)\n",
    "a"
   ]
  },
  {
   "cell_type": "code",
   "execution_count": 89,
   "metadata": {
    "collapsed": false
   },
   "outputs": [
    {
     "data": {
      "text/plain": [
       "array([False, False, False,  True,  True, False, False,  True,  True,\n",
       "       False,  True,  True,  True, False, False,  True,  True, False,\n",
       "       False,  True], dtype=bool)"
      ]
     },
     "execution_count": 89,
     "metadata": {},
     "output_type": "execute_result"
    }
   ],
   "source": [
    "# masque booléen\n",
    "m = a < 5\n",
    "m"
   ]
  },
  {
   "cell_type": "code",
   "execution_count": 90,
   "metadata": {
    "collapsed": false
   },
   "outputs": [
    {
     "data": {
      "text/plain": [
       "array([4, 4, 4, 0, 1, 1, 3, 1, 0, 3])"
      ]
     },
     "execution_count": 90,
     "metadata": {},
     "output_type": "execute_result"
    }
   ],
   "source": [
    "# sélection par masque booléen\n",
    "a[m]"
   ]
  },
  {
   "cell_type": "code",
   "execution_count": 92,
   "metadata": {
    "collapsed": false
   },
   "outputs": [
    {
     "data": {
      "text/plain": [
       "array([7, 9, 6, 7, 8, 9, 9, 6, 8])"
      ]
     },
     "execution_count": 92,
     "metadata": {},
     "output_type": "execute_result"
    }
   ],
   "source": [
    "# expression concise\n",
    "a[a > 5]"
   ]
  },
  {
   "cell_type": "markdown",
   "metadata": {},
   "source": [
    "**Exercice**\n",
    "\n",
    "Fabriquer un vecteur aléatoire comportant 100 entiers compris en 0 et 9 inclus.\n",
    "\n",
    "Sélectionner les entiers qui sont différent de 0, inférieurs à 7 et pairs."
   ]
  },
  {
   "cell_type": "code",
   "execution_count": 93,
   "metadata": {
    "collapsed": false
   },
   "outputs": [
    {
     "name": "stdout",
     "output_type": "stream",
     "text": [
      "[2 5 8 8 0 0 6 6 2 6 1 5 3 4 7 4 6 7 3 9 1 3 5 0 1 2 5 2 4 1 9 0 0 1 5 7 7\n",
      " 9 0 9 7 0 7 0 5 2 8 5 3 8 9 8 8 8 0 7 1 1 3 3 5 0 8 2 8 7 6 1 8 2 1 6 4 5\n",
      " 8 4 6 1 0 1 1 0 0 1 6 6 9 2 7 3 8 8 1 5 4 1 0 9 0 7]\n"
     ]
    },
    {
     "data": {
      "text/plain": [
       "array([2, 6, 6, 2, 6, 4, 4, 6, 2, 2, 4, 2, 2, 6, 2, 6, 4, 4, 6, 6, 6, 2, 4])"
      ]
     },
     "execution_count": 93,
     "metadata": {},
     "output_type": "execute_result"
    }
   ],
   "source": [
    "a = np.random.randint(0, 10, 100)\n",
    "print(a)\n",
    "a[(a != 0) & (a < 7) & (a % 2 == 0)]"
   ]
  },
  {
   "cell_type": "markdown",
   "metadata": {},
   "source": [
    "## 1.7 Agrégats\n",
    "\n",
    "Il existe des fonctions agrégatives qui synthétisent les valeurs d'un *ndarray*.\n",
    "\n",
    "Il est possible d'appliquer ces fonctions sur l'ensemble d'un *ndarray* ou bien selon une dimension particulière. Cette dimension est dénommée *axis* dans le jargon de Python et vaut 0, 1, 2...\n",
    "\n",
    "Atention, dans les opérations de synthèse, *axis* correspond à la dimension dans laquelle l'indice servant à effectuer la synthèse varie.\n",
    "\n",
    "Par exemple, une matrice possède 2 dimensions : *axis=0* réprésente l'indice des lignes et *axis=1* représente l'indice des colonnes. Pour calculer la somme des lignes, on additionne les colonnes (*axis=1*) et inversement pour calculer la somme des colonnes, on additionne les lignes (*axis=0*)."
   ]
  },
  {
   "cell_type": "markdown",
   "metadata": {},
   "source": [
    "Fonction|Usage\n",
    "-|-\n",
    "sum|calcul de la somme\n",
    "prod|calcul du produit\n",
    "min|calcul du minimum\n",
    "max|calcul du maximum\n",
    "argmin|calcul de l'indice du minimum\n",
    "argmax|calcul de l'indice du maximum\n",
    "cumsum|calcul de la somme cumulée\n",
    "cumprod|calcul du produit cumulé\n",
    "mean|calcul de la moyenne\n",
    "median|calcul de la médiane\n",
    "std|écart type\n",
    "var|variance"
   ]
  },
  {
   "cell_type": "markdown",
   "metadata": {},
   "source": [
    "**Exercice**\n",
    "\n",
    "Fabriquer une matrice 7 x 5 d'entiers aléatoires entre 0 et 3 inclus.\n",
    "\n",
    "Calculer la somme totale, la somme des lignes, la somme des colonnes.\n",
    "\n",
    "Afficher une marche aléatoire où à chaque pas on avance d'un nombre compris entre -0.5 et 0.5."
   ]
  },
  {
   "cell_type": "code",
   "execution_count": 94,
   "metadata": {
    "collapsed": false
   },
   "outputs": [
    {
     "name": "stdout",
     "output_type": "stream",
     "text": [
      "[[2 0 3 1 3]\n",
      " [0 0 3 3 1]\n",
      " [0 3 3 0 1]\n",
      " [3 3 1 0 0]\n",
      " [1 1 1 1 1]\n",
      " [1 1 2 2 0]\n",
      " [2 3 1 0 3]]\n"
     ]
    }
   ],
   "source": [
    "a = np.random.randint(0, 4, (7, 5))\n",
    "print(a)"
   ]
  },
  {
   "cell_type": "code",
   "execution_count": 97,
   "metadata": {
    "collapsed": false
   },
   "outputs": [
    {
     "data": {
      "text/plain": [
       "50"
      ]
     },
     "execution_count": 97,
     "metadata": {},
     "output_type": "execute_result"
    }
   ],
   "source": [
    "a.sum()"
   ]
  },
  {
   "cell_type": "code",
   "execution_count": 95,
   "metadata": {
    "collapsed": false
   },
   "outputs": [
    {
     "data": {
      "text/plain": [
       "array([9, 7, 7, 7, 5, 6, 9])"
      ]
     },
     "execution_count": 95,
     "metadata": {},
     "output_type": "execute_result"
    }
   ],
   "source": [
    "a.sum(axis=1)"
   ]
  },
  {
   "cell_type": "code",
   "execution_count": 96,
   "metadata": {
    "collapsed": false
   },
   "outputs": [
    {
     "data": {
      "text/plain": [
       "array([ 9, 11, 14,  7,  9])"
      ]
     },
     "execution_count": 96,
     "metadata": {},
     "output_type": "execute_result"
    }
   ],
   "source": [
    "a.sum(axis=0)"
   ]
  },
  {
   "cell_type": "code",
   "execution_count": 109,
   "metadata": {
    "collapsed": false
   },
   "outputs": [
    {
     "data": {
      "image/png": "[encoded data removed]",
      "text/plain": [
       "<matplotlib.figure.Figure at 0x6f7f2b0>"
      ]
     },
     "metadata": {},
     "output_type": "display_data"
    }
   ],
   "source": [
    "plt.plot((np.random.random(100) - 0.5).cumsum());"
   ]
  },
  {
   "cell_type": "markdown",
   "metadata": {
    "collapsed": true
   },
   "source": [
    "## 1.8 Algèbre linéaire\n",
    "\n",
    "Les méthodes classiques utilisées en algèbre linéaire existent dans le sous-module *numpy.linalg* :\n",
    "- inversion : *inv()*\n",
    "- vecteurs propres, valeurs propres :  *eig()*, *eigvals()*\n",
    "- décomposition en valeurs singulières : *svd()*\n",
    "- etc."
   ]
  },
  {
   "cell_type": "code",
   "execution_count": 120,
   "metadata": {
    "collapsed": false
   },
   "outputs": [
    {
     "name": "stdout",
     "output_type": "stream",
     "text": [
      "a = [[ 0.94578372  0.3131456   0.36809042]\n",
      " [ 0.22437083  0.46448694  0.57899896]\n",
      " [ 0.00301119  0.87131483  0.37186887]]\n",
      "d = [[ 1.34615871  0.          0.        ]\n",
      " [ 0.          0.71451711  0.        ]\n",
      " [ 0.          0.         -0.27853629]]\n",
      "p = [[-0.76725091 -0.89271102 -0.08768378]\n",
      " [-0.47688016  0.1675866  -0.59568635]\n",
      " [-0.42884887  0.41830821  0.79841677]]\n"
     ]
    },
    {
     "data": {
      "text/plain": [
       "True"
      ]
     },
     "execution_count": 120,
     "metadata": {},
     "output_type": "execute_result"
    }
   ],
   "source": [
    "# diagonalisation d'une matrice 3 x 3\n",
    "a = np.random.random(9).reshape((3, 3))\n",
    "print(\"a =\", a)\n",
    "d, p = np.linalg.eig(a)\n",
    "print(\"d =\", np.diag(d))\n",
    "print(\"p =\", p)\n",
    "# on vérifie que a = p x d x p-1\n",
    "delta = a - p.dot(np.diag(d)).dot(np.linalg.inv(p))\n",
    "np.allclose(delta, 0)"
   ]
  },
  {
   "cell_type": "code",
   "execution_count": 119,
   "metadata": {
    "collapsed": false
   },
   "outputs": [
    {
     "data": {
      "text/plain": [
       "array([8, 4, 4, 8, 3, 4, 3, 8, 7, 8, 6, 2, 7, 7, 1, 7, 2, 6, 6, 5, 8, 6, 4,\n",
       "       3, 2, 7, 1, 2, 7, 1, 4, 8, 2, 7, 8, 3, 7, 1, 7, 7, 5, 5, 8, 4, 6, 7,\n",
       "       8, 8, 3, 7, 3, 3, 8, 3, 8, 5, 3, 2, 1, 4, 6, 2, 2, 8, 3, 8, 4, 1, 3,\n",
       "       1, 1, 7, 7, 8, 4, 7, 3, 1, 6, 1, 4, 4, 7, 3, 3, 2, 3, 7, 3, 6, 8, 3,\n",
       "       6, 6, 1, 7, 1, 5, 6, 7])"
      ]
     },
     "execution_count": 119,
     "metadata": {},
     "output_type": "execute_result"
    }
   ],
   "source": [
    "np.random.randint(1, 9, 100)"
   ]
  },
  {
   "cell_type": "code",
   "execution_count": 118,
   "metadata": {
    "collapsed": false
   },
   "outputs": [
    {
     "data": {
      "text/plain": [
       "array([ 1.94498938,  1.41562354,  1.54233023,  7.14061799,  5.1720983 ,\n",
       "        5.19332227,  4.24674832,  6.93533448,  1.074578  ,  8.52928574,\n",
       "        5.03202685,  8.47642564,  4.88778915,  5.91320389,  4.18977948,\n",
       "        5.6574255 ,  6.86804574,  5.90400013,  1.88407341,  4.7292683 ,\n",
       "        3.81671757,  8.63121331,  3.60281416,  5.68236163,  3.86927158,\n",
       "        6.14062808,  2.79238201,  1.63314379,  6.33331634,  4.19725471,\n",
       "        2.09203426,  2.36917377,  1.957352  ,  2.54093718,  6.98625538,\n",
       "        4.00125109,  3.15623041,  7.82072354,  5.37771494,  2.3839645 ,\n",
       "        6.33371958,  2.99730983,  3.78184821,  8.04225004,  7.37468177,\n",
       "        2.02424449,  2.79167669,  1.59421557,  8.66916974,  8.85485677,\n",
       "        4.15741931,  4.4245201 ,  4.75884995,  1.5189205 ,  3.63911303,\n",
       "        1.81018204,  5.54262541,  7.97409468,  1.30504339,  2.42956224,\n",
       "        8.06569432,  3.9251569 ,  8.19067807,  6.28763626,  1.88952404,\n",
       "        6.80433946,  3.87442579,  6.93129554,  7.01977268,  8.54802903,\n",
       "        2.43494086,  7.82737403,  1.65117755,  4.95379361,  3.32898833,\n",
       "        4.65164578,  2.43853888,  7.79094539,  4.81418834,  7.19285885,\n",
       "        1.53685477,  4.11961515,  7.81674861,  2.83918363,  3.42744044,\n",
       "        8.48095078,  1.37063105,  3.16696676,  4.76385282,  2.13696361,\n",
       "        8.9094417 ,  1.97545458,  4.73083351,  2.52711127,  3.53265705,\n",
       "        7.34694612,  1.79026989,  4.07014193,  6.91571706,  5.51775061])"
      ]
     },
     "execution_count": 118,
     "metadata": {},
     "output_type": "execute_result"
    }
   ],
   "source": [
    "np.random.uniform(1, 9, 100)"
   ]
  },
  {
   "cell_type": "code",
   "execution_count": 111,
   "metadata": {
    "collapsed": false
   },
   "outputs": [
    {
     "name": "stdout",
     "output_type": "stream",
     "text": [
      "a = [[ 0.339615    0.48519743  0.06226543]\n",
      " [ 0.1925613   0.12907035  0.60011557]\n",
      " [ 0.79810202  0.3707047   0.03380602]]\n"
     ]
    },
    {
     "data": {
      "text/plain": [
       "array([ 0.97644844+0.j      , -0.23697854+0.317371j, -0.23697854-0.317371j])"
      ]
     },
     "execution_count": 111,
     "metadata": {},
     "output_type": "execute_result"
    }
   ],
   "source": [
    "# diagonalisation d'une matrice 3 x 3\n",
    "a = np.random.random(9).reshape((3, 3))\n",
    "print(\"a =\", a)\n",
    "d, p = np.linalg.eig(a)\n",
    "d"
   ]
  },
  {
   "cell_type": "markdown",
   "metadata": {},
   "source": [
    "**Exercice**\n",
    "\n",
    "On considère une matrice m (2 x 100) définie par :\n",
    "   - x = np.random.random(100)\n",
    "   - y = x * (1 + np.random.random(100)) / 2\n",
    "\n",
    "Produire un graphique correspondant à la matrice.\n",
    "\n",
    "Appliquer la fonction SVD (option *full_matrices=False*) à m, renvoyant : u, v, s\n",
    "\n",
    "Vérifier l'égalité m = u x s x v\n",
    "\n",
    "Produire un graphique correspondant à la matrice transformée par la rotation u."
   ]
  },
  {
   "cell_type": "code",
   "execution_count": 153,
   "metadata": {
    "collapsed": false
   },
   "outputs": [
    {
     "data": {
      "image/png": "[encoded data removed]",
      "text/plain": [
       "<matplotlib.figure.Figure at 0xa20ca20>"
      ]
     },
     "metadata": {},
     "output_type": "display_data"
    }
   ],
   "source": [
    "x = np.random.random(100)\n",
    "y =  x * (1 + np.random.random(100)) / 2\n",
    "plt.scatter(x, y);"
   ]
  },
  {
   "cell_type": "code",
   "execution_count": 158,
   "metadata": {
    "collapsed": false
   },
   "outputs": [
    {
     "data": {
      "text/plain": [
       "array([[ 0.5281732 ,  0.01146383,  0.68109896,  0.94299916,  0.28558855,\n",
       "         0.85910671,  0.96992205,  0.27492752,  0.76345561,  0.79642898,\n",
       "         0.08461063,  0.1380666 ,  0.24497609,  0.24301493,  0.01791199,\n",
       "         0.91590885,  0.5746311 ,  0.05885948,  0.65176408,  0.83675967,\n",
       "         0.3566802 ,  0.22983325,  0.76430684,  0.92936675,  0.61486782,\n",
       "         0.05308846,  0.42530514,  0.38697643,  0.05732088,  0.75222868,\n",
       "         0.57954005,  0.57759788,  0.18715068,  0.54177073,  0.83757614,\n",
       "         0.93240906,  0.1106998 ,  0.52245712,  0.52213207,  0.88395798,\n",
       "         0.7830989 ,  0.96178774,  0.37659723,  0.54335036,  0.43196164,\n",
       "         0.98209429,  0.01500453,  0.29570186,  0.06292867,  0.52432409,\n",
       "         0.37170608,  0.17491096,  0.49820115,  0.59885852,  0.96488944,\n",
       "         0.47742648,  0.81904272,  0.18750053,  0.38015266,  0.44396675,\n",
       "         0.92152702,  0.95113443,  0.70450769,  0.10479685,  0.40398773,\n",
       "         0.72079258,  0.49925249,  0.79052487,  0.69385429,  0.41299872,\n",
       "         0.47919104,  0.90929573,  0.90114442,  0.11974388,  0.88482209,\n",
       "         0.80256298,  0.03731772,  0.54679338,  0.29963319,  0.12757502,\n",
       "         0.96080464,  0.11158261,  0.58007781,  0.70417105,  0.59500395,\n",
       "         0.59060126,  0.76443237,  0.54461686,  0.43257538,  0.30666784,\n",
       "         0.38863189,  0.58330423,  0.99019975,  0.56692105,  0.38058585,\n",
       "         0.54470829,  0.46130102,  0.78015194,  0.13492131,  0.54142691],\n",
       "       [ 0.50249534,  0.01133838,  0.67259647,  0.50636482,  0.16976333,\n",
       "         0.82525175,  0.75257458,  0.25289281,  0.65851083,  0.40181293,\n",
       "         0.06916433,  0.07021133,  0.20575765,  0.23141381,  0.0102293 ,\n",
       "         0.62338384,  0.36937797,  0.04786558,  0.53512414,  0.59124398,\n",
       "         0.35370223,  0.12442283,  0.56043606,  0.47156463,  0.61168572,\n",
       "         0.03873768,  0.31577507,  0.30615733,  0.03705957,  0.66565976,\n",
       "         0.57940347,  0.37792846,  0.10817744,  0.43535378,  0.70491373,\n",
       "         0.84437216,  0.06805704,  0.36529805,  0.28557649,  0.83480366,\n",
       "         0.40038484,  0.75912206,  0.35753138,  0.34230183,  0.24338636,\n",
       "         0.86595676,  0.01197001,  0.17112161,  0.05012764,  0.30712041,\n",
       "         0.250592  ,  0.10037401,  0.26632288,  0.46948228,  0.85651651,\n",
       "         0.43674836,  0.41029031,  0.13484916,  0.23985284,  0.42085305,\n",
       "         0.56934893,  0.48415557,  0.484047  ,  0.07852095,  0.34207481,\n",
       "         0.39332701,  0.45380379,  0.51304944,  0.52757222,  0.37190617,\n",
       "         0.34514726,  0.64130301,  0.79454833,  0.08914445,  0.62231442,\n",
       "         0.68554381,  0.02018695,  0.42917409,  0.23991935,  0.07735536,\n",
       "         0.50030885,  0.10021007,  0.33687587,  0.62591892,  0.32758527,\n",
       "         0.33216276,  0.40003288,  0.37649257,  0.3522356 ,  0.17114034,\n",
       "         0.2080067 ,  0.5658172 ,  0.9135343 ,  0.37755279,  0.33822135,\n",
       "         0.38572576,  0.31005571,  0.73859864,  0.07695803,  0.37003216]])"
      ]
     },
     "execution_count": 158,
     "metadata": {},
     "output_type": "execute_result"
    }
   ],
   "source": [
    "m = np.array([x, y])\n",
    "m"
   ]
  },
  {
   "cell_type": "code",
   "execution_count": 163,
   "metadata": {
    "collapsed": false
   },
   "outputs": [
    {
     "data": {
      "text/plain": [
       "True"
      ]
     },
     "execution_count": 163,
     "metadata": {},
     "output_type": "execute_result"
    }
   ],
   "source": [
    "u, s, v = np.linalg.svd(m,full_matrices=False)\n",
    "np.allclose(m - u.dot(np.diag(s).dot(v)), 0)"
   ]
  },
  {
   "cell_type": "code",
   "execution_count": 166,
   "metadata": {
    "collapsed": false
   },
   "outputs": [
    {
     "data": {
      "image/png": "[encoded data removed]",
      "text/plain": [
       "<matplotlib.figure.Figure at 0xa32add8>"
      ]
     },
     "metadata": {},
     "output_type": "display_data"
    }
   ],
   "source": [
    "n = u.dot(m)\n",
    "plt.scatter(n[0], n[1]);"
   ]
  },
  {
   "cell_type": "code",
   "execution_count": null,
   "metadata": {
    "collapsed": true
   },
   "outputs": [],
   "source": []
  }
 ],
 "metadata": {
  "anaconda-cloud": {},
  "kernelspec": {
   "display_name": "Python [default]",
   "language": "python",
   "name": "python3"
  },
  "language_info": {
   "codemirror_mode": {
    "name": "ipython",
    "version": 3
   },
   "file_extension": ".py",
   "mimetype": "text/x-python",
   "name": "python",
   "nbconvert_exporter": "python",
   "pygments_lexer": "ipython3",
   "version": "3.5.2"
  }
 },
 "nbformat": 4,
 "nbformat_minor": 0
}
