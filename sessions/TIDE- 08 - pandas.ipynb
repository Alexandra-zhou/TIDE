{
 "cells": [
  {
   "cell_type": "markdown",
   "metadata": {},
   "source": [
    "# Master TIDE - Conférences Python 2020\n",
    "\n",
    "Francis Wolinski\n",
    "\n",
    "&copy; 2020 Yotta Conseil"
   ]
  },
  {
   "cell_type": "markdown",
   "metadata": {},
   "source": [
    "# 9. Transformation des données\n",
    "\n",
    "## 9.1 Index et colonnes hiérarchiques\n",
    "La librairie **pandas** permet de gérer des index et des colonnes hiérarchiques. Dans ce cas, les clefs d'accès sont des tuples (ou bien la clef seule pour le premier niveau).\n",
    "\n",
    "### Index hiérarchique ou multi-index\n",
    "Le `DataFrame` des communes comporte implicitement 3 niveaux d'index : `Région`, `Département` et `Code INSEE` (ou le nom de la commune)."
   ]
  },
  {
   "cell_type": "code",
   "execution_count": null,
   "metadata": {
    "scrolled": false
   },
   "outputs": [],
   "source": [
    "# import des modules usuels\n",
    "import pandas as pd\n",
    "import numpy as np\n",
    "import matplotlib.pyplot as plt\n",
    "\n",
    "# commande magique pour l'affichage des graphiques\n",
    "%matplotlib inline\n",
    "\n",
    "# options d'affichage\n",
    "pd.set_option(\"display.max_rows\", 16)\n",
    "plt.style.use('seaborn-darkgrid')"
   ]
  },
  {
   "cell_type": "code",
   "execution_count": null,
   "metadata": {
    "scrolled": false
   },
   "outputs": [],
   "source": [
    "# chargement des données\n",
    "geo = pd.read_csv(\"correspondance-code-insee-code-postal.csv\",\n",
    "                   sep=';',\n",
    "                   usecols=range(11),\n",
    "                  index_col=\"Code INSEE\")\n",
    "geo= geo.sort_index()\n",
    "geo.head()"
   ]
  },
  {
   "cell_type": "code",
   "execution_count": null,
   "metadata": {},
   "outputs": [],
   "source": [
    "geo[\"Latitude\"] = geo[\"geo_point_2d\"].apply(lambda x: float(x.split(', ')[0]))\n",
    "geo[\"Longitude\"] = geo[\"geo_point_2d\"].apply(lambda x: float(x.split(', ')[1]))\n",
    "geo[\"Superficie\"] /= 100.0\n",
    "geo[\"Densité\"] = 1000 * geo[\"Population\"] / geo[\"Superficie\"]\n",
    "\n",
    "# conversion de la colonne Statut en catégorie\n",
    "# selon version de pandas...\n",
    "\n",
    "statuts = [\"Commune simple\", \"Chef-lieu canton\", \"Sous-préfecture\",\n",
    "            \"Préfecture\", \"Préfecture de région\", \"Capitale d'état\"]\n",
    "\n",
    "from pandas.api.types import CategoricalDtype\n",
    "cat_statut = CategoricalDtype(categories=statuts, ordered=True)\n",
    "geo[\"Statut\"] = geo[\"Statut\"].astype(cat_statut)"
   ]
  },
  {
   "cell_type": "code",
   "execution_count": null,
   "metadata": {
    "scrolled": false
   },
   "outputs": [],
   "source": [
    "# index de geo\n",
    "geo.index"
   ]
  },
  {
   "cell_type": "markdown",
   "metadata": {},
   "source": [
    "On annule l'index existant avec la fonction **reset_index()** :"
   ]
  },
  {
   "cell_type": "code",
   "execution_count": null,
   "metadata": {
    "scrolled": false
   },
   "outputs": [],
   "source": [
    "# annulation de l'index existant\n",
    "geo1 = geo.reset_index()\n",
    "geo1.head()"
   ]
  },
  {
   "cell_type": "code",
   "execution_count": null,
   "metadata": {},
   "outputs": [],
   "source": [
    "# type de geo1.index\n",
    "geo1.index"
   ]
  },
  {
   "cell_type": "code",
   "execution_count": null,
   "metadata": {
    "scrolled": false
   },
   "outputs": [],
   "source": [
    "# on applique un index triple : Région, Département, Code INSEE\n",
    "geo1 = geo1.set_index([\"Région\", \"Département\", \"Code INSEE\"])\n",
    "geo1"
   ]
  },
  {
   "cell_type": "code",
   "execution_count": null,
   "metadata": {
    "scrolled": false
   },
   "outputs": [],
   "source": [
    "# l'index est devenu un MultiIndex\n",
    "type(geo1.index)"
   ]
  },
  {
   "cell_type": "code",
   "execution_count": null,
   "metadata": {},
   "outputs": [],
   "source": [
    "# geo1.index\n",
    "geo1.index"
   ]
  },
  {
   "cell_type": "markdown",
   "metadata": {},
   "source": [
    "Accès direct au premier niveau :"
   ]
  },
  {
   "cell_type": "code",
   "execution_count": null,
   "metadata": {
    "scrolled": false
   },
   "outputs": [],
   "source": [
    "# premier niveau\n",
    "geo1.loc[(\"ILE-DE-FRANCE\",)]  # ou bien communes1.loc[\"ILE-DE-FRANCE\"]"
   ]
  },
  {
   "cell_type": "markdown",
   "metadata": {},
   "source": [
    "Accès au deuxième niveau :"
   ]
  },
  {
   "cell_type": "code",
   "execution_count": null,
   "metadata": {
    "scrolled": false
   },
   "outputs": [],
   "source": [
    "# deuxième niveau\n",
    "geo1.loc[(\"ILE-DE-FRANCE\", \"HAUTS-DE-SEINE\")]"
   ]
  },
  {
   "cell_type": "markdown",
   "metadata": {},
   "source": [
    "Accès au troisième niveau :"
   ]
  },
  {
   "cell_type": "code",
   "execution_count": null,
   "metadata": {
    "scrolled": false
   },
   "outputs": [],
   "source": [
    "# troisième niveau\n",
    "geo1.loc[(\"ILE-DE-FRANCE\", \"HAUTS-DE-SEINE\", \"92002\")]"
   ]
  },
  {
   "cell_type": "markdown",
   "metadata": {},
   "source": [
    "Tri du multi-index pour éviter les problèmes de performance."
   ]
  },
  {
   "cell_type": "code",
   "execution_count": null,
   "metadata": {},
   "outputs": [],
   "source": [
    "# tri du multi-index\n",
    "geo1 = geo1.sort_index()\n",
    "geo1.loc[(\"ILE-DE-FRANCE\", \"HAUTS-DE-SEINE\")]"
   ]
  },
  {
   "cell_type": "markdown",
   "metadata": {},
   "source": [
    "### Colonnes hiérarchiques"
   ]
  },
  {
   "cell_type": "code",
   "execution_count": null,
   "metadata": {
    "scrolled": false
   },
   "outputs": [],
   "source": [
    "import os\n",
    "\n",
    "if os.path.exists('thd.dat'):\n",
    "    thd = pd.read_pickle('thd.dat')\n",
    "else:\n",
    "    thd = pd.read_excel(\"FranceTHD_Open_Data_Observatoire_Juin2015.xlsx\",\n",
    "                        sheet_name=\"Communes\",\n",
    "                        header=1,\n",
    "                        index_col=\"Code INSEE\",\n",
    "                        names=[\"Département\", \"Code INSEE\", \"Commune\",\n",
    "                                    \"1 Mbit\", \"3 Mbit\", \"8 Mbit\", \"30 Mbit\", \"100 Mbit\",\n",
    "                                    \"DSL 1 Mbit\", \"DSL 3 Mbit\", \"DSL 8 Mbit\", \"DSL 30 Mbit\", \"DSL 100 Mbit\",\n",
    "                                    \"Câble 1 Mbit\", \"Câble 3 Mbit\", \"Câble 8 Mbit\", \"Câble 30 Mbit\", \"Câble 100 Mbit\",\n",
    "                                    \"Fibre 1 Mbit\", \"Fibre 3 Mbit\", \"Fibre 8 Mbit\", \"Fibre 30 Mbit\", \"Fibre 100 Mbit\"])\n",
    "    thd.to_pickle('thd.dat')\n",
    "\n",
    "thd.head()"
   ]
  },
  {
   "cell_type": "code",
   "execution_count": null,
   "metadata": {
    "scrolled": false
   },
   "outputs": [],
   "source": [
    "# on restreint les données au haut débit seul\n",
    "thd2 = thd.loc[:, \"1 Mbit\":]\n",
    "thd2.head()"
   ]
  },
  {
   "cell_type": "markdown",
   "metadata": {},
   "source": [
    "On constate qu'il y a implicitement 2 niveaux de colonnes : `Techno` et `Débit` (ce qu'il y avait dans le fichier Excel initial)."
   ]
  },
  {
   "cell_type": "code",
   "execution_count": null,
   "metadata": {
    "scrolled": false
   },
   "outputs": [],
   "source": [
    "# on crée des colonnes hiérarchiques que l'on nomme également\n",
    "thd2.columns = [[\"THD\", \"THD\", \"THD\", \"THD\", \"THD\",\n",
    "                     \"DSL\", \"DSL\", \"DSL\", \"DSL\", \"DSL\",\n",
    "                     \"Câble\", \"Câble\", \"Câble\", \"Câble\", \"Câble\",\n",
    "                     \"Fibre\", \"Fibre\", \"Fibre\", \"Fibre\", \"Fibre\"],\n",
    "                   [\"1 Mbit\", \"3 Mbit\", \"8 Mbit\", \"30 Mbit\", \"100 Mbit\",\n",
    "                   \"1 Mbit\", \"3 Mbit\", \"8 Mbit\", \"30 Mbit\", \"100 Mbit\",\n",
    "                   \"1 Mbit\", \"3 Mbit\", \"8 Mbit\", \"30 Mbit\", \"100 Mbit\",\n",
    "                   \"1 Mbit\", \"3 Mbit\", \"8 Mbit\", \"30 Mbit\", \"100 Mbit\"]]\n",
    "thd2.columns.names = [\"Techno\", \"Débit\"]  # on nomme les 2 index\"\n",
    "thd2.head()"
   ]
  },
  {
   "cell_type": "markdown",
   "metadata": {},
   "source": [
    "On retrouve la structure du fichier Excel initial avec des cellules fusionnées."
   ]
  },
  {
   "cell_type": "code",
   "execution_count": null,
   "metadata": {
    "scrolled": false
   },
   "outputs": [],
   "source": [
    "# accès à une valeur\n",
    "thd2.loc[\"01002\", (\"DSL\", \"3 Mbit\")]"
   ]
  },
  {
   "cell_type": "code",
   "execution_count": null,
   "metadata": {
    "scrolled": false
   },
   "outputs": [],
   "source": [
    "# accès à une portion de ligne\n",
    "thd2.loc[\"01002\", (\"DSL\")]  # ou thd2.loc[\"01001\", \"DSL\"]"
   ]
  },
  {
   "cell_type": "markdown",
   "metadata": {},
   "source": [
    "**Remarque** : La liste des colonnes hiérarchiques comporte des répétitions. Il aurait été possible d'utiliser les opérateurs `+` et `*` qui agissent sur les listes :"
   ]
  },
  {
   "cell_type": "code",
   "execution_count": null,
   "metadata": {
    "scrolled": false
   },
   "outputs": [],
   "source": [
    "[[\"THD\"] * 5 + [\"DSL\"] * 5 + [\"Câble\"] * 5 + [\"Fibre\"] * 5,\n",
    " [\"1 Mbit\", \"3 Mbit\", \"8 Mbit\", \"30 Mbit\", \"100 Mbit\"] * 4]"
   ]
  },
  {
   "cell_type": "markdown",
   "metadata": {},
   "source": [
    "## 9.2 Permutation de niveaux hiérarchiques\n",
    "\n",
    "Il est possible d'échanger des niveaux hiérarchiques des index ou des colonnes avec la méthode `swaplevel()` :"
   ]
  },
  {
   "cell_type": "code",
   "execution_count": null,
   "metadata": {},
   "outputs": [],
   "source": [
    "# head\n",
    "thd2.head()"
   ]
  },
  {
   "cell_type": "code",
   "execution_count": null,
   "metadata": {
    "scrolled": false
   },
   "outputs": [],
   "source": [
    "# swaplevel\n",
    "thd2.swaplevel(\"Débit\", \"Techno\", axis=1).head()"
   ]
  },
  {
   "cell_type": "markdown",
   "metadata": {},
   "source": [
    "Les niveaux sont bien inversés mais les débits identiques sont éclatés. On verra ci-après comment les rassembler."
   ]
  },
  {
   "cell_type": "markdown",
   "metadata": {},
   "source": [
    "Les méthodes `stack()` et `unstack()` permettent d'empiler les colonnes en index et de dépiler les index en colonnes."
   ]
  },
  {
   "cell_type": "code",
   "execution_count": null,
   "metadata": {
    "scrolled": false
   },
   "outputs": [],
   "source": [
    "# head\n",
    "thd2.head()"
   ]
  },
  {
   "cell_type": "markdown",
   "metadata": {},
   "source": [
    "La méthode **stack()** prend le niveau de colonne le plus bas et l'envoie au niveau d'index le plus bas."
   ]
  },
  {
   "cell_type": "code",
   "execution_count": null,
   "metadata": {
    "scrolled": false
   },
   "outputs": [],
   "source": [
    "# on déplace le niveau de colonne \"Débit\" vers les index\n",
    "thd2.stack()"
   ]
  },
  {
   "cell_type": "markdown",
   "metadata": {},
   "source": [
    "On peut répéter l'opération jusqu'à épuisement des niveaux de colonnes. A la fin on obtient un objet `Series` avec un index hiérarchique."
   ]
  },
  {
   "cell_type": "code",
   "execution_count": null,
   "metadata": {
    "scrolled": false
   },
   "outputs": [],
   "source": [
    "# on déplace les niveau de colonne \"Débit\" et \"Techno\" vers les index\n",
    "thd2.stack().stack()"
   ]
  },
  {
   "cell_type": "code",
   "execution_count": null,
   "metadata": {},
   "outputs": [],
   "source": [
    "# on peut ensuite faire un reset_index qui ramène tous les index en colonnes\n",
    "thd2.stack().stack().reset_index()"
   ]
  },
  {
   "cell_type": "markdown",
   "metadata": {},
   "source": [
    "Inversement, la méthode **unstack()** prend le niveau d'index le plus bas et l'envoie au niveau de colonne le plus bas."
   ]
  },
  {
   "cell_type": "code",
   "execution_count": null,
   "metadata": {
    "scrolled": false
   },
   "outputs": [],
   "source": [
    "# unstack\n",
    "thd2.stack().unstack()"
   ]
  },
  {
   "cell_type": "markdown",
   "metadata": {},
   "source": [
    "Il est possible de préciser le niveau que l'on souhaite empiler ou dépiler : soit en indiquant le nom de l'index ou de la colonne soit en précisant son rang."
   ]
  },
  {
   "cell_type": "markdown",
   "metadata": {},
   "source": [
    "<div class=\"alert alert-success\">\n",
    "<b>Exercice 2</b>\n",
    "<ul>\n",
    "    <li>Trouvez un moyen pour obtenir en colonne les débits rassemblés puis les technos.</li>\n",
    "</ul>"
   ]
  },
  {
   "cell_type": "markdown",
   "metadata": {},
   "source": [
    "## 9.3 Mise à plat des données\n",
    "\n",
    "La fonction `melt()` permet de passer d'un format large (nombreuses colonnes, par ex. tableau de bord pour les humains) à un format long (nombreuses lignes, par ex. table d'une base de données), en précisant :\n",
    "- le `DataFrame`\n",
    "- les colonnes d'index, qui restent inchangées\n",
    "- les colonnes de valeurs, dont les noms deviendront les valeurs d'une colonne nommée `variable` et les valeurs deviendront les valeurs d'une colonne nommée  `value`."
   ]
  },
  {
   "cell_type": "code",
   "execution_count": null,
   "metadata": {},
   "outputs": [],
   "source": [
    "# suppresion de l'index\n",
    "thd = thd.reset_index()\n",
    "thd.head()"
   ]
  },
  {
   "cell_type": "code",
   "execution_count": null,
   "metadata": {
    "scrolled": false
   },
   "outputs": [],
   "source": [
    "# utilisation de la fonction melt()\n",
    "var = pd.melt(thd,\n",
    "         id_vars=['Code INSEE', 'Département', 'Commune'],\n",
    "         value_vars=[\"1 Mbit\", \"3 Mbit\", \"8 Mbit\", \"30 Mbit\", \"100 Mbit\",\n",
    "                                \"DSL 1 Mbit\", \"DSL 3 Mbit\", \"DSL 8 Mbit\", \"DSL 30 Mbit\", \"DSL 100 Mbit\",\n",
    "                                \"Câble 1 Mbit\", \"Câble 3 Mbit\", \"Câble 8 Mbit\", \"Câble 30 Mbit\", \"Câble 100 Mbit\",\n",
    "                                \"Fibre 1 Mbit\", \"Fibre 3 Mbit\", \"Fibre 8 Mbit\", \"Fibre 30 Mbit\", \"Fibre 100 Mbit\"])\n",
    "var"
   ]
  },
  {
   "cell_type": "code",
   "execution_count": null,
   "metadata": {},
   "outputs": [],
   "source": [
    "var.sort_values(['Code INSEE', 'variable']).head(16)"
   ]
  },
  {
   "cell_type": "markdown",
   "metadata": {},
   "source": [
    "On vérifie la taille du nouveau `DataFrame`."
   ]
  },
  {
   "cell_type": "code",
   "execution_count": null,
   "metadata": {},
   "outputs": [],
   "source": [
    "# DataFrame initial\n",
    "thd.shape"
   ]
  },
  {
   "cell_type": "code",
   "execution_count": null,
   "metadata": {},
   "outputs": [],
   "source": [
    "# DataFrame final : nombre de communes x nombre de débits (20)\n",
    "thd.shape[0] * 20"
   ]
  },
  {
   "cell_type": "code",
   "execution_count": null,
   "metadata": {},
   "outputs": [],
   "source": [
    "# accès à une ligne particulière\n",
    "var.loc[(var['Commune'] == 'Toulouse') & (var['variable'] == '100 Mbit')]"
   ]
  },
  {
   "cell_type": "markdown",
   "metadata": {},
   "source": [
    "## 9.4 Fusion d'objets de type `DataFrame`"
   ]
  },
  {
   "cell_type": "markdown",
   "metadata": {},
   "source": [
    "Dans cette section nous allons fusionner le `DataFrame` des communes avec celui des données sur le haut débit. En utilisant l'index \"`Code INSEE`\" comme pivot.\n",
    "\n",
    "La fonction `merge()` permet de fusionner 2 objets de type `DataFrame` selon une colonne de chaque `DataFrame`.\n",
    "\n",
    "Il existe une option \"`how`\" pour spécifier comment s'effectue la jointure (terme utilisé dans les base de données) :\n",
    "- left (par défaut) : utilise la colonne du `DataFrame` de gauche\n",
    "- right : utilise l'index du `DataFrame` de droite\n",
    "- outer : forme l'union des index\n",
    "- inner : utilise l'intersection des index\n",
    "\n",
    "Il existe aussi les options `suffixes` pour suffixer les colonnes qui seraient dupliquées entre les 2 `DataFrames`, par défaut : `_x` et `_y`."
   ]
  },
  {
   "cell_type": "code",
   "execution_count": null,
   "metadata": {},
   "outputs": [],
   "source": [
    "# geo head\n",
    "geo = geo.reset_index()\n",
    "geo.head()"
   ]
  },
  {
   "cell_type": "code",
   "execution_count": null,
   "metadata": {},
   "outputs": [],
   "source": [
    "# thd head\n",
    "thd.head()"
   ]
  },
  {
   "cell_type": "code",
   "execution_count": null,
   "metadata": {
    "scrolled": false
   },
   "outputs": [],
   "source": [
    "alldata = pd.merge(geo, thd, on='Code INSEE', how='left')\n",
    "alldata"
   ]
  },
  {
   "cell_type": "code",
   "execution_count": null,
   "metadata": {},
   "outputs": [],
   "source": [
    "alldata[['Commune_x', 'Commune_y']]"
   ]
  },
  {
   "cell_type": "code",
   "execution_count": null,
   "metadata": {},
   "outputs": [],
   "source": [
    "# exemple avec suffixes\n",
    "alldata = pd.merge(geo, thd, on='Code INSEE', how='left', suffixes=('', '_'))\n",
    "alldata.columns"
   ]
  },
  {
   "cell_type": "markdown",
   "metadata": {},
   "source": [
    "On constate que *pandas* a suffixé les 2 colonnes \"Département\" et \"Commune\" du *DataFrame* de gauche.\n",
    "\n",
    "Il existe plusieurs autres fonctions de fusion de *DataFrame*.\n",
    "\n",
    "- méthode `join()` : jointure sur index ou colonne (équivalent à la fonction `merge()`)\n",
    "- fonction `concat()` : concaténation de `DataFrames` selon un axe\n",
    "- méthode `append()` : ajout d'un objet `Series` ou `DataFrame` (équivalent à la fonction `concat()`)\n",
    "\n",
    "Voir la documentation : http://pandas.pydata.org/pandas-docs/stable/merging.html"
   ]
  },
  {
   "cell_type": "markdown",
   "metadata": {},
   "source": [
    "<div class=\"alert alert-success\">\n",
    "<b>Exercice 3</b>\n",
    "<ul>\n",
    "    <li>Construire une table pivot avec les données allant du 1 Mbit au 100 Mbit ventilées par statut des communes.</li>\n",
    "</ul>"
   ]
  }
 ],
 "metadata": {
  "anaconda-cloud": {},
  "kernelspec": {
   "display_name": "Python 3",
   "language": "python",
   "name": "python3"
  },
  "language_info": {
   "codemirror_mode": {
    "name": "ipython",
    "version": 3
   },
   "file_extension": ".py",
   "mimetype": "text/x-python",
   "name": "python",
   "nbconvert_exporter": "python",
   "pygments_lexer": "ipython3",
   "version": "3.8.5"
  }
 },
 "nbformat": 4,
 "nbformat_minor": 1
}
