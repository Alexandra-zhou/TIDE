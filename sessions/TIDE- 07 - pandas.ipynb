{
 "cells": [
  {
   "cell_type": "markdown",
   "metadata": {},
   "source": [
    "# Master TIDE - Conférences Python 2020\n",
    "\n",
    "Francis Wolinski\n",
    "\n",
    "&copy; 2020 Yotta Conseil\n",
    "\n",
    "# 8. Méthode split-apply-combine\n",
    "\n",
    "La méthode **groupby()** permet d'agréger les données selon les valeurs identiques d'une ou plusieurs colonnes.\n",
    "\n",
    "Elle renvoie un objet de type *DataFrameGroupBy* qui peut être interprété comme un dictionnaire d'objets de type *DataFrame* dont :\n",
    "- les clefs sont les modalités des valeurs de la colonne (ou des colonnes) utilisée(s) pour éclater les données\n",
    "- et les valeurs des sous-DataFrames  du DataFrame initial.\n",
    "\n",
    "**Méthodologie** :\n",
    "- **split** : partition des données en sous-groupes\n",
    "- **apply** : application d'une fonction sur chaque groupe\n",
    "- **combine** : agrégation des résultats\n",
    "\n",
    "Voir la documentation : http://pandas.pydata.org/pandas-docs/stable/groupby.html"
   ]
  },
  {
   "cell_type": "code",
   "execution_count": null,
   "metadata": {
    "scrolled": false
   },
   "outputs": [],
   "source": [
    "# import des modules usuels\n",
    "import pandas as pd\n",
    "import numpy as np\n",
    "import matplotlib.pyplot as plt\n",
    "\n",
    "# commande magique pour l'affichage des graphiques\n",
    "%matplotlib inline\n",
    "\n",
    "# options d'affichage\n",
    "pd.set_option(\"display.max_rows\", 16)\n",
    "plt.style.use('seaborn-darkgrid')"
   ]
  },
  {
   "cell_type": "code",
   "execution_count": null,
   "metadata": {
    "scrolled": false
   },
   "outputs": [],
   "source": [
    "# chargement des données\n",
    "geo = pd.read_csv(\"correspondance-code-insee-code-postal.csv\",\n",
    "                   sep=';',\n",
    "                   usecols=range(11),\n",
    "                  index_col=\"Code INSEE\")\n",
    "geo = geo.sort_index()\n",
    "geo.head()"
   ]
  },
  {
   "cell_type": "code",
   "execution_count": null,
   "metadata": {
    "scrolled": false
   },
   "outputs": [],
   "source": [
    "# on fabrique un objet de type DataFrameGroupBy\n",
    "regions = geo.groupby(\"Région\")\n",
    "type(regions)"
   ]
  },
  {
   "cell_type": "markdown",
   "metadata": {},
   "source": [
    "Un objet *DataFrameGroupBy* peut être vu comme un dictionnaire dont :\n",
    "- les clefs sont les valeurs de la colonne utilisée pour éclater les données\n",
    "- les valeurs sont des sous-DataFrame du *DataFrame* initial (sans la colonne ayant servie à éclater les données"
   ]
  },
  {
   "cell_type": "code",
   "execution_count": null,
   "metadata": {},
   "outputs": [],
   "source": [
    "# accès au dictionnaire des groupes\n",
    "type(regions.groups)"
   ]
  },
  {
   "cell_type": "code",
   "execution_count": null,
   "metadata": {},
   "outputs": [],
   "source": [
    "# les clés sont les modalités de la colonne ayant servi à constituer les groupes\n",
    "regions.groups.keys()"
   ]
  },
  {
   "cell_type": "code",
   "execution_count": null,
   "metadata": {},
   "outputs": [],
   "source": [
    "# accès au nombre de groupes\n",
    "regions.ngroups"
   ]
  },
  {
   "cell_type": "markdown",
   "metadata": {},
   "source": [
    "La méthode **size()** permet de calculer l'effectif de chaque groupe."
   ]
  },
  {
   "cell_type": "code",
   "execution_count": null,
   "metadata": {
    "scrolled": true
   },
   "outputs": [],
   "source": [
    "# effectifs des groupes\n",
    "geo.groupby(\"Région\").size()"
   ]
  },
  {
   "cell_type": "markdown",
   "metadata": {},
   "source": [
    "On vérifie que la somme des effectifs vaut le nombre total de communes."
   ]
  },
  {
   "cell_type": "code",
   "execution_count": null,
   "metadata": {
    "scrolled": true
   },
   "outputs": [],
   "source": [
    "# somme des effectifs\n",
    "geo.groupby(\"Région\").size().sum() == len(geo)"
   ]
  },
  {
   "cell_type": "markdown",
   "metadata": {},
   "source": [
    "La méthode **describe()** fournit les informations statistiques sur les différents sous-groupes."
   ]
  },
  {
   "cell_type": "code",
   "execution_count": null,
   "metadata": {},
   "outputs": [],
   "source": [
    "# DataFrame\n",
    "geo.describe()"
   ]
  },
  {
   "cell_type": "code",
   "execution_count": null,
   "metadata": {
    "scrolled": false
   },
   "outputs": [],
   "source": [
    "# describe par groupe\n",
    "geo.groupby(\"Région\").describe()"
   ]
  },
  {
   "cell_type": "markdown",
   "metadata": {},
   "source": [
    "La méthode **get_group()** permet d'obtenir le sous-*DataFrame* correspondant au groupe."
   ]
  },
  {
   "cell_type": "code",
   "execution_count": null,
   "metadata": {
    "scrolled": false
   },
   "outputs": [],
   "source": [
    "# accès à un groupe\n",
    "geo.groupby(\"Région\").get_group(\"CORSE\").head()"
   ]
  },
  {
   "cell_type": "markdown",
   "metadata": {},
   "source": [
    "<div class=\"alert alert-success\">\n",
    "<b>Exercice 1</b>\n",
    "<ul>\n",
    "    <li>Obtenir le groupe régional avec le plus petit effectif.</li>\n",
    "</ul>\n",
    "</div>"
   ]
  },
  {
   "cell_type": "markdown",
   "metadata": {},
   "source": [
    "La méthode **aggregate()** ou bien **agg()** permet d'agréger toutes les valeurs par regroupement en passant une ou plusieurs fonctions de calcul qui peuvent être organisées dans une liste ou dans un dictionnaire."
   ]
  },
  {
   "cell_type": "code",
   "execution_count": null,
   "metadata": {
    "scrolled": false
   },
   "outputs": [],
   "source": [
    "# somme de toutes les valeurs numériques agrégées\n",
    "geo.groupby(\"Région\").agg(np.mean)"
   ]
  },
  {
   "cell_type": "code",
   "execution_count": null,
   "metadata": {
    "scrolled": false
   },
   "outputs": [],
   "source": [
    "# moyenne et écart type de toutes les valeurs agrégées\n",
    "geo.groupby(\"Région\").agg([np.mean, np.std])"
   ]
  },
  {
   "cell_type": "code",
   "execution_count": null,
   "metadata": {
    "scrolled": false
   },
   "outputs": [],
   "source": [
    "# moyenne et écart type de toutes les valeurs agrégées\n",
    "geo.groupby(\"Région\").agg({'Altitude Moyenne': 'mean', 'Superficie': 'sum', 'Population': 'sum'})"
   ]
  },
  {
   "cell_type": "markdown",
   "metadata": {},
   "source": [
    "La méthode **apply()** applique la fonction spécifiée à chacun des groupes d'un objet *DataFrameGroupBy* et combine l'ensemble en un nouveau *DataFrame*."
   ]
  },
  {
   "cell_type": "code",
   "execution_count": null,
   "metadata": {
    "scrolled": false
   },
   "outputs": [],
   "source": [
    "# population de la plus grande ville par région\n",
    "var = geo.groupby(\"Région\").apply(lambda x: x['Population'].nlargest(1))\n",
    "var"
   ]
  },
  {
   "cell_type": "markdown",
   "metadata": {},
   "source": [
    "<div class=\"alert alert-success\">\n",
    "<b>Exercice 2</b>\n",
    "<ul>\n",
    "    <li>Etablir une fonction qui calcule le top 3 des villes les plus habitées d'une région.</li>\n",
    "    <li>Utiliser la fonction pour limiter le <code>DataFrame</code> geo aux villes qui sont top 10 dans chaque région.</li>\n",
    "    <li>Idem en sélectionnant un Statut particulier.</li>\n",
    "</ul>"
   ]
  },
  {
   "cell_type": "markdown",
   "metadata": {},
   "source": [
    "Il est possible de grouper selon plusieurs colonnes."
   ]
  },
  {
   "cell_type": "code",
   "execution_count": null,
   "metadata": {
    "scrolled": false
   },
   "outputs": [],
   "source": [
    "# groupes multiples\n",
    "geo.groupby([\"Région\", \"Département\"]).describe()"
   ]
  },
  {
   "cell_type": "markdown",
   "metadata": {},
   "source": [
    "Il est possible d'utiliser la fonction `agg()` ou `aggregate()` sur une ou plusieurs colonnes en passant un dictionnaire de fonctions. On obtient alors un `DataFrame` avec les résultats ventilés par groupe et par colonne / clés de fonction."
   ]
  },
  {
   "cell_type": "code",
   "execution_count": null,
   "metadata": {
    "scrolled": false
   },
   "outputs": [],
   "source": [
    "# synthèses différenciées sur plusieurs colonnes\n",
    "regions.agg({\"Superficie\": np.sum, \"Population\": np.sum, \"Altitude Moyenne\": np.mean})"
   ]
  },
  {
   "cell_type": "markdown",
   "metadata": {},
   "source": [
    "Il est également possible d'effectuer des regroupements selon des catégories numériques obtenues avec la fonction `digitize()` qui retourne pour chaque élément l'indice du segment (entre  et n)."
   ]
  },
  {
   "cell_type": "code",
   "execution_count": null,
   "metadata": {},
   "outputs": [],
   "source": [
    "thd = pd.read_excel(\"FranceTHD_Open_Data_Observatoire_Juin2015.xlsx\",\n",
    "                    sheet_name=\"Communes\",\n",
    "                    header=1,\n",
    "                    index_col=\"Code INSEE\",\n",
    "                    names=[\"Département\", \"Code INSEE\", \"Commune\",\n",
    "                                \"1 Mbit\", \"3 Mbit\", \"8 Mbit\", \"30 Mbit\", \"100 Mbit\",\n",
    "                                \"DSL 1 Mbit\", \"DSL 3 Mbit\", \"DSL 8 Mbit\", \"DSL 30 Mbit\", \"DSL 100 Mbit\",\n",
    "                                \"Câble 1 Mbit\", \"Câble 3 Mbit\", \"Câble 8 Mbit\", \"Câble 30 Mbit\", \"Câble 100 Mbit\",\n",
    "                                \"Fibre 1 Mbit\", \"Fibre 3 Mbit\", \"Fibre 8 Mbit\", \"Fibre 30 Mbit\", \"Fibre 100 Mbit\"])\n",
    "thd.head()"
   ]
  },
  {
   "cell_type": "code",
   "execution_count": null,
   "metadata": {
    "scrolled": false
   },
   "outputs": [],
   "source": [
    "# partition de [0,1] en 5 segments\n",
    "bins = np.linspace(0, 1, 5)\n",
    "bins"
   ]
  },
  {
   "cell_type": "code",
   "execution_count": null,
   "metadata": {
    "scrolled": false
   },
   "outputs": [],
   "source": [
    "# catégorisation de la colonne \"1 Mbit\" selon la partition donnée\n",
    "cat = np.digitize(thd[\"1 Mbit\"], bins)\n",
    "cat"
   ]
  },
  {
   "cell_type": "markdown",
   "metadata": {},
   "source": [
    "Par défaut, il s'agit d'une partition semi-ouverte à droite (*right=False*) :\n",
    "- [0, 0.25[\n",
    "- [0.25, 0.5[\n",
    "- [0.5, 0.75[\n",
    "- [0.75, 1.0[\n",
    "- [1.0, 1.0]"
   ]
  },
  {
   "cell_type": "code",
   "execution_count": null,
   "metadata": {
    "scrolled": false
   },
   "outputs": [],
   "source": [
    "# regroupement selon la partition et calcul de la moyenne des valeurs des groupes\n",
    "thd.groupby(cat).mean()"
   ]
  },
  {
   "cell_type": "code",
   "execution_count": null,
   "metadata": {
    "scrolled": false
   },
   "outputs": [],
   "source": [
    "# regroupement selon la partition et calcul de la moyenne et l'écart-type des valeurs des groupes\n",
    "thd.groupby(cat).agg(['mean', 'std'])"
   ]
  }
 ],
 "metadata": {
  "anaconda-cloud": {},
  "kernelspec": {
   "display_name": "Python 3",
   "language": "python",
   "name": "python3"
  },
  "language_info": {
   "codemirror_mode": {
    "name": "ipython",
    "version": 3
   },
   "file_extension": ".py",
   "mimetype": "text/x-python",
   "name": "python",
   "nbconvert_exporter": "python",
   "pygments_lexer": "ipython3",
   "version": "3.8.5"
  }
 },
 "nbformat": 4,
 "nbformat_minor": 1
}
