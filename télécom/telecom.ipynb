{
 "cells": [
  {
   "cell_type": "markdown",
   "metadata": {},
   "source": [
    "# Manipulation de données en Python\n",
    "\n",
    "Nous allons découvrir les capacités de la librairie pandas de Python en chargeant et en manipulant des données sur le très haut débit ainsi que des données géographiques générales de France."
   ]
  },
  {
   "cell_type": "code",
   "execution_count": null,
   "metadata": {
    "collapsed": true
   },
   "outputs": [],
   "source": [
    "# imports\n",
    "import pandas as pnd\n",
    "import numpy as np\n",
    "import matplotlib.pyplot as plt\n",
    "\n",
    "# commande magique pour l'affichage des graphiques\n",
    "%matplotlib inline\n",
    "\n",
    "# options d'affichage\n",
    "from pandas import set_option\n",
    "set_option(\"display.max_rows\", 16)\n",
    "plt.style.use('seaborn-notebook')"
   ]
  },
  {
   "cell_type": "markdown",
   "metadata": {},
   "source": [
    "## Chargement des données\n",
    "\n",
    "### Données débits internet\n",
    "Il s'agit des données de couverture sur le très haut débit en France par commune, par technologie (ADSL, câble et fibre optique FttH) et par débit (éligible / 3 / 8 / 30 / 100 Mbit/s).\n",
    "\n",
    "Les données open data proviennent du portail gouvernemental de la Mission Très Haut Débit accessible à l'adresse http://francethd.fr"
   ]
  },
  {
   "cell_type": "code",
   "execution_count": null,
   "metadata": {
    "collapsed": false
   },
   "outputs": [],
   "source": [
    "thd = pnd.read_excel(\"FranceTHD_Open_Data_Observatoire_Juin2015.xlsx\",\n",
    "                            sheetname=\"Communes\",\n",
    "                            index_col=\"Code INSEE\",\n",
    "                            header=1,\n",
    "                            names=[\"Département\", \"Commune\",\n",
    "                            \"1 Mbit\", \"3 Mbit\", \"8 Mbit\", \"30 Mbit\", \"100 Mbit\",\n",
    "                            \"DSL 1 Mbit\", \"DSL 3 Mbit\", \"DSL 8 Mbit\", \"DSL 30 Mbit\", \"DSL 100 Mbit\",\n",
    "                            \"Câble 1 Mbit\", \"Câble 3 Mbit\", \"Câble 8 Mbit\", \"Câble 30 Mbit\", \"Câble 100 Mbit\",\n",
    "                            \"Fibre 1 Mbit\", \"Fibre 3 Mbit\", \"Fibre 8 Mbit\", \"Fibre 30 Mbit\", \"Fibre 100 Mbit\"])\n",
    "thd"
   ]
  },
  {
   "cell_type": "markdown",
   "metadata": {},
   "source": [
    "### Données INSEE"
   ]
  },
  {
   "cell_type": "code",
   "execution_count": null,
   "metadata": {
    "collapsed": false
   },
   "outputs": [],
   "source": [
    "geo = pnd.read_csv(\"correspondance-code-insee-code-postal.csv\",\n",
    "                          sep=';',\n",
    "                          usecols=[0, 1, 2, 3, 4, 5, 6, 7, 8, 9],\n",
    "                          index_col=\"Code INSEE\")\n",
    "geo"
   ]
  },
  {
   "cell_type": "code",
   "execution_count": null,
   "metadata": {
    "collapsed": false
   },
   "outputs": [],
   "source": [
    "# décompte des statuts des communes\n",
    "geo[\"Statut\"].value_counts()"
   ]
  },
  {
   "cell_type": "code",
   "execution_count": null,
   "metadata": {
    "collapsed": false
   },
   "outputs": [],
   "source": [
    "# décompte des noms de commune les plus fréquents\n",
    "thd[\"Commune\"].value_counts().head(10)"
   ]
  },
  {
   "cell_type": "code",
   "execution_count": null,
   "metadata": {
    "collapsed": false
   },
   "outputs": [],
   "source": [
    "# débits toutes technos des communes dénommées \"Sainte-Colombe\"\n",
    "thd[thd[\"Commune\"] == \"Sainte-Colombe\"]"
   ]
  },
  {
   "cell_type": "code",
   "execution_count": null,
   "metadata": {
    "collapsed": false
   },
   "outputs": [],
   "source": [
    "thd.info()"
   ]
  },
  {
   "cell_type": "markdown",
   "metadata": {},
   "source": [
    "## Test sur les données"
   ]
  },
  {
   "cell_type": "code",
   "execution_count": null,
   "metadata": {
    "collapsed": false
   },
   "outputs": [],
   "source": [
    "# on vérifie que dans chaque technologie le % est supérieur ou égal au débit supérieur \n",
    "for i in range(2, len(thd.columns), 5):\n",
    "    for j in range(i, i + 4):\n",
    "        test = (thd.iloc[:, j] >= thd.iloc[:, j + 1]).all()\n",
    "        print(thd.columns[j], \">=\", thd.columns[j + 1], \":\", test)"
   ]
  },
  {
   "cell_type": "code",
   "execution_count": null,
   "metadata": {
    "collapsed": false
   },
   "outputs": [],
   "source": [
    "# on vérifie que que le % global est supérieur ou égal au % dans chaque technologie à débit identique \n",
    "for i in range(2, 7):\n",
    "    for j in range(i + 5, len(thd.columns), 5):\n",
    "        test = (thd.iloc[:, i] >= thd.iloc[:, j]).all()\n",
    "        print(thd.columns[i], \">=\", thd.columns[j], \":\", test)"
   ]
  },
  {
   "cell_type": "markdown",
   "metadata": {},
   "source": [
    "## Correction des données"
   ]
  },
  {
   "cell_type": "code",
   "execution_count": null,
   "metadata": {
    "collapsed": false
   },
   "outputs": [],
   "source": [
    "# correction des données\n",
    "# cette instruction considère implicitement que les données de la colonne \"Commune\" sont des chaines de caractères renvoie une erreur\n",
    "thd[thd[\"Commune\"].str.startswith(\"Saint\")]"
   ]
  },
  {
   "cell_type": "code",
   "execution_count": null,
   "metadata": {
    "collapsed": false
   },
   "outputs": [],
   "source": [
    "# cette instruction est correcte\n",
    "thd[\"Commune\"].str.startswith(\"Saint\")"
   ]
  },
  {
   "cell_type": "code",
   "execution_count": null,
   "metadata": {
    "collapsed": false
   },
   "outputs": [],
   "source": [
    "# décompte des valeurs y compris NaN\n",
    "(thd[\"Commune\"].str.startswith(\"Saint\")).value_counts(dropna=False)"
   ]
  },
  {
   "cell_type": "code",
   "execution_count": null,
   "metadata": {
    "collapsed": false
   },
   "outputs": [],
   "source": [
    "# quelles sont les valeurs Nan\n",
    "thd[thd[\"Commune\"].str.startswith(\"Saint\").isnull()]"
   ]
  },
  {
   "cell_type": "code",
   "execution_count": null,
   "metadata": {
    "collapsed": true
   },
   "outputs": [],
   "source": [
    "# Ouvrir le fichier Excel"
   ]
  },
  {
   "cell_type": "code",
   "execution_count": null,
   "metadata": {
    "collapsed": false
   },
   "outputs": [],
   "source": [
    "# correction des données\n",
    "thd.loc[\"08165\", \"Commune\"] = \"FAUX\"\n",
    "thd.loc[\"24177\", \"Commune\"] = \"FAUX\"\n",
    "thd.loc[[\"08165\", \"24177\"]]"
   ]
  },
  {
   "cell_type": "code",
   "execution_count": null,
   "metadata": {
    "collapsed": false
   },
   "outputs": [],
   "source": [
    "thd[thd[\"Commune\"].str.startswith(\"Saint\")]"
   ]
  },
  {
   "cell_type": "markdown",
   "metadata": {},
   "source": [
    "## Conversion de type"
   ]
  },
  {
   "cell_type": "code",
   "execution_count": null,
   "metadata": {
    "collapsed": false
   },
   "outputs": [],
   "source": [
    "# conversion de la colonne Statut en catégorie\n",
    "geo[\"Statut\"] = geo[\"Statut\"].astype('category',\n",
    "                                     categories=[\"Commune simple\", \"Chef-lieu canton\", \"Sous-préfecture\",\n",
    "                                                \"Préfecture\", \"Préfecture de région\", \"Capitale d'état\"],\n",
    "                                     ordered=True)\n",
    "geo.info()"
   ]
  },
  {
   "cell_type": "markdown",
   "metadata": {},
   "source": [
    "## Ajout de données"
   ]
  },
  {
   "cell_type": "code",
   "execution_count": null,
   "metadata": {
    "collapsed": false
   },
   "outputs": [],
   "source": [
    "# on ajoute la colonne \"CP Ville\"\n",
    "geo[\"CP Ville\"] = geo[\"Code Postal\"] + \" \" + geo[\"Commune\"]  # ou bien geo[\"CP Ville\"] = geo[\"Code Postal\"].str.cat(geo[\"Commune\"], sep=' ')\n",
    "geo.head()"
   ]
  },
  {
   "cell_type": "code",
   "execution_count": null,
   "metadata": {
    "collapsed": false
   },
   "outputs": [],
   "source": [
    "# la colonne \"geo_point_2d\" est constituée de chaînes de caractères\n",
    "geo[\"geo_point_2d\"]"
   ]
  },
  {
   "cell_type": "code",
   "execution_count": null,
   "metadata": {
    "collapsed": false
   },
   "outputs": [],
   "source": [
    "# application de la méthode split()\n",
    "x = geo.loc[\"31080\", \"geo_point_2d\"].split(', ')\n",
    "x"
   ]
  },
  {
   "cell_type": "code",
   "execution_count": null,
   "metadata": {
    "collapsed": false
   },
   "outputs": [],
   "source": [
    "# on calcule  la latitude et la longitude et on ajoute les colones\n",
    "geo[\"Latitude\"] = geo[\"geo_point_2d\"].apply(lambda x: float(x.split(', ')[0]))\n",
    "geo[\"Longitude\"] = geo[\"geo_point_2d\"].apply(lambda x: float(x.split(', ')[1]))\n",
    "geo.head()"
   ]
  },
  {
   "cell_type": "markdown",
   "metadata": {},
   "source": [
    "## Recherche dans les données"
   ]
  },
  {
   "cell_type": "code",
   "execution_count": null,
   "metadata": {
    "collapsed": true
   },
   "outputs": [],
   "source": [
    "# fonction recherche de ville\n",
    "def ville(latitude, longitude):\n",
    "    ecart_latitude = geo[\"Latitude\"] - latitude\n",
    "    ecart_longitude = geo[\"Longitude\"] - longitude\n",
    "    dist = ecart_latitude.combine(ecart_longitude, lambda x, y: x * x + y * y)\n",
    "    return geo[\"CP Ville\"].loc[dist.idxmin()]"
   ]
  },
  {
   "cell_type": "code",
   "execution_count": null,
   "metadata": {
    "collapsed": false
   },
   "outputs": [],
   "source": [
    "# on applique la fonction à une coordonnée tirée au hasard\n",
    "a, b = 41.5, 51.1  # latitude min et max de la France métropolitaine\n",
    "latitude = (b - a) * np.random.random_sample() + a\n",
    "a, b = -5.1, 9.5  # longitude min et max de la France métropolitaine\n",
    "longitude = (b - a) * np.random.random_sample() + a\n",
    "print(latitude, longitude)\n",
    "ville(latitude, longitude)"
   ]
  },
  {
   "cell_type": "code",
   "execution_count": null,
   "metadata": {
    "collapsed": true
   },
   "outputs": [],
   "source": [
    "# conversion degrés,minutes,secondes => décimal\n",
    "def dms2dec(d, m, s):\n",
    "    return d + (m / 60) + (s / 3600)"
   ]
  },
  {
   "cell_type": "code",
   "execution_count": null,
   "metadata": {
    "collapsed": false
   },
   "outputs": [],
   "source": [
    "# à partir de coordonnées GPS précises\n",
    "ville(dms2dec(48, 50, 0),dms2dec(2, 15, 0))"
   ]
  },
  {
   "cell_type": "markdown",
   "metadata": {},
   "source": [
    "## Visualisation"
   ]
  },
  {
   "cell_type": "code",
   "execution_count": null,
   "metadata": {
    "collapsed": false
   },
   "outputs": [],
   "source": [
    "## scatter plot\n",
    "geo.plot(kind='scatter', x=\"Longitude\", y=\"Latitude\");"
   ]
  },
  {
   "cell_type": "code",
   "execution_count": null,
   "metadata": {
    "collapsed": false
   },
   "outputs": [],
   "source": [
    "# condition pour n'afficher que la France métropolitaine\n",
    "# avec la latitude\n",
    "metro = geo[geo[\"Latitude\"] > 40]\n",
    "# avec la longitude\n",
    "# metro = geo[np.abs(geo[\"Longitude\"]) < 10]\n",
    "# avec le code postal\n",
    "# metro = geo[geo[\"Code Postal\"] < \"96000\"]\n",
    "metro.plot(kind='scatter', x=\"Longitude\", y=\"Latitude\", title=\"Projection de Mercator\");"
   ]
  },
  {
   "cell_type": "markdown",
   "metadata": {},
   "source": [
    "Les cartes sont déformées car la projection cartésienne d'une sphère à tendance à élargir les distances horizontales (longitudinales) qui sont éloignées de l'équateur (à latitude élevée).\n",
    "\n",
    "On peut corriger le problème en affichant les valeurs en km et non plus en degrés. Le rayon équatorial vaut $R_{équatorial} = 6378,137  km$ et le rayon polaire vaut $R_{polaire} = 6356,752  km$.\n",
    "\n",
    "La distance entre 2 points sur l'équateur et séparés par un angle longitudinal $\\lambda$ vaut $\\lambda \\times R_{équatorial}$ où $\\lambda$ est exprimé en radiants ($360° = 2 \\times \\pi$).\n",
    "\n",
    "La distance entre 2 points sur un même parallèle de latitude $\\phi$ et séparés par un angle longitudinal $\\lambda$ vaut $\\lambda \\times R_{équatorial} \\times \\cos(\\phi)$.\n",
    "\n",
    "La distance entre 2 points sur un même méridien et séparés par un angle latitudinal $\\phi$ vaut $\\phi \\times R_{polaire}$.\n",
    "\n",
    "\n",
    "On utilise la fonction de conversion des degrés en radiants *np.deg2rad()*.\n",
    "\n",
    "N.B. : Cette méthode demeure une approximation due à la forme non sphérique de la Terre."
   ]
  },
  {
   "cell_type": "code",
   "execution_count": null,
   "metadata": {
    "collapsed": false
   },
   "outputs": [],
   "source": [
    "# données terrestres\n",
    "rayon_equatorial = 6378.137\n",
    "rayon_polaire = 6356.752\n",
    "\n",
    "# conversions\n",
    "latitude = np.deg2rad(metro[\"Latitude\"])\n",
    "longitude = np.deg2rad(metro[\"Longitude\"])\n",
    "\n",
    "# on crée une figure 1 x 2\n",
    "fig = plt.figure(figsize=(15, 5))\n",
    "\n",
    "ax1 = fig.add_subplot(121)\n",
    "ax1.scatter(metro[\"Longitude\"], metro[\"Latitude\"])\n",
    "ax1.set_title(\"Projection de Mercator\")\n",
    "\n",
    "ax2 = fig.add_subplot(122)\n",
    "ax2.scatter(longitude * rayon_equatorial * np.cos(latitude), latitude * rayon_polaire)\n",
    "ax2.set_title(\"Projection cylindrique équidistante\");"
   ]
  },
  {
   "cell_type": "markdown",
   "metadata": {},
   "source": [
    "## Jointure entre DataFrame"
   ]
  },
  {
   "cell_type": "code",
   "execution_count": null,
   "metadata": {
    "collapsed": false
   },
   "outputs": [],
   "source": [
    "# jointure\n",
    "alldata = thd.join(geo, lsuffix=\"_\")\n",
    "alldata"
   ]
  },
  {
   "cell_type": "code",
   "execution_count": null,
   "metadata": {
    "collapsed": false
   },
   "outputs": [],
   "source": [
    "# on pivote sur les valeurs de la colonne \"Statut\"\n",
    "pnd.pivot_table(alldata, values=[\"1 Mbit\", \"3 Mbit\", \"8 Mbit\", \"30 Mbit\", \"100 Mbit\"], columns=[\"Statut\"])"
   ]
  },
  {
   "cell_type": "code",
   "execution_count": null,
   "metadata": {
    "collapsed": false
   },
   "outputs": [],
   "source": [
    "# colonnes suplémentaires avec les 4 scores\n",
    "alldata[\"Score THD\"] = alldata.loc[:, \"1 Mbit\":\"100 Mbit\"].mean(axis=1)\n",
    "alldata[\"Score DSL\"] = alldata.loc[:, \"DSL 1 Mbit\":\"DSL 100 Mbit\"].mean(axis=1)\n",
    "alldata[\"Score Câble\"] = alldata.loc[:, \"Câble 1 Mbit\":\"Câble 100 Mbit\"].mean(axis=1)\n",
    "alldata[\"Score Fibre\"] = alldata.loc[:, \"Fibre 1 Mbit\":\"Fibre 100 Mbit\"].mean(axis=1)\n",
    "alldata.head()"
   ]
  },
  {
   "cell_type": "code",
   "execution_count": null,
   "metadata": {
    "collapsed": true
   },
   "outputs": [],
   "source": [
    "# on crée une figure 2 x 2\n",
    "def display(selection):\n",
    "    fig = plt.figure(figsize=(14, 12))\n",
    "    ax1 = fig.add_subplot(221)\n",
    "    sel=selection.sort_values(by=\"Score THD\")\n",
    "    ax1.scatter(x=sel[\"Longitude\"],\n",
    "                y=sel[\"Latitude\"],\n",
    "                c=1 - sel[\"Score THD\"],\n",
    "                cmap=plt.cm.Spectral,\n",
    "                edgecolors='none')\n",
    "    ax1.set_title(\"Toutes technos\")\n",
    "    ax2 = fig.add_subplot(222)\n",
    "    sel=selection.sort_values(by=\"Score DSL\")\n",
    "    ax2.scatter(x=sel[\"Longitude\"],\n",
    "                y=sel[\"Latitude\"],\n",
    "                c=1 - sel[\"Score DSL\"],\n",
    "                cmap=plt.cm.Spectral,\n",
    "                edgecolors='none')\n",
    "    ax2.set_title(\"DSL\")\n",
    "    ax3 = fig.add_subplot(223)\n",
    "    sel=selection.sort_values(by=\"Score Câble\")\n",
    "    ax3.scatter(x=sel[\"Longitude\"],\n",
    "                y=sel[\"Latitude\"],\n",
    "                c=1 - sel[\"Score Câble\"],\n",
    "                cmap=plt.cm.Spectral,\n",
    "                edgecolors='none')\n",
    "    ax3.set_title(\"Câble\")\n",
    "    ax4 = fig.add_subplot(224)\n",
    "    sel=selection.sort_values(by=\"Score Fibre\")\n",
    "    ax4.scatter(x=sel[\"Longitude\"],\n",
    "                y=sel[\"Latitude\"],\n",
    "                c=1 - sel[\"Score Fibre\"],\n",
    "                cmap=plt.cm.Spectral,\n",
    "                edgecolors='none');\n",
    "    ax4.set_title(\"Fibre\")"
   ]
  },
  {
   "cell_type": "code",
   "execution_count": null,
   "metadata": {
    "collapsed": false
   },
   "outputs": [],
   "source": [
    "display(alldata[alldata[\"Latitude\"]>40])"
   ]
  },
  {
   "cell_type": "markdown",
   "metadata": {},
   "source": [
    "## Transformation des données"
   ]
  },
  {
   "cell_type": "code",
   "execution_count": null,
   "metadata": {
    "collapsed": false
   },
   "outputs": [],
   "source": [
    "thd.head()"
   ]
  },
  {
   "cell_type": "code",
   "execution_count": null,
   "metadata": {
    "collapsed": false
   },
   "outputs": [],
   "source": [
    "thd.reset_index(inplace=True)\n",
    "thd.set_index([\"Code INSEE\", \"Département\", \"Commune\"], inplace=True)\n",
    "thd.head()"
   ]
  },
  {
   "cell_type": "code",
   "execution_count": null,
   "metadata": {
    "collapsed": false
   },
   "outputs": [],
   "source": [
    "# on crée des colonnes hiérarchiques que l'on nomme également\n",
    "thd.columns = [[\"Tout\"] * 5 + [\"DSL\"] * 5 + [\"Câble\"] * 5 + [\"Fibre\"] * 5,\n",
    " [\"1 Mbit\", \"3 Mbit\", \"8 Mbit\", \"30 Mbit\", \"100 Mbit\"] * 4]\n",
    "thd.columns.names = [\"Techno\", \"Débit\"]  # on nomme les 2 index\"\n",
    "thd.head()"
   ]
  },
  {
   "cell_type": "code",
   "execution_count": null,
   "metadata": {
    "collapsed": false
   },
   "outputs": [],
   "source": [
    "thd[('DSL', '3 Mbit')]"
   ]
  },
  {
   "cell_type": "code",
   "execution_count": null,
   "metadata": {
    "collapsed": false
   },
   "outputs": [],
   "source": [
    "# la méthode stack() fait passer le niveau de colonne le plus bas vers le niveau d'index le plus bas\n",
    "var = thd.stack()\n",
    "var"
   ]
  },
  {
   "cell_type": "code",
   "execution_count": null,
   "metadata": {
    "collapsed": false
   },
   "outputs": [],
   "source": [
    "# la méthode stack() fait passer le niveau de colonne le plus bas vers le niveau d'index le plus bas\n",
    "var = thd.stack().stack()\n",
    "var"
   ]
  },
  {
   "cell_type": "code",
   "execution_count": null,
   "metadata": {
    "collapsed": false
   },
   "outputs": [],
   "source": [
    "data = thd.stack().stack().reset_index()\n",
    "data.columns=[\"Code INSEE\", \"Département\", \"Commune\", \"Techno\", \"Débit\", \"Valeur\"]\n",
    "data"
   ]
  },
  {
   "cell_type": "markdown",
   "metadata": {},
   "source": [
    "### Données technos mobiles"
   ]
  },
  {
   "cell_type": "code",
   "execution_count": null,
   "metadata": {
    "collapsed": false
   },
   "outputs": [],
   "source": [
    "mob = pnd.read_csv(\"couverture-2g-3g-4g-en-france-par-operateur-juillet-2015.csv\", sep=\";\")\n",
    "mob.head()"
   ]
  },
  {
   "cell_type": "code",
   "execution_count": null,
   "metadata": {
    "collapsed": false
   },
   "outputs": [],
   "source": [
    "new_index = list(mob.columns.values[0:6]) + [mob.columns.values[-1]]\n",
    "mob2 = mob.set_index(new_index)\n",
    "mob2.head()"
   ]
  },
  {
   "cell_type": "code",
   "execution_count": null,
   "metadata": {
    "collapsed": false
   },
   "outputs": [],
   "source": [
    "mob2.columns = [[\"Population\"] * 15 + [\"Surfacique\"] * 15,\n",
    "                   [\"4G\"] * 5 + [\"3G\"] * 5 + [\"2G\"] * 5 + [\"4G\"] * 5 + [\"3G\"] * 5 + [\"2G\"] * 5,\n",
    "                    [\"Orange\", \"Bouygues\", \"SFR\", \"Free\", \"Opérateur\"] * 6] \n",
    "mob2.columns.names = [\"Type\", \"Techno\", \"Opérateur\"]\n",
    "mob2.head()"
   ]
  },
  {
   "cell_type": "code",
   "execution_count": null,
   "metadata": {
    "collapsed": false
   },
   "outputs": [],
   "source": [
    "# noms des colonnes hiérarchiques\n",
    "current_columns = mob2.columns.names\n",
    "# noms des colonnes de la table finale\n",
    "new_columns = mob2.index.names + current_columns + [\"Value\"]\n",
    "# empilement des colonnes hiérarchiques vers l'index puis annulation de l'index\n",
    "mob2 = mob2.stack(current_columns).reset_index()\n",
    "mob2.columns = new_columns\n",
    "mob2.head()"
   ]
  },
  {
   "cell_type": "code",
   "execution_count": null,
   "metadata": {
    "collapsed": false
   },
   "outputs": [],
   "source": [
    "mob2[(mob2[\"NOM COMMUNE\"] == \"ROUEN\") & (mob2[\"Techno\"] == \"4G\") & (mob2[\"Opérateur\"] == \"Orange\")]"
   ]
  },
  {
   "cell_type": "code",
   "execution_count": null,
   "metadata": {
    "collapsed": false
   },
   "outputs": [],
   "source": [
    "mob2[(mob2[\"NOM COMMUNE\"] == \"ROUEN\") & (mob2[\"Techno\"] == \"4G\") & (mob2[\"Type\"] == \"Population\")]"
   ]
  },
  {
   "cell_type": "markdown",
   "metadata": {},
   "source": [
    "## Affichage des données"
   ]
  },
  {
   "cell_type": "code",
   "execution_count": null,
   "metadata": {
    "collapsed": false
   },
   "outputs": [],
   "source": [
    "# on calcule  la latitude et la longitude et on ajoute les colones\n",
    "mob[\"Latitude\"] = mob[\"coordonnees\"].apply(lambda x: float(x.split(', ')[0]))\n",
    "mob[\"Longitude\"] = mob[\"coordonnees\"].apply(lambda x: float(x.split(', ')[1]))\n",
    "mob.head()"
   ]
  },
  {
   "cell_type": "code",
   "execution_count": null,
   "metadata": {
    "collapsed": true
   },
   "outputs": [],
   "source": [
    "# recherche du meilleur opérateur 4G\n",
    "def best_4G(row):\n",
    "    m = row[\"Orange France Couverture surfacique 4G\":\"Free Mobile Couverture surfacique 4G\"].max()\n",
    "    # 0 pas de couverture, 1 = Orange, 2 = Bouygues, 3 = SFR, 4 = Free\n",
    "    if m == 0.0:\n",
    "        return 0\n",
    "    elif row[\"Orange France Couverture surfacique 4G\"] == m:\n",
    "        return 1\n",
    "    elif row[\"Bouygues Telecom Couverture surfacique 4G\"] == m:\n",
    "        return 2\n",
    "    elif row[\"SFR Couverture surfacique 4G\"] == m:\n",
    "        return 3\n",
    "    else:\n",
    "        return 4"
   ]
  },
  {
   "cell_type": "code",
   "execution_count": null,
   "metadata": {
    "collapsed": false
   },
   "outputs": [],
   "source": [
    "mob.apply(best_4G, axis=1).value_counts()"
   ]
  },
  {
   "cell_type": "code",
   "execution_count": null,
   "metadata": {
    "collapsed": false
   },
   "outputs": [],
   "source": [
    "mob[\"Best 4G\"] = mob.apply(best_4G, axis=1)\n",
    "mob.head()"
   ]
  },
  {
   "cell_type": "code",
   "execution_count": null,
   "metadata": {
    "collapsed": false
   },
   "outputs": [],
   "source": [
    "var = mob.sort_values(by=\"Best 4G\")  # la carte dépend fortement de l'ordre d'affichage\n",
    "colors = ['w', 'y', 'r', 'c', 'k']  # White, Yellow, Red, Cyan, Black\n",
    "plt.scatter(x=var[\"Longitude\"],\n",
    "    y=var[\"Latitude\"],\n",
    "    c=var[\"Best 4G\"].apply(lambda x: colors[x]),\n",
    "    edgecolors='none');"
   ]
  },
  {
   "cell_type": "code",
   "execution_count": null,
   "metadata": {
    "collapsed": false
   },
   "outputs": [],
   "source": [
    "var = mob[mob[\"Best 4G\"] != 0]\n",
    "var = var.sort_values(by=\"Best 4G\", ascending=False)  # la carte dépend fortement de l'ordre d'affichage\n",
    "colors = ['w', 'y', 'r', 'c', 'k']  # White, Yellow, Red, Cyan, Black\n",
    "plt.scatter(x=var[\"Longitude\"],\n",
    "    y=var[\"Latitude\"],\n",
    "    c=var[\"Best 4G\"].apply(lambda x: colors[x]),\n",
    "    edgecolors='none');"
   ]
  },
  {
   "cell_type": "code",
   "execution_count": null,
   "metadata": {
    "collapsed": true
   },
   "outputs": [],
   "source": []
  }
 ],
 "metadata": {
  "anaconda-cloud": {},
  "kernelspec": {
   "display_name": "Python [default]",
   "language": "python",
   "name": "python3"
  },
  "language_info": {
   "codemirror_mode": {
    "name": "ipython",
    "version": 3
   },
   "file_extension": ".py",
   "mimetype": "text/x-python",
   "name": "python",
   "nbconvert_exporter": "python",
   "pygments_lexer": "ipython3",
   "version": "3.5.2"
  }
 },
 "nbformat": 4,
 "nbformat_minor": 1
}
